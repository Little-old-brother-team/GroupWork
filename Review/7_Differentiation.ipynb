{
 "cells": [
  {
   "cell_type": "markdown",
   "metadata": {},
   "source": [
    "# Differentiation\n",
    "\n",
    "## Content\n",
    "- Forward Difference\n",
    "- Backward ~\n",
    "- Central ~\n",
    "- Second Derivative and Higher\n",
    "- Derive Differentiation Formula\n",
    "\n",
    "## Forward Difference \n",
    "$$f^\\prime(x)=(f(x+h)-f(x))/h$$\n",
    "$$error \\approx y^{\\prime\\prime}h/2$$\n",
    "\n",
    "## Backward ~\n",
    "$$f^\\prime(x)=(f(x+h)-f(x))/h$$\n",
    "\n",
    "## Central ~\n",
    "$$f^\\prime(x)=(f(x+h/2)-f(x -h/2))/h$$\n",
    "$$error \\approx y^{(3)}h^2/24$$\n",
    "\n",
    "## Second Derivative and Higher\n",
    "(Central)  \n",
    "$$f^{(1)}(x_i) \\approx (f_{i+1}-f_{i-1})/(2h)$$\n",
    "$$f^{(2)}(x_i) \\approx (f_{i+1}-2f_{i}+f_{i-1})/(h^2)$$\n",
    "$$f^{(3)}(x_i) \\approx (f_{i+2}-2f_{i+1}-2f_{i-1}+f_{i-2})/(2h^3)$$\n",
    "$$f^{(4)}(x_i) \\approx (f_{i+2}-4f_{i+1}+6f_{i}-4f_{i-1}+f_{i-2})/(h^4)$$\n",
    "Other formula is in pdf (chapter 7).\n",
    "\n",
    "## Derive Differentiation Formula\n",
    "- Taylor Expansion:\n",
    "    1. Assume a form, such as: $f^{\\prime}(x) \\approx (af(x)+bf(x+h)+cf(x+2h))/(h)$.\n",
    "    2. Expand $f(x+\\lambda h)$ terms.\n",
    "    3. Solve parameters.\n",
    "\n",
    "- Interpolate with Newtonian polynomial\n",
    "    1. Interpolate some points by Newton method.\n",
    "    2. Differentiate the polynomial.\n",
    "\n"
   ]
  }
 ],
 "metadata": {
  "language_info": {
   "codemirror_mode": {
    "name": "ipython",
    "version": 3
   },
   "file_extension": ".py",
   "mimetype": "text/x-python",
   "name": "python",
   "nbconvert_exporter": "python",
   "pygments_lexer": "ipython3",
   "version": 3
  },
  "orig_nbformat": 2
 },
 "nbformat": 4,
 "nbformat_minor": 2
}