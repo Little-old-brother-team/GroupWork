{
 "cells": [
  {
   "cell_type": "markdown",
   "metadata": {},
   "source": [
    "# Schoridnger Equation\n",
    "## Content\n",
    "- TDSE: \n",
    "    - Crank-Nicolson Method\n",
    "    - Eigenvalue Problem \n",
    "- TISE: \n",
    "    - Matrix Representation Method\n",
    "    - Shooting Method \n",
    "    - Matching Method \n",
    "    - Numerov Method"
   ]
  },
  {
   "cell_type": "markdown",
   "metadata": {},
   "source": [
    "## Crank-Nicolson Method (TDSE)\n",
    "- Schordinger Equation:\n",
    "$$\n",
    "\\begin{aligned}\n",
    "\\cfrac{\\partial\\psi}{\\partial t}&=-iH\\psi\\\\\n",
    "H&=-\\cfrac{1}{2}\\cfrac{\\partial^{2}}{\\partial x^{2}}+V\n",
    "\\end{aligned}\n",
    "$$\n",
    "- Discretization:\n",
    "    $$\\psi_{m,j}\\equiv \\psi(x_m,t_j)$$\n",
    "    and H can be written as a matrix. S.E. becomes: \n",
    "    $$\\frac{\\psi_{m,j+1  }-\\psi_{m,j}}{\\Delta t}=-\\frac{iH}{2}\\left(  \\psi_{m,j+1}+\\psi_{m,j}\\right)$$\n",
    "- Recursion:\n",
    "    $$\n",
    "    \\begin{aligned}\n",
    "    \\left(  2i-\\Delta tH\\right)\\varphi_{m,j}  &  =4i \\psi_{m,j}\\\\\n",
    "    \\psi_{m,j+1 }  &  =\\varphi_{m,j}-\\psi_{m,j}\n",
    "    \\end{aligned}\n",
    "    $$"
   ]
  },
  {
   "cell_type": "markdown",
   "metadata": {},
   "source": [
    "## Eigenvalue Problem (TDSE)\n",
    "1. Shooting method: if $u(0)=u_{0}$ and $u(\\pi)=u_{1}$ are given,\n",
    "    - Integrate the equation with $u^\\prime(0)=$ $\\alpha$, a small quantity.\n",
    "    - Then we search for the root of $g(\\lambda)=u_{\\lambda}(\\pi)-u_{1}=0$ by varying $\\lambda$.\n",
    "    - When $g(\\lambda)=0$ is satisfied, we obtain an approximate eigenvalue   $\\lambda$ and the corresponding eigenstate from the normalized solution of $u_{\\lambda}(x)$.\n",
    "    \n",
    "2. Finite difference method: Just find the matrix's eigenvalue and eigenstate.\n",
    "\n",
    "3. Direct analytical solution: \n",
    "    $$\n",
    "    \\det\\left\\vert A_{ij}-\\lambda\\delta_{ij}\\right\\vert =0\n",
    "    $$\n"
   ]
  },
  {
   "cell_type": "markdown",
   "metadata": {},
   "source": [
    "## Matrix Representation Method (TISE)\n",
    "matrix representation of the position and momentum operators $\\hat{x}$ and $\\hat{p}$ in terms of the normalized eigenstates $|n\\rangle$ of a harmonic oscillator $\\hat{H}_0 = \\hat{p}^2/2m+m\\omega_0^2\n",
    "\\hat{x}^2/2$:\n",
    "$$\n",
    "\\begin{aligned}\n",
    "x&=\\frac{x_0}{\\sqrt{2}}\\left(\\begin{matrix}\n",
    "0 & \\sqrt{1} & 0 & 0 & \\cdots\\\\\n",
    "\\sqrt{1}&0 & \\sqrt{2}& 0 &\\cdots\\\\\n",
    "0 & \\sqrt{2} & 0 & \\sqrt{3} &\\cdots \\\\\n",
    "0 & 0 & \\sqrt{3} & 0 & \\cdots\\\\\n",
    "\\vdots & \\vdots &\\vdots & \\vdots & \\ddots \n",
    "\\end{matrix}\\right),\\; \n",
    "p=\\frac{ip_0}{\\sqrt{2}}\\left(\\begin{matrix}\n",
    "0 & -\\sqrt{1} & 0 & 0 & \\cdots\\\\\n",
    "\\sqrt{1}&0 & -\\sqrt{2}& 0 &\\cdots\\\\\n",
    "0 & \\sqrt{2} & 0 & -\\sqrt{3} &\\cdots \\\\\n",
    "0 & 0 & \\sqrt{3} & 0 & \\cdots\\\\\n",
    "\\vdots & \\vdots &\\vdots & \\vdots & \\ddots \n",
    "\\end{matrix}\\right)\\\\\n",
    "x_0&=\\left(\\frac{\\hbar}{m\\omega_0}\\right)^{1/2}=\\hbar^{1/2}s,\\quad p_0=\\left(\\hbar m\\omega_0\\right)^{1/2}=\\frac{\\hbar^{1/2}}{s},\\quad s=(m\\omega_0)^{-1/2}\n",
    "\\end{aligned}\n",
    "$$"
   ]
  },
  {
   "cell_type": "code",
   "execution_count": 17,
   "metadata": {},
   "outputs": [],
   "source": [
    "import numpy as np \n",
    "import numpy.linalg as la\n",
    "import scipy\n",
    "def potential(x):\n",
    "    # Morse potential\n",
    "    V = np.eye(x.shape[0]) - scipy.linalg.expm(-0.3*x)\n",
    "    return V@V\n",
    "\n",
    "def OscillatorAnalysis(N, omega, mass, potential):\n",
    "    # use Harmonic Oscillator's eigenstates as basis\n",
    "    # N: num of basis\n",
    "    # potential: callable, input x, return a matrix\n",
    "    s = 1/np.sqrt(mass*omega)\n",
    "    n = np.arange(1,N)\n",
    "    m = np.sqrt(n)\n",
    "    x = s/np.sqrt(2) * (np.diag(m,-1) + np.diag(m,1))\n",
    "    p = 1j/s/np.sqrt(2) * (np.diag(m,-1) - np.diag(m,1))\n",
    "\n",
    "    V = potential(x)\n",
    "    H = np.dot(p,p)/2/mass + V\n",
    "    EigVal, EigVec = la.eigh(H)\n",
    "    return EigVal[0], EigVec[:, 0]        # E[0] is the largest E, return the whole E is OK\n",
    "\n",
    "def GetEigState(EigVec, x, N):\n",
    "    # N: num of x grid\n",
    "    psi = np.zeros((N,len(x)))\n",
    "    for k in range(N):\n",
    "        #第k个基的值 psi_k(x)\n",
    "        psi[k,:] = (1/np.pi)**0.25/(np.sqrt(2.0**k)*np.sqrt(1.0*np.math.factorial(k)))*scipy.special.eval_hermite(k,x)*np.exp(-x**2/2)\n",
    "\n",
    "    return EigVec@psi"
   ]
  },
  {
   "cell_type": "code",
   "execution_count": 19,
   "metadata": {},
   "outputs": [
    {
     "output_type": "execute_result",
     "data": {
      "text/plain": "Text(0.5, 1.0, 'Energy: 0.20088')"
     },
     "metadata": {},
     "execution_count": 19
    },
    {
     "output_type": "display_data",
     "data": {
      "text/plain": "<Figure size 432x288 with 1 Axes>",
      "image/svg+xml": "<?xml version=\"1.0\" encoding=\"utf-8\" standalone=\"no\"?>\r\n<!DOCTYPE svg PUBLIC \"-//W3C//DTD SVG 1.1//EN\"\r\n  \"http://www.w3.org/Graphics/SVG/1.1/DTD/svg11.dtd\">\r\n<!-- Created with matplotlib (https://matplotlib.org/) -->\r\n<svg height=\"263.63625pt\" version=\"1.1\" viewBox=\"0 0 372.103125 263.63625\" width=\"372.103125pt\" xmlns=\"http://www.w3.org/2000/svg\" xmlns:xlink=\"http://www.w3.org/1999/xlink\">\r\n <defs>\r\n  <style type=\"text/css\">\r\n*{stroke-linecap:butt;stroke-linejoin:round;}\r\n  </style>\r\n </defs>\r\n <g id=\"figure_1\">\r\n  <g id=\"patch_1\">\r\n   <path d=\"M 0 263.63625 \r\nL 372.103125 263.63625 \r\nL 372.103125 0 \r\nL 0 0 \r\nz\r\n\" style=\"fill:none;\"/>\r\n  </g>\r\n  <g id=\"axes_1\">\r\n   <g id=\"patch_2\">\r\n    <path d=\"M 30.103125 239.758125 \r\nL 364.903125 239.758125 \r\nL 364.903125 22.318125 \r\nL 30.103125 22.318125 \r\nz\r\n\" style=\"fill:#ffffff;\"/>\r\n   </g>\r\n   <g id=\"matplotlib.axis_1\">\r\n    <g id=\"xtick_1\">\r\n     <g id=\"line2d_1\">\r\n      <defs>\r\n       <path d=\"M 0 0 \r\nL 0 3.5 \r\n\" id=\"mb56b3ad353\" style=\"stroke:#000000;stroke-width:0.8;\"/>\r\n      </defs>\r\n      <g>\r\n       <use style=\"stroke:#000000;stroke-width:0.8;\" x=\"55.139489\" xlink:href=\"#mb56b3ad353\" y=\"239.758125\"/>\r\n      </g>\r\n     </g>\r\n     <g id=\"text_1\">\r\n      <!-- −5 -->\r\n      <defs>\r\n       <path d=\"M 10.59375 35.5 \r\nL 73.1875 35.5 \r\nL 73.1875 27.203125 \r\nL 10.59375 27.203125 \r\nz\r\n\" id=\"DejaVuSans-8722\"/>\r\n       <path d=\"M 10.796875 72.90625 \r\nL 49.515625 72.90625 \r\nL 49.515625 64.59375 \r\nL 19.828125 64.59375 \r\nL 19.828125 46.734375 \r\nQ 21.96875 47.46875 24.109375 47.828125 \r\nQ 26.265625 48.1875 28.421875 48.1875 \r\nQ 40.625 48.1875 47.75 41.5 \r\nQ 54.890625 34.8125 54.890625 23.390625 \r\nQ 54.890625 11.625 47.5625 5.09375 \r\nQ 40.234375 -1.421875 26.90625 -1.421875 \r\nQ 22.3125 -1.421875 17.546875 -0.640625 \r\nQ 12.796875 0.140625 7.71875 1.703125 \r\nL 7.71875 11.625 \r\nQ 12.109375 9.234375 16.796875 8.0625 \r\nQ 21.484375 6.890625 26.703125 6.890625 \r\nQ 35.15625 6.890625 40.078125 11.328125 \r\nQ 45.015625 15.765625 45.015625 23.390625 \r\nQ 45.015625 31 40.078125 35.4375 \r\nQ 35.15625 39.890625 26.703125 39.890625 \r\nQ 22.75 39.890625 18.8125 39.015625 \r\nQ 14.890625 38.140625 10.796875 36.28125 \r\nz\r\n\" id=\"DejaVuSans-53\"/>\r\n      </defs>\r\n      <g transform=\"translate(47.768395 254.356563)scale(0.1 -0.1)\">\r\n       <use xlink:href=\"#DejaVuSans-8722\"/>\r\n       <use x=\"83.789062\" xlink:href=\"#DejaVuSans-53\"/>\r\n      </g>\r\n     </g>\r\n    </g>\r\n    <g id=\"xtick_2\">\r\n     <g id=\"line2d_2\">\r\n      <g>\r\n       <use style=\"stroke:#000000;stroke-width:0.8;\" x=\"104.230398\" xlink:href=\"#mb56b3ad353\" y=\"239.758125\"/>\r\n      </g>\r\n     </g>\r\n     <g id=\"text_2\">\r\n      <!-- 0 -->\r\n      <defs>\r\n       <path d=\"M 31.78125 66.40625 \r\nQ 24.171875 66.40625 20.328125 58.90625 \r\nQ 16.5 51.421875 16.5 36.375 \r\nQ 16.5 21.390625 20.328125 13.890625 \r\nQ 24.171875 6.390625 31.78125 6.390625 \r\nQ 39.453125 6.390625 43.28125 13.890625 \r\nQ 47.125 21.390625 47.125 36.375 \r\nQ 47.125 51.421875 43.28125 58.90625 \r\nQ 39.453125 66.40625 31.78125 66.40625 \r\nz\r\nM 31.78125 74.21875 \r\nQ 44.046875 74.21875 50.515625 64.515625 \r\nQ 56.984375 54.828125 56.984375 36.375 \r\nQ 56.984375 17.96875 50.515625 8.265625 \r\nQ 44.046875 -1.421875 31.78125 -1.421875 \r\nQ 19.53125 -1.421875 13.0625 8.265625 \r\nQ 6.59375 17.96875 6.59375 36.375 \r\nQ 6.59375 54.828125 13.0625 64.515625 \r\nQ 19.53125 74.21875 31.78125 74.21875 \r\nz\r\n\" id=\"DejaVuSans-48\"/>\r\n      </defs>\r\n      <g transform=\"translate(101.049148 254.356563)scale(0.1 -0.1)\">\r\n       <use xlink:href=\"#DejaVuSans-48\"/>\r\n      </g>\r\n     </g>\r\n    </g>\r\n    <g id=\"xtick_3\">\r\n     <g id=\"line2d_3\">\r\n      <g>\r\n       <use style=\"stroke:#000000;stroke-width:0.8;\" x=\"153.321307\" xlink:href=\"#mb56b3ad353\" y=\"239.758125\"/>\r\n      </g>\r\n     </g>\r\n     <g id=\"text_3\">\r\n      <!-- 5 -->\r\n      <g transform=\"translate(150.140057 254.356563)scale(0.1 -0.1)\">\r\n       <use xlink:href=\"#DejaVuSans-53\"/>\r\n      </g>\r\n     </g>\r\n    </g>\r\n    <g id=\"xtick_4\">\r\n     <g id=\"line2d_4\">\r\n      <g>\r\n       <use style=\"stroke:#000000;stroke-width:0.8;\" x=\"202.412216\" xlink:href=\"#mb56b3ad353\" y=\"239.758125\"/>\r\n      </g>\r\n     </g>\r\n     <g id=\"text_4\">\r\n      <!-- 10 -->\r\n      <defs>\r\n       <path d=\"M 12.40625 8.296875 \r\nL 28.515625 8.296875 \r\nL 28.515625 63.921875 \r\nL 10.984375 60.40625 \r\nL 10.984375 69.390625 \r\nL 28.421875 72.90625 \r\nL 38.28125 72.90625 \r\nL 38.28125 8.296875 \r\nL 54.390625 8.296875 \r\nL 54.390625 0 \r\nL 12.40625 0 \r\nz\r\n\" id=\"DejaVuSans-49\"/>\r\n      </defs>\r\n      <g transform=\"translate(196.049716 254.356563)scale(0.1 -0.1)\">\r\n       <use xlink:href=\"#DejaVuSans-49\"/>\r\n       <use x=\"63.623047\" xlink:href=\"#DejaVuSans-48\"/>\r\n      </g>\r\n     </g>\r\n    </g>\r\n    <g id=\"xtick_5\">\r\n     <g id=\"line2d_5\">\r\n      <g>\r\n       <use style=\"stroke:#000000;stroke-width:0.8;\" x=\"251.503125\" xlink:href=\"#mb56b3ad353\" y=\"239.758125\"/>\r\n      </g>\r\n     </g>\r\n     <g id=\"text_5\">\r\n      <!-- 15 -->\r\n      <g transform=\"translate(245.140625 254.356563)scale(0.1 -0.1)\">\r\n       <use xlink:href=\"#DejaVuSans-49\"/>\r\n       <use x=\"63.623047\" xlink:href=\"#DejaVuSans-53\"/>\r\n      </g>\r\n     </g>\r\n    </g>\r\n    <g id=\"xtick_6\">\r\n     <g id=\"line2d_6\">\r\n      <g>\r\n       <use style=\"stroke:#000000;stroke-width:0.8;\" x=\"300.594034\" xlink:href=\"#mb56b3ad353\" y=\"239.758125\"/>\r\n      </g>\r\n     </g>\r\n     <g id=\"text_6\">\r\n      <!-- 20 -->\r\n      <defs>\r\n       <path d=\"M 19.1875 8.296875 \r\nL 53.609375 8.296875 \r\nL 53.609375 0 \r\nL 7.328125 0 \r\nL 7.328125 8.296875 \r\nQ 12.9375 14.109375 22.625 23.890625 \r\nQ 32.328125 33.6875 34.8125 36.53125 \r\nQ 39.546875 41.84375 41.421875 45.53125 \r\nQ 43.3125 49.21875 43.3125 52.78125 \r\nQ 43.3125 58.59375 39.234375 62.25 \r\nQ 35.15625 65.921875 28.609375 65.921875 \r\nQ 23.96875 65.921875 18.8125 64.3125 \r\nQ 13.671875 62.703125 7.8125 59.421875 \r\nL 7.8125 69.390625 \r\nQ 13.765625 71.78125 18.9375 73 \r\nQ 24.125 74.21875 28.421875 74.21875 \r\nQ 39.75 74.21875 46.484375 68.546875 \r\nQ 53.21875 62.890625 53.21875 53.421875 \r\nQ 53.21875 48.921875 51.53125 44.890625 \r\nQ 49.859375 40.875 45.40625 35.40625 \r\nQ 44.1875 33.984375 37.640625 27.21875 \r\nQ 31.109375 20.453125 19.1875 8.296875 \r\nz\r\n\" id=\"DejaVuSans-50\"/>\r\n      </defs>\r\n      <g transform=\"translate(294.231534 254.356563)scale(0.1 -0.1)\">\r\n       <use xlink:href=\"#DejaVuSans-50\"/>\r\n       <use x=\"63.623047\" xlink:href=\"#DejaVuSans-48\"/>\r\n      </g>\r\n     </g>\r\n    </g>\r\n    <g id=\"xtick_7\">\r\n     <g id=\"line2d_7\">\r\n      <g>\r\n       <use style=\"stroke:#000000;stroke-width:0.8;\" x=\"349.684943\" xlink:href=\"#mb56b3ad353\" y=\"239.758125\"/>\r\n      </g>\r\n     </g>\r\n     <g id=\"text_7\">\r\n      <!-- 25 -->\r\n      <g transform=\"translate(343.322443 254.356563)scale(0.1 -0.1)\">\r\n       <use xlink:href=\"#DejaVuSans-50\"/>\r\n       <use x=\"63.623047\" xlink:href=\"#DejaVuSans-53\"/>\r\n      </g>\r\n     </g>\r\n    </g>\r\n   </g>\r\n   <g id=\"matplotlib.axis_2\">\r\n    <g id=\"ytick_1\">\r\n     <g id=\"line2d_8\">\r\n      <defs>\r\n       <path d=\"M 0 0 \r\nL -3.5 0 \r\n\" id=\"md35e498fa3\" style=\"stroke:#000000;stroke-width:0.8;\"/>\r\n      </defs>\r\n      <g>\r\n       <use style=\"stroke:#000000;stroke-width:0.8;\" x=\"30.103125\" xlink:href=\"#md35e498fa3\" y=\"229.874489\"/>\r\n      </g>\r\n     </g>\r\n     <g id=\"text_8\">\r\n      <!-- 0.0 -->\r\n      <defs>\r\n       <path d=\"M 10.6875 12.40625 \r\nL 21 12.40625 \r\nL 21 0 \r\nL 10.6875 0 \r\nz\r\n\" id=\"DejaVuSans-46\"/>\r\n      </defs>\r\n      <g transform=\"translate(7.2 233.673707)scale(0.1 -0.1)\">\r\n       <use xlink:href=\"#DejaVuSans-48\"/>\r\n       <use x=\"63.623047\" xlink:href=\"#DejaVuSans-46\"/>\r\n       <use x=\"95.410156\" xlink:href=\"#DejaVuSans-48\"/>\r\n      </g>\r\n     </g>\r\n    </g>\r\n    <g id=\"ytick_2\">\r\n     <g id=\"line2d_9\">\r\n      <g>\r\n       <use style=\"stroke:#000000;stroke-width:0.8;\" x=\"30.103125\" xlink:href=\"#md35e498fa3\" y=\"196.169327\"/>\r\n      </g>\r\n     </g>\r\n     <g id=\"text_9\">\r\n      <!-- 0.1 -->\r\n      <g transform=\"translate(7.2 199.968546)scale(0.1 -0.1)\">\r\n       <use xlink:href=\"#DejaVuSans-48\"/>\r\n       <use x=\"63.623047\" xlink:href=\"#DejaVuSans-46\"/>\r\n       <use x=\"95.410156\" xlink:href=\"#DejaVuSans-49\"/>\r\n      </g>\r\n     </g>\r\n    </g>\r\n    <g id=\"ytick_3\">\r\n     <g id=\"line2d_10\">\r\n      <g>\r\n       <use style=\"stroke:#000000;stroke-width:0.8;\" x=\"30.103125\" xlink:href=\"#md35e498fa3\" y=\"162.464165\"/>\r\n      </g>\r\n     </g>\r\n     <g id=\"text_10\">\r\n      <!-- 0.2 -->\r\n      <g transform=\"translate(7.2 166.263384)scale(0.1 -0.1)\">\r\n       <use xlink:href=\"#DejaVuSans-48\"/>\r\n       <use x=\"63.623047\" xlink:href=\"#DejaVuSans-46\"/>\r\n       <use x=\"95.410156\" xlink:href=\"#DejaVuSans-50\"/>\r\n      </g>\r\n     </g>\r\n    </g>\r\n    <g id=\"ytick_4\">\r\n     <g id=\"line2d_11\">\r\n      <g>\r\n       <use style=\"stroke:#000000;stroke-width:0.8;\" x=\"30.103125\" xlink:href=\"#md35e498fa3\" y=\"128.759004\"/>\r\n      </g>\r\n     </g>\r\n     <g id=\"text_11\">\r\n      <!-- 0.3 -->\r\n      <defs>\r\n       <path d=\"M 40.578125 39.3125 \r\nQ 47.65625 37.796875 51.625 33 \r\nQ 55.609375 28.21875 55.609375 21.1875 \r\nQ 55.609375 10.40625 48.1875 4.484375 \r\nQ 40.765625 -1.421875 27.09375 -1.421875 \r\nQ 22.515625 -1.421875 17.65625 -0.515625 \r\nQ 12.796875 0.390625 7.625 2.203125 \r\nL 7.625 11.71875 \r\nQ 11.71875 9.328125 16.59375 8.109375 \r\nQ 21.484375 6.890625 26.8125 6.890625 \r\nQ 36.078125 6.890625 40.9375 10.546875 \r\nQ 45.796875 14.203125 45.796875 21.1875 \r\nQ 45.796875 27.640625 41.28125 31.265625 \r\nQ 36.765625 34.90625 28.71875 34.90625 \r\nL 20.21875 34.90625 \r\nL 20.21875 43.015625 \r\nL 29.109375 43.015625 \r\nQ 36.375 43.015625 40.234375 45.921875 \r\nQ 44.09375 48.828125 44.09375 54.296875 \r\nQ 44.09375 59.90625 40.109375 62.90625 \r\nQ 36.140625 65.921875 28.71875 65.921875 \r\nQ 24.65625 65.921875 20.015625 65.03125 \r\nQ 15.375 64.15625 9.8125 62.3125 \r\nL 9.8125 71.09375 \r\nQ 15.4375 72.65625 20.34375 73.4375 \r\nQ 25.25 74.21875 29.59375 74.21875 \r\nQ 40.828125 74.21875 47.359375 69.109375 \r\nQ 53.90625 64.015625 53.90625 55.328125 \r\nQ 53.90625 49.265625 50.4375 45.09375 \r\nQ 46.96875 40.921875 40.578125 39.3125 \r\nz\r\n\" id=\"DejaVuSans-51\"/>\r\n      </defs>\r\n      <g transform=\"translate(7.2 132.558222)scale(0.1 -0.1)\">\r\n       <use xlink:href=\"#DejaVuSans-48\"/>\r\n       <use x=\"63.623047\" xlink:href=\"#DejaVuSans-46\"/>\r\n       <use x=\"95.410156\" xlink:href=\"#DejaVuSans-51\"/>\r\n      </g>\r\n     </g>\r\n    </g>\r\n    <g id=\"ytick_5\">\r\n     <g id=\"line2d_12\">\r\n      <g>\r\n       <use style=\"stroke:#000000;stroke-width:0.8;\" x=\"30.103125\" xlink:href=\"#md35e498fa3\" y=\"95.053842\"/>\r\n      </g>\r\n     </g>\r\n     <g id=\"text_12\">\r\n      <!-- 0.4 -->\r\n      <defs>\r\n       <path d=\"M 37.796875 64.3125 \r\nL 12.890625 25.390625 \r\nL 37.796875 25.390625 \r\nz\r\nM 35.203125 72.90625 \r\nL 47.609375 72.90625 \r\nL 47.609375 25.390625 \r\nL 58.015625 25.390625 \r\nL 58.015625 17.1875 \r\nL 47.609375 17.1875 \r\nL 47.609375 0 \r\nL 37.796875 0 \r\nL 37.796875 17.1875 \r\nL 4.890625 17.1875 \r\nL 4.890625 26.703125 \r\nz\r\n\" id=\"DejaVuSans-52\"/>\r\n      </defs>\r\n      <g transform=\"translate(7.2 98.853061)scale(0.1 -0.1)\">\r\n       <use xlink:href=\"#DejaVuSans-48\"/>\r\n       <use x=\"63.623047\" xlink:href=\"#DejaVuSans-46\"/>\r\n       <use x=\"95.410156\" xlink:href=\"#DejaVuSans-52\"/>\r\n      </g>\r\n     </g>\r\n    </g>\r\n    <g id=\"ytick_6\">\r\n     <g id=\"line2d_13\">\r\n      <g>\r\n       <use style=\"stroke:#000000;stroke-width:0.8;\" x=\"30.103125\" xlink:href=\"#md35e498fa3\" y=\"61.34868\"/>\r\n      </g>\r\n     </g>\r\n     <g id=\"text_13\">\r\n      <!-- 0.5 -->\r\n      <g transform=\"translate(7.2 65.147899)scale(0.1 -0.1)\">\r\n       <use xlink:href=\"#DejaVuSans-48\"/>\r\n       <use x=\"63.623047\" xlink:href=\"#DejaVuSans-46\"/>\r\n       <use x=\"95.410156\" xlink:href=\"#DejaVuSans-53\"/>\r\n      </g>\r\n     </g>\r\n    </g>\r\n    <g id=\"ytick_7\">\r\n     <g id=\"line2d_14\">\r\n      <g>\r\n       <use style=\"stroke:#000000;stroke-width:0.8;\" x=\"30.103125\" xlink:href=\"#md35e498fa3\" y=\"27.643519\"/>\r\n      </g>\r\n     </g>\r\n     <g id=\"text_14\">\r\n      <!-- 0.6 -->\r\n      <defs>\r\n       <path d=\"M 33.015625 40.375 \r\nQ 26.375 40.375 22.484375 35.828125 \r\nQ 18.609375 31.296875 18.609375 23.390625 \r\nQ 18.609375 15.53125 22.484375 10.953125 \r\nQ 26.375 6.390625 33.015625 6.390625 \r\nQ 39.65625 6.390625 43.53125 10.953125 \r\nQ 47.40625 15.53125 47.40625 23.390625 \r\nQ 47.40625 31.296875 43.53125 35.828125 \r\nQ 39.65625 40.375 33.015625 40.375 \r\nz\r\nM 52.59375 71.296875 \r\nL 52.59375 62.3125 \r\nQ 48.875 64.0625 45.09375 64.984375 \r\nQ 41.3125 65.921875 37.59375 65.921875 \r\nQ 27.828125 65.921875 22.671875 59.328125 \r\nQ 17.53125 52.734375 16.796875 39.40625 \r\nQ 19.671875 43.65625 24.015625 45.921875 \r\nQ 28.375 48.1875 33.59375 48.1875 \r\nQ 44.578125 48.1875 50.953125 41.515625 \r\nQ 57.328125 34.859375 57.328125 23.390625 \r\nQ 57.328125 12.15625 50.6875 5.359375 \r\nQ 44.046875 -1.421875 33.015625 -1.421875 \r\nQ 20.359375 -1.421875 13.671875 8.265625 \r\nQ 6.984375 17.96875 6.984375 36.375 \r\nQ 6.984375 53.65625 15.1875 63.9375 \r\nQ 23.390625 74.21875 37.203125 74.21875 \r\nQ 40.921875 74.21875 44.703125 73.484375 \r\nQ 48.484375 72.75 52.59375 71.296875 \r\nz\r\n\" id=\"DejaVuSans-54\"/>\r\n      </defs>\r\n      <g transform=\"translate(7.2 31.442737)scale(0.1 -0.1)\">\r\n       <use xlink:href=\"#DejaVuSans-48\"/>\r\n       <use x=\"63.623047\" xlink:href=\"#DejaVuSans-46\"/>\r\n       <use x=\"95.410156\" xlink:href=\"#DejaVuSans-54\"/>\r\n      </g>\r\n     </g>\r\n    </g>\r\n   </g>\r\n   <g id=\"line2d_15\">\r\n    <path clip-path=\"url(#pcc3e6d282f)\" d=\"M 45.321307 229.874471 \r\nL 60.569986 229.774388 \r\nL 63.619722 229.542245 \r\nL 65.449563 229.237444 \r\nL 67.279405 228.710508 \r\nL 68.499299 228.178607 \r\nL 69.719194 227.4514 \r\nL 70.939088 226.476853 \r\nL 72.158982 225.195878 \r\nL 73.378877 223.543414 \r\nL 74.598771 221.450153 \r\nL 75.818665 218.844911 \r\nL 77.03856 215.657605 \r\nL 78.258454 211.822698 \r\nL 79.478348 207.282973 \r\nL 80.698243 201.993391 \r\nL 81.918137 195.924822 \r\nL 83.747978 185.345656 \r\nL 85.57782 173.057675 \r\nL 87.407661 159.243851 \r\nL 89.84745 138.994981 \r\nL 97.166816 76.456518 \r\nL 98.996658 63.267256 \r\nL 100.826499 52.046732 \r\nL 102.046393 45.839935 \r\nL 103.266288 40.745515 \r\nL 104.486182 36.81689 \r\nL 105.096129 35.299832 \r\nL 105.706076 34.083333 \r\nL 106.316024 33.167368 \r\nL 106.925971 32.550514 \r\nL 107.535918 32.229997 \r\nL 108.145865 32.201761 \r\nL 108.755812 32.460538 \r\nL 109.365759 32.999918 \r\nL 109.975707 33.812439 \r\nL 110.585654 34.889664 \r\nL 111.805548 37.800173 \r\nL 113.025442 41.647982 \r\nL 114.245337 46.339927 \r\nL 115.465231 51.776063 \r\nL 117.295073 61.097801 \r\nL 119.734861 75.155916 \r\nL 123.394544 98.122193 \r\nL 128.274122 128.767242 \r\nL 131.323857 146.388426 \r\nL 133.763646 159.169888 \r\nL 136.203435 170.627753 \r\nL 138.033276 178.322246 \r\nL 139.863118 185.252208 \r\nL 141.692959 191.441783 \r\nL 143.522801 196.927757 \r\nL 145.352642 201.755694 \r\nL 147.182484 205.976638 \r\nL 149.012325 209.644397 \r\nL 150.842167 212.813374 \r\nL 152.672008 215.536899 \r\nL 154.50185 217.866014 \r\nL 156.331691 219.848627 \r\nL 158.161533 221.528982 \r\nL 159.991374 222.947386 \r\nL 161.821216 224.140121 \r\nL 164.261004 225.434716 \r\nL 166.700793 226.451403 \r\nL 169.140582 227.24551 \r\nL 172.190318 227.993832 \r\nL 175.850001 228.624776 \r\nL 180.119631 229.105149 \r\nL 185.609155 229.466879 \r\nL 192.928521 229.702669 \r\nL 205.127465 229.835109 \r\nL 236.844717 229.87373 \r\nL 349.684943 229.874489 \r\nL 349.684943 229.874489 \r\n\" style=\"fill:none;stroke:#1f77b4;stroke-linecap:square;stroke-width:1.5;\"/>\r\n   </g>\r\n   <g id=\"patch_3\">\r\n    <path d=\"M 30.103125 239.758125 \r\nL 30.103125 22.318125 \r\n\" style=\"fill:none;stroke:#000000;stroke-linecap:square;stroke-linejoin:miter;stroke-width:0.8;\"/>\r\n   </g>\r\n   <g id=\"patch_4\">\r\n    <path d=\"M 364.903125 239.758125 \r\nL 364.903125 22.318125 \r\n\" style=\"fill:none;stroke:#000000;stroke-linecap:square;stroke-linejoin:miter;stroke-width:0.8;\"/>\r\n   </g>\r\n   <g id=\"patch_5\">\r\n    <path d=\"M 30.103125 239.758125 \r\nL 364.903125 239.758125 \r\n\" style=\"fill:none;stroke:#000000;stroke-linecap:square;stroke-linejoin:miter;stroke-width:0.8;\"/>\r\n   </g>\r\n   <g id=\"patch_6\">\r\n    <path d=\"M 30.103125 22.318125 \r\nL 364.903125 22.318125 \r\n\" style=\"fill:none;stroke:#000000;stroke-linecap:square;stroke-linejoin:miter;stroke-width:0.8;\"/>\r\n   </g>\r\n   <g id=\"text_15\">\r\n    <!-- Energy: 0.20088 -->\r\n    <defs>\r\n     <path d=\"M 9.8125 72.90625 \r\nL 55.90625 72.90625 \r\nL 55.90625 64.59375 \r\nL 19.671875 64.59375 \r\nL 19.671875 43.015625 \r\nL 54.390625 43.015625 \r\nL 54.390625 34.71875 \r\nL 19.671875 34.71875 \r\nL 19.671875 8.296875 \r\nL 56.78125 8.296875 \r\nL 56.78125 0 \r\nL 9.8125 0 \r\nz\r\n\" id=\"DejaVuSans-69\"/>\r\n     <path d=\"M 54.890625 33.015625 \r\nL 54.890625 0 \r\nL 45.90625 0 \r\nL 45.90625 32.71875 \r\nQ 45.90625 40.484375 42.875 44.328125 \r\nQ 39.84375 48.1875 33.796875 48.1875 \r\nQ 26.515625 48.1875 22.3125 43.546875 \r\nQ 18.109375 38.921875 18.109375 30.90625 \r\nL 18.109375 0 \r\nL 9.078125 0 \r\nL 9.078125 54.6875 \r\nL 18.109375 54.6875 \r\nL 18.109375 46.1875 \r\nQ 21.34375 51.125 25.703125 53.5625 \r\nQ 30.078125 56 35.796875 56 \r\nQ 45.21875 56 50.046875 50.171875 \r\nQ 54.890625 44.34375 54.890625 33.015625 \r\nz\r\n\" id=\"DejaVuSans-110\"/>\r\n     <path d=\"M 56.203125 29.59375 \r\nL 56.203125 25.203125 \r\nL 14.890625 25.203125 \r\nQ 15.484375 15.921875 20.484375 11.0625 \r\nQ 25.484375 6.203125 34.421875 6.203125 \r\nQ 39.59375 6.203125 44.453125 7.46875 \r\nQ 49.3125 8.734375 54.109375 11.28125 \r\nL 54.109375 2.78125 \r\nQ 49.265625 0.734375 44.1875 -0.34375 \r\nQ 39.109375 -1.421875 33.890625 -1.421875 \r\nQ 20.796875 -1.421875 13.15625 6.1875 \r\nQ 5.515625 13.8125 5.515625 26.8125 \r\nQ 5.515625 40.234375 12.765625 48.109375 \r\nQ 20.015625 56 32.328125 56 \r\nQ 43.359375 56 49.78125 48.890625 \r\nQ 56.203125 41.796875 56.203125 29.59375 \r\nz\r\nM 47.21875 32.234375 \r\nQ 47.125 39.59375 43.09375 43.984375 \r\nQ 39.0625 48.390625 32.421875 48.390625 \r\nQ 24.90625 48.390625 20.390625 44.140625 \r\nQ 15.875 39.890625 15.1875 32.171875 \r\nz\r\n\" id=\"DejaVuSans-101\"/>\r\n     <path d=\"M 41.109375 46.296875 \r\nQ 39.59375 47.171875 37.8125 47.578125 \r\nQ 36.03125 48 33.890625 48 \r\nQ 26.265625 48 22.1875 43.046875 \r\nQ 18.109375 38.09375 18.109375 28.8125 \r\nL 18.109375 0 \r\nL 9.078125 0 \r\nL 9.078125 54.6875 \r\nL 18.109375 54.6875 \r\nL 18.109375 46.1875 \r\nQ 20.953125 51.171875 25.484375 53.578125 \r\nQ 30.03125 56 36.53125 56 \r\nQ 37.453125 56 38.578125 55.875 \r\nQ 39.703125 55.765625 41.0625 55.515625 \r\nz\r\n\" id=\"DejaVuSans-114\"/>\r\n     <path d=\"M 45.40625 27.984375 \r\nQ 45.40625 37.75 41.375 43.109375 \r\nQ 37.359375 48.484375 30.078125 48.484375 \r\nQ 22.859375 48.484375 18.828125 43.109375 \r\nQ 14.796875 37.75 14.796875 27.984375 \r\nQ 14.796875 18.265625 18.828125 12.890625 \r\nQ 22.859375 7.515625 30.078125 7.515625 \r\nQ 37.359375 7.515625 41.375 12.890625 \r\nQ 45.40625 18.265625 45.40625 27.984375 \r\nz\r\nM 54.390625 6.78125 \r\nQ 54.390625 -7.171875 48.1875 -13.984375 \r\nQ 42 -20.796875 29.203125 -20.796875 \r\nQ 24.46875 -20.796875 20.265625 -20.09375 \r\nQ 16.0625 -19.390625 12.109375 -17.921875 \r\nL 12.109375 -9.1875 \r\nQ 16.0625 -11.328125 19.921875 -12.34375 \r\nQ 23.78125 -13.375 27.78125 -13.375 \r\nQ 36.625 -13.375 41.015625 -8.765625 \r\nQ 45.40625 -4.15625 45.40625 5.171875 \r\nL 45.40625 9.625 \r\nQ 42.625 4.78125 38.28125 2.390625 \r\nQ 33.9375 0 27.875 0 \r\nQ 17.828125 0 11.671875 7.65625 \r\nQ 5.515625 15.328125 5.515625 27.984375 \r\nQ 5.515625 40.671875 11.671875 48.328125 \r\nQ 17.828125 56 27.875 56 \r\nQ 33.9375 56 38.28125 53.609375 \r\nQ 42.625 51.21875 45.40625 46.390625 \r\nL 45.40625 54.6875 \r\nL 54.390625 54.6875 \r\nz\r\n\" id=\"DejaVuSans-103\"/>\r\n     <path d=\"M 32.171875 -5.078125 \r\nQ 28.375 -14.84375 24.75 -17.8125 \r\nQ 21.140625 -20.796875 15.09375 -20.796875 \r\nL 7.90625 -20.796875 \r\nL 7.90625 -13.28125 \r\nL 13.1875 -13.28125 \r\nQ 16.890625 -13.28125 18.9375 -11.515625 \r\nQ 21 -9.765625 23.484375 -3.21875 \r\nL 25.09375 0.875 \r\nL 2.984375 54.6875 \r\nL 12.5 54.6875 \r\nL 29.59375 11.921875 \r\nL 46.6875 54.6875 \r\nL 56.203125 54.6875 \r\nz\r\n\" id=\"DejaVuSans-121\"/>\r\n     <path d=\"M 11.71875 12.40625 \r\nL 22.015625 12.40625 \r\nL 22.015625 0 \r\nL 11.71875 0 \r\nz\r\nM 11.71875 51.703125 \r\nL 22.015625 51.703125 \r\nL 22.015625 39.3125 \r\nL 11.71875 39.3125 \r\nz\r\n\" id=\"DejaVuSans-58\"/>\r\n     <path id=\"DejaVuSans-32\"/>\r\n     <path d=\"M 31.78125 34.625 \r\nQ 24.75 34.625 20.71875 30.859375 \r\nQ 16.703125 27.09375 16.703125 20.515625 \r\nQ 16.703125 13.921875 20.71875 10.15625 \r\nQ 24.75 6.390625 31.78125 6.390625 \r\nQ 38.8125 6.390625 42.859375 10.171875 \r\nQ 46.921875 13.96875 46.921875 20.515625 \r\nQ 46.921875 27.09375 42.890625 30.859375 \r\nQ 38.875 34.625 31.78125 34.625 \r\nz\r\nM 21.921875 38.8125 \r\nQ 15.578125 40.375 12.03125 44.71875 \r\nQ 8.5 49.078125 8.5 55.328125 \r\nQ 8.5 64.0625 14.71875 69.140625 \r\nQ 20.953125 74.21875 31.78125 74.21875 \r\nQ 42.671875 74.21875 48.875 69.140625 \r\nQ 55.078125 64.0625 55.078125 55.328125 \r\nQ 55.078125 49.078125 51.53125 44.71875 \r\nQ 48 40.375 41.703125 38.8125 \r\nQ 48.828125 37.15625 52.796875 32.3125 \r\nQ 56.78125 27.484375 56.78125 20.515625 \r\nQ 56.78125 9.90625 50.3125 4.234375 \r\nQ 43.84375 -1.421875 31.78125 -1.421875 \r\nQ 19.734375 -1.421875 13.25 4.234375 \r\nQ 6.78125 9.90625 6.78125 20.515625 \r\nQ 6.78125 27.484375 10.78125 32.3125 \r\nQ 14.796875 37.15625 21.921875 38.8125 \r\nz\r\nM 18.3125 54.390625 \r\nQ 18.3125 48.734375 21.84375 45.5625 \r\nQ 25.390625 42.390625 31.78125 42.390625 \r\nQ 38.140625 42.390625 41.71875 45.5625 \r\nQ 45.3125 48.734375 45.3125 54.390625 \r\nQ 45.3125 60.0625 41.71875 63.234375 \r\nQ 38.140625 66.40625 31.78125 66.40625 \r\nQ 25.390625 66.40625 21.84375 63.234375 \r\nQ 18.3125 60.0625 18.3125 54.390625 \r\nz\r\n\" id=\"DejaVuSans-56\"/>\r\n    </defs>\r\n    <g transform=\"translate(147.658125 16.318125)scale(0.12 -0.12)\">\r\n     <use xlink:href=\"#DejaVuSans-69\"/>\r\n     <use x=\"63.183594\" xlink:href=\"#DejaVuSans-110\"/>\r\n     <use x=\"126.5625\" xlink:href=\"#DejaVuSans-101\"/>\r\n     <use x=\"188.085938\" xlink:href=\"#DejaVuSans-114\"/>\r\n     <use x=\"229.183594\" xlink:href=\"#DejaVuSans-103\"/>\r\n     <use x=\"292.660156\" xlink:href=\"#DejaVuSans-121\"/>\r\n     <use x=\"351.730469\" xlink:href=\"#DejaVuSans-58\"/>\r\n     <use x=\"385.421875\" xlink:href=\"#DejaVuSans-32\"/>\r\n     <use x=\"417.208984\" xlink:href=\"#DejaVuSans-48\"/>\r\n     <use x=\"480.832031\" xlink:href=\"#DejaVuSans-46\"/>\r\n     <use x=\"512.619141\" xlink:href=\"#DejaVuSans-50\"/>\r\n     <use x=\"576.242188\" xlink:href=\"#DejaVuSans-48\"/>\r\n     <use x=\"639.865234\" xlink:href=\"#DejaVuSans-48\"/>\r\n     <use x=\"703.488281\" xlink:href=\"#DejaVuSans-56\"/>\r\n     <use x=\"767.111328\" xlink:href=\"#DejaVuSans-56\"/>\r\n    </g>\r\n   </g>\r\n  </g>\r\n </g>\r\n <defs>\r\n  <clipPath id=\"pcc3e6d282f\">\r\n   <rect height=\"217.44\" width=\"334.8\" x=\"30.103125\" y=\"22.318125\"/>\r\n  </clipPath>\r\n </defs>\r\n</svg>\r\n",
      "image/png": "[encoded data removed]"
     },
     "metadata": {
      "needs_background": "light"
     }
    }
   ],
   "source": [
    "# test: Morse potential\n",
    "import matplotlib.pyplot as plt\n",
    "\n",
    "N = 170\n",
    "E, V = OscillatorAnalysis(N, 1, 1, potential)\n",
    "x = np.linspace(-6, 25, 500)\n",
    "EigState = GetEigState(V, x, N)\n",
    "\n",
    "plt.plot(x, EigState)\n",
    "plt.title(f\"Energy: {E:.5f}\")"
   ]
  },
  {
   "cell_type": "markdown",
   "metadata": {},
   "source": [
    "# Shooting Method\n",
    "1. Discretize:\n",
    "    $$-\\frac{\\hbar^2}{2m}\\frac{d^2\\psi}{dx^2}\\approx -\\frac{\\hbar^2}{2m}\\frac{\\psi_{n+1}+\\psi_{n-1}-2\\psi_n}{(\\delta x)^2}\\approx (E-V_n)\\psi_n$$\n",
    "    Shoot:\n",
    "    $$\\psi_{n+1}=2\\psi_n-\\psi_{n-1}-2(\\Delta x)^2(E-V_n)\\psi_n$$\n",
    "\n",
    "2. If $V$ is symetrical, Integral on half of the interval. \n",
    "3. Initial value:\n",
    "    - Even parity: $\\psi_0=1,\\quad \\psi^\\prime_0=0,\\quad \\psi_1=1$\n",
    "    - Odd parity: $\\psi_0=0,\\quad \\psi^\\prime_0=1,\\quad\n",
    "    \\psi_1 = \\Delta x$\n",
    "4. Target: $\\psi_N=0$"
   ]
  },
  {
   "cell_type": "code",
   "execution_count": null,
   "metadata": {},
   "outputs": [],
   "source": [
    "# from HJH\n",
    "def potential(x):\n",
    "    # potential\n",
    "    return ###\n",
    "\n",
    "def se_shooting(E=0.1, parity='even', dx=0.01, dE=0.01, b=5, xmax=6):\n",
    "    # initial guess of energy E, increment dE\n",
    "    # wavefunction with define k1, k2\n",
    "    # step size of x grid dx\n",
    "    # cutoff parameter b \n",
    "    \n",
    "    x = np.arange(0, xmax+dx, dx)\n",
    "    N = len(x)\n",
    "\n",
    "    def initialize_psi(N,dx,parity='even'):\n",
    "        # intialize wave function\n",
    "        psi = np.zeros(N)\n",
    "\n",
    "        if parity == 'even':\n",
    "            # initial condition of even partiy solution\n",
    "            psi[0] = 1\n",
    "            psi[1] = psi[0]\n",
    "        else:\n",
    "            # initial condition of odd partiy solution\n",
    "            psi[0] = 0\n",
    "            psi[1] = dx\n",
    "        return psi  \n",
    "   \n",
    "    psi = initialize_psi(N,dx,parity)\n",
    "    tol = 0.5e-5   # stopping criterion, if wave function converges\n",
    "\n",
    "    # initialize last_diverge which keeps tracks of the direction of the divergin trned\n",
    "    last_diverge = 0 # we don't kow this direction a priori\n",
    "\n",
    "    dx2 = dx * dx\n",
    "    while True:\n",
    "        for i in range(2,N-2):\n",
    "            psi[i] = 2*psi[i-1] - psi[i-2] - 2 * (E - potential(x[i-1])) * psi[i-1] * dx2\n",
    "            if abs(psi[i]) > b:\n",
    "                break\n",
    "\n",
    "        if abs(dE) < tol:\n",
    "            break\n",
    "\n",
    "        if psi[i] * last_diverge < 0:\n",
    "            dE = -dE / 2\n",
    "        E = E + dE\n",
    "        last_diverge = np.sign(psi[i])\n",
    "    \n",
    "    xi = np.concatenate([-x[-1:0:-1],x])                   \n",
    "\n",
    "    if psi[0] == 0:\n",
    "        psii = np.concatenate([-psi[-1:0:-1],psi])\n",
    "    else:\n",
    "        psii = np.concatenate([psi[-1:0:-1],psi])\n",
    "    psii = psii / np.sqrt(np.sum(psii * psii)) # normalisation\n",
    "\n",
    "    return E,xi,psii "
   ]
  },
  {
   "cell_type": "markdown",
   "metadata": {},
   "source": [
    "## Matching Method\n",
    "- Integrate from left and right, and match near the minimum of the potential. "
   ]
  },
  {
   "cell_type": "markdown",
   "metadata": {},
   "source": [
    "## Numerov Method\n",
    "pass"
   ]
  }
 ],
 "metadata": {
  "language_info": {
   "codemirror_mode": {
    "name": "ipython",
    "version": 3
   },
   "file_extension": ".py",
   "mimetype": "text/x-python",
   "name": "python",
   "nbconvert_exporter": "python",
   "pygments_lexer": "ipython3",
   "version": "3.8.1-final"
  },
  "orig_nbformat": 2,
  "kernelspec": {
   "name": "python38164bitcomphyconda41ef7e8703e24105a5d41c126a80d481",
   "display_name": "Python 3.8.1 64-bit ('ComPhy': conda)"
  }
 },
 "nbformat": 4,
 "nbformat_minor": 2
}