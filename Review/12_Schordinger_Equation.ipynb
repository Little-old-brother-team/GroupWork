{
 "cells": [
  {
   "cell_type": "markdown",
   "metadata": {},
   "source": [
    "# Schoridnger Equation\n",
    "## Content\n",
    "- TDSE: \n",
    "    - Crank-Nicolson Method\n",
    "    - Eigenvalue Problem \n",
    "- TISE: \n",
    "    - Matrix Representation Method\n",
    "    - Shooting Method \n",
    "    - Matching Method \n",
    "    - Numerov Method"
   ]
  },
  {
   "cell_type": "markdown",
   "metadata": {},
   "source": [
    "## Crank-Nicolson Method (TDSE)\n",
    "- Schordinger Equation:\n",
    "$$\n",
    "\\begin{aligned}\n",
    "\\cfrac{\\partial\\psi}{\\partial t}&=-iH\\psi\\\\\n",
    "H&=-\\cfrac{1}{2}\\cfrac{\\partial^{2}}{\\partial x^{2}}+V\n",
    "\\end{aligned}\n",
    "$$\n",
    "- Discretization:\n",
    "    $$\\psi_{m,j}\\equiv \\psi(x_m,t_j)$$\n",
    "    and H can be written as a matrix. S.E. becomes: \n",
    "    $$\\frac{\\psi_{m,j+1  }-\\psi_{m,j}}{\\Delta t}=-\\frac{iH}{2}\\left(  \\psi_{m,j+1}+\\psi_{m,j}\\right)$$\n",
    "- Recursion:\n",
    "    $$\n",
    "    \\begin{aligned}\n",
    "    \\left(  2i-\\Delta tH\\right)\\varphi_{m,j}  &  =4i \\psi_{m,j}\\\\\n",
    "    \\psi_{m,j+1 }  &  =\\varphi_{m,j}-\\psi_{m,j}\n",
    "    \\end{aligned}\n",
    "    $$"
   ]
  },
  {
   "cell_type": "markdown",
   "metadata": {},
   "source": [
    "## Eigenvalue Problem (TDSE)\n",
    "1. Shooting method: if $u(0)=u_{0}$ and $u(\\pi)=u_{1}$ are given,\n",
    "    - Integrate the equation with $u^\\prime(0)=$ $\\alpha$, a small quantity.\n",
    "    - Then we search for the root of $g(\\lambda)=u_{\\lambda}(\\pi)-u_{1}=0$ by varying $\\lambda$.\n",
    "    - When $g(\\lambda)=0$ is satisfied, we obtain an approximate eigenvalue   $\\lambda$ and the corresponding eigenstate from the normalized solution of $u_{\\lambda}(x)$.\n",
    "    \n",
    "2. Finite difference method: Just find the matrix's eigenvalue and eigenstate.\n",
    "\n",
    "3. Direct analytical solution: \n",
    "    $$\n",
    "    \\det\\left\\vert A_{ij}-\\lambda\\delta_{ij}\\right\\vert =0\n",
    "    $$\n"
   ]
  }
 ],
 "metadata": {
  "language_info": {
   "codemirror_mode": {
    "name": "ipython",
    "version": 3
   },
   "file_extension": ".py",
   "mimetype": "text/x-python",
   "name": "python",
   "nbconvert_exporter": "python",
   "pygments_lexer": "ipython3",
   "version": 3
  },
  "orig_nbformat": 2
 },
 "nbformat": 4,
 "nbformat_minor": 2
}