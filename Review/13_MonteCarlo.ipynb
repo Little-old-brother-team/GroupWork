{
 "cells": [
  {
   "cell_type": "markdown",
   "metadata": {},
   "source": [
    "# Monte Carlo\n",
    "## Content\n",
    "- Random Number\n",
    "- Random Walk"
   ]
  },
  {
   "cell_type": "markdown",
   "metadata": {},
   "source": [
    "## Random Number\n",
    "1. Use `numpy.random.rand()` to generate uniform random number. Use `np.random.seed(int(time.time()*1000%2**32))` to change a seed if needed. \n",
    "2. Other distribution: transformation method.\n",
    "$$p(x)dx=f(y)dy$$\n",
    "Exp: Exponential distribution.  \n",
    "$f(y)=1$ (uniform) in 0 ~ 1, and target $p(x)=e^{-x}$ \n",
    "$$p(x)dx = dy$$\n",
    "by integral:\n",
    "$$y(x)-y(0)=1-e^{-x}$$\n",
    "set $y(0)=0$:\n",
    "$$x=-ln(1-y)$$\n"
   ]
  },
  {
   "cell_type": "markdown",
   "metadata": {},
   "source": [
    "## Random Walk\n"
   ]
  },
  {
   "cell_type": "code",
   "execution_count": null,
   "metadata": {},
   "outputs": [],
   "source": [
    "def RandomWalk2D(N, dtype=np.float32):\n",
    "    np.random.seed(int(time.time() * 1000 % 2**32))\n",
    "    steps = np.random.rand(N, 2) - 0.5\n",
    "    steps = steps / np.reshape(np.sqrt(np.sum(steps**2, axis=1, dtype=dtype)), (N, 1))\n",
    "\n",
    "    pos = np.zeros((N+1, 2))\n",
    "    for i in range(N):\n",
    "        pos[i+1, :] = pos[i] + steps[i]\n",
    "    \n",
    "    return pos"
   ]
  }
 ],
 "metadata": {
  "language_info": {
   "codemirror_mode": {
    "name": "ipython",
    "version": 3
   },
   "file_extension": ".py",
   "mimetype": "text/x-python",
   "name": "python",
   "nbconvert_exporter": "python",
   "pygments_lexer": "ipython3",
   "version": 3
  },
  "orig_nbformat": 2
 },
 "nbformat": 4,
 "nbformat_minor": 2
}