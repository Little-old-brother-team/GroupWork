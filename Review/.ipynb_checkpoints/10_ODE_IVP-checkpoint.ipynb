{
 "cells": [
  {
   "cell_type": "markdown",
   "metadata": {},
   "source": [
    "## ODE IVP\n",
    "\n",
    "Solve $\\frac{dy}{dt} = f(t,y)$ with given $y_0$"
   ]
  },
  {
   "cell_type": "markdown",
   "metadata": {},
   "source": [
    "### Euler method\n",
    "$$\n",
    "y_{n+1} = y_n + f\\Delta t\n",
    "$$\n",
    "error is proportional to $\\Delta t$"
   ]
  },
  {
   "cell_type": "code",
   "execution_count": null,
   "metadata": {},
   "outputs": [],
   "source": [
    "# forward euler algorithm\n",
    "for n in range(0, len(t) - 1):\n",
    "    y[n+1] = y[n] + dt * f(y[n],t[n])"
   ]
  },
  {
   "cell_type": "markdown",
   "metadata": {},
   "source": [
    "### Runge-Kutta Algorithm\n",
    "rk2: $$y(t+\\Delta t) = y(t) + \\Delta t[Af(t,y(t))+Bf(t+P\\Delta t,y+Q\\Delta f(t,y(t)))]$$\n",
    "\n",
    "Different rk2 method has unique *A,B,P,Q*\n",
    "\n",
    "1. Modified Euler-Cauchy: A = 0, B = 1 ,P = Q = $\\frac{1}{2}$\n",
    "\n",
    "2. Heun's method (Picard's method): A = B = $\\frac{1}{2}$, P = Q = 1\n",
    "\n",
    "3. Ralston's Method: A = $\\frac{1}{3}$, B = $\\frac{2}{3}$, P = Q = $\\frac{3}{4}$\n"
   ]
  },
  {
   "cell_type": "code",
   "execution_count": 1,
   "metadata": {},
   "outputs": [],
   "source": [
    "# RK2 method\n",
    "# Heun's method\n",
    "\n",
    "def RK2_Heun(f,t,y0):\n",
    "    dt = (t[-1]-t[0])/len(t)\n",
    "    A, B = 1./2, 1./2\n",
    "    P, Q = 1, 1\n",
    "    # modified Euler Rk2\n",
    "    # ...\n",
    "    y_rk2 = np.zeros(len(t))\n",
    "    y_rk2[0] = y0\n",
    "    for n in range(0, len(t) - 1):\n",
    "        k1 = f(y_rk2[n], t[n])\n",
    "        k2 = f(y_rk2[n] + Q*dt*k1, t[n] + P*dt)\n",
    "        y_rk2[n+1] = y_rk2[n] + dt * (A * k1 + B * k2)\n",
    "    return y_rk2"
   ]
  },
  {
   "cell_type": "code",
   "execution_count": 2,
   "metadata": {},
   "outputs": [],
   "source": [
    "# RK4\n",
    "#...\n",
    "def RK4(f,t,y0):\n",
    "    dt = (t[-1]-t[0])/len(t)\n",
    "    y_rk4 = np.zeros(len(t))\n",
    "    y_rk4[0] = y0\n",
    "    for n in range(0, len(t) - 1):\n",
    "        k1 = f(y_rk4[n], t[n])\n",
    "        k2 = f(y_rk4[n] + 0.5*dt*k1, t[n] + 0.5*dt )\n",
    "        k3 = f(y_rk4[n] + 0.5*dt*k2, t[n] + 0.5*dt, )\n",
    "        k4 = f(y_rk4[n] + dt*k3, t[n] + dt)\n",
    "        y_rk4[n+1] = y_rk4[n] + dt * (k1 +  2 * k2 + 2 * k3 + k4)/6\n",
    "    return y_rk4"
   ]
  },
  {
   "cell_type": "markdown",
   "metadata": {},
   "source": [
    "Explicit method: based on previous point(s) \n",
    "\n",
    "Implicit method: use future points being sought."
   ]
  },
  {
   "cell_type": "markdown",
   "metadata": {},
   "source": [
    "- 2nd order Adams-Bashforth scheme\n",
    "$$y_{n+1} = y_n +\\frac{\\Delta t}{2}[3f_n-f_{n-1}]$$\n",
    "- backward Euler scheme\n",
    "$$y_{n+1} = y_n + \\Delta t\\cdot f(t_{n+1},y_{n+1})$$\n",
    "- Predicator-corrector method\n",
    " - predictoer(Adams-Bashforth)\n",
    " $$y_{n+1}^P=y_n+\\frac{\\Delta t}{2}[3f_n-f_{n-1}]$$\n",
    " - corrector(Adams-Moulton):\n",
    " $$y_{n+1} = y_n + \\frac{\\Delta t}{2}[f(t_n,y_n)+f(t_{n+1},y_{n+1}^P)]$$\n",
    " \n",
    "- Heun's Predictor-Corrector Method\n",
    " - predictor Euler's method\n",
    " $$y_{n+1}^1 = y_n + hf(t_n,y_n)$$\n",
    " - Corrector Heun's method\n",
    " $$y_{n+1}^{k+1}=y_n+\\frac{1}{2}h(f(t_n,y_n)+f(t_{n+1},y_{n+1}^k))$$\n",
    " - repead corrector until:\n",
    " $$\\left|\\frac{y_{n+1}^{k+1}-y_{n+1}^k}{y_{n+1}^{k+1}}\\right|\\le\\epsilon$$"
   ]
  },
  {
   "cell_type": "markdown",
   "metadata": {},
   "source": [
    "## Error Analysis\n",
    "### local error\n",
    "$$\\epsilon_n = y(t_n) - y_n$$\n",
    "- Euler ~ $h^2$\n",
    "- RK2 ~ $h^3$\n",
    "- RK4 ~ $h^5$\n",
    "\n",
    "### global error\n",
    "- Euler ~ $h$\n",
    "- RK2 ~ $h^2$\n",
    "- RK4 ~ $h^4$"
   ]
  },
  {
   "cell_type": "code",
   "execution_count": null,
   "metadata": {},
   "outputs": [],
   "source": [
    "from scipy.integrate import odeint\n",
    "odeint(func,y0,t)"
   ]
  }
 ],
 "metadata": {
  "kernelspec": {
   "display_name": "Python 3",
   "language": "python",
   "name": "python3"
  },
  "language_info": {
   "codemirror_mode": {
    "name": "ipython",
    "version": 3
   },
   "file_extension": ".py",
   "mimetype": "text/x-python",
   "name": "python",
   "nbconvert_exporter": "python",
   "pygments_lexer": "ipython3",
   "version": "3.7.0"
  }
 },
 "nbformat": 4,
 "nbformat_minor": 2
}
