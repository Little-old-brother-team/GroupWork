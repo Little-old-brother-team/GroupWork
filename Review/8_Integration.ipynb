{
 "cells": [
  {
   "cell_type": "markdown",
   "metadata": {},
   "source": [
    "# Integration\n",
    "\n",
    "## Content\n",
    "- Trapezoid Rule\n",
    "- Midpoint Rule\n",
    "- Simpson's Rule\n",
    "- Romberg Integration\n"
   ]
  },
  {
   "cell_type": "markdown",
   "metadata": {},
   "source": [
    "## Trapizoid Rule (composit)\n",
    "$$\n",
    "\\int_{a}^{b}f\\left(  x\\right)  dx\\simeq\\frac{h}{2}f_{1}+hf_{2}+hf_{3}+\\cdots\n",
    "hf_{N-1}+\\frac{h}{2}f_{N}\n",
    "$$\n",
    "$$\n",
    "\\begin{aligned}\n",
    "error = -\\frac{\\left(  b-a\\right)  h^{2}}{12}\\left\\langle\n",
    "f^{\\left(  2\\right)  }\\right\\rangle\n",
    "\\end{aligned}\n",
    "$$"
   ]
  },
  {
   "cell_type": "code",
   "execution_count": 6,
   "metadata": {},
   "outputs": [],
   "source": [
    "import numpy as np\n",
    "def TrapezoidInt(f, a, b, n):\n",
    "    h = (b-a)/n\n",
    "    x = np.linspace(a, b, n+1)\n",
    "    s = np.sum(f(x)) - 0.5*f(a) - 0.5*f(b)\n",
    "    return h*s"
   ]
  },
  {
   "cell_type": "markdown",
   "metadata": {},
   "source": [
    "## Midpoint Rule\n",
    "very similar to trapizoid rule.  \n",
    "pass"
   ]
  },
  {
   "cell_type": "code",
   "execution_count": 7,
   "metadata": {},
   "outputs": [],
   "source": [
    "import numpy as np\n",
    "def MidpointInt(f, a, b, n):\n",
    "    h = (b-a)/n\n",
    "    x = np.linspace(a + h/2, b - h/2, n)\n",
    "    return h*np.sum(f(x))"
   ]
  },
  {
   "cell_type": "markdown",
   "metadata": {},
   "source": [
    "## Simpson's Rule\n",
    "Assume the target function is a **parabola**. By using a spacial parabola, we get the integration:\n",
    "$$\n",
    "\\int_a^{a+h} f(x)dx \\approx h(\\frac{1}{3}f(a) + \\frac{4}{3}f(a+h/2) + \\frac{1}{3}f(a+h))\n",
    "$$\n",
    "or:\n",
    "$$\n",
    "\\int_{a}^{b}f\\left(  x\\right)  dx\\simeq\\frac{h}{3}f_{0}+\\frac{4h}{3}%\n",
    "f_{1}+\\frac{2h}{3}f_{2}+\\frac{4h}{3}f_{3}+\\cdots+\\frac{4h}{3}f_{N-2}+\\frac\n",
    "{h}{3}f_{N-1}%\n",
    "$$\n",
    "\n",
    "$$\n",
    "w_{i}=\\left\\{  \\dfrac{h}{3},\\dfrac{4h}{3},\\dfrac{2h}{3},\\dfrac{4h}{3},\\cdots\n",
    ",\\dfrac{4h}{3},\\dfrac{h}{3}\\right\\}  \\;\\text{(Simpson's rule)}\n",
    "$$\n",
    "$$\n",
    "\\begin{aligned}\n",
    "error = -\\frac{\\left(  b-a\\right)  h^{4}}{180}\\left\\langle\n",
    "f^{\\left(  4\\right)  }\\right\\rangle\n",
    "\\end{aligned}\n",
    "$$"
   ]
  },
  {
   "cell_type": "code",
   "execution_count": 8,
   "metadata": {
    "tags": []
   },
   "outputs": [],
   "source": [
    "import numpy as np\n",
    "def SimpsonInt(f, a, b, n):\n",
    "    half_n = n // 2\n",
    "    h = (b - a) / half_n / 2\n",
    "    x = np.linspace(a, b, half_n * 2 + 1)\n",
    "    w = np.zeros((half_n * 2 + 1))\n",
    "    w[1::2] = 4 * h / 3\n",
    "    w[0::2] = 2 * h / 3\n",
    "    w[0] = h / 3\n",
    "    w[-1] = h / 3\n",
    "\n",
    "    return np.sum(w * f(x))"
   ]
  },
  {
   "cell_type": "markdown",
   "metadata": {},
   "source": [
    "## Romberg Integration\n",
    "Cancel $h^2$, $h^4$... terms by iteration.  \n",
    "Exp:  \n",
    "$$\n",
    "\\begin{aligned}\n",
    "A_1(h)&\\approx \\int_a^b f(x)dx+\\alpha h^2 +\\beta h^4 + \\cdots \\\\\n",
    "A_1\\left(\\dfrac{h}{2}\\right)&\\approx \\int_a^b f(x)dx+\\frac{\\alpha h^2}{4} +\\frac{\\beta h^4}{16} + \\cdots\n",
    "\\end{aligned}\n",
    "$$\n",
    "make the $h^2$ term vanish\n",
    "$$\n",
    "\\begin{aligned}\n",
    "A_2(h) = &\\underbrace{\\frac{4}{3}A_1\\left(\\dfrac{h}{2}\\right)-\\frac{1}{3}A_1(h)}_\\text{fourth order approximation}\\approx \\int_a^b f(x)dx\\underbrace{-\\frac{\\beta h^4}{4}}_\\text{truncation error}\\\\\n",
    "&E \\approx -\\frac{\\beta h^4}{4}\n",
    "\\end{aligned}\n",
    "$$\n",
    "With $A_2(\\frac{h}{2})$ by the same method, we will get $A_3(h)$"
   ]
  },
  {
   "cell_type": "code",
   "execution_count": 9,
   "metadata": {},
   "outputs": [],
   "source": [
    "import numpy as np \n",
    "# use midpoint rule as basic function\n",
    "def RombergInt(f, a, b, n, max_order):\n",
    "    order = (max_order + 1) // 2\n",
    "    Integral = np.zeros((order))\n",
    "    for i in range(order):\n",
    "        Integral[i] = MidpointInt(f, a, b, n)\n",
    "        n *= 2\n",
    "    for i in range(order-1):\n",
    "        Integral[i] = (4**(i+1) * Integral[i+1] - Integral[i]) / (4**(i+1) - 1)\n",
    "    return Integral[0]"
   ]
  },
  {
   "cell_type": "code",
   "execution_count": 10,
   "metadata": {
    "tags": []
   },
   "outputs": [
    {
     "output_type": "stream",
     "name": "stdout",
     "text": "Trapizoid:\t0.8616842014751049\nMidpoint:\t0.8588791915343401\nSimpson:\t0.8598194057491064\nRomberg:\t0.8598135430647446\nReal:\t\t0.8598138470272318\n"
    }
   ],
   "source": [
    "# test \n",
    "f = lambda x: 1 / (x+1) + x**5\n",
    "print(f\"Trapizoid:\\t{TrapezoidInt(f, 0, 1, 16):.16f}\")\n",
    "print(f\"Midpoint:\\t{MidpointInt(f, 0, 1, 16):.16f}\")\n",
    "print(f\"Simpson:\\t{SimpsonInt(f, 0, 1, 16):.16f}\")\n",
    "print(f\"Romberg:\\t{RombergInt(f, 0, 1, 16, max_order=4):.16f}\")\n",
    "print(f\"Real:\\t\\t{RombergInt(f, 0, 1, 100, max_order=4):.16f}\")\n"
   ]
  }
 ],
 "metadata": {
  "language_info": {
   "codemirror_mode": {
    "name": "ipython",
    "version": 3
   },
   "file_extension": ".py",
   "mimetype": "text/x-python",
   "name": "python",
   "nbconvert_exporter": "python",
   "pygments_lexer": "ipython3",
   "version": "3.8.1-final"
  },
  "orig_nbformat": 2,
  "kernelspec": {
   "name": "python38164bitcomphyconda41ef7e8703e24105a5d41c126a80d481",
   "display_name": "Python 3.8.1 64-bit ('ComPhy': conda)"
  }
 },
 "nbformat": 4,
 "nbformat_minor": 2
}