{
 "cells": [
  {
   "cell_type": "markdown",
   "metadata": {},
   "source": [
    "Ref： Jaan Kiusalaas, Numerical methods in engineering with python 3, \n",
    "Cambridge university press,2013\n",
    "Section 3.2 Polynomial interpolation\n",
    "p. 106-108"
   ]
  },
  {
   "cell_type": "code",
   "execution_count": 1,
   "metadata": {},
   "outputs": [],
   "source": [
    "def newton_coeff(xData, yData):\n",
    "    # determine the coefficients of Newton polynomials\n",
    "    a = yData.copy()\n",
    "    m = len(xData)\n",
    "    for k in range(1,m):  # m=n+1: number of data points\n",
    "        for i in range(k,m):\n",
    "            a[i] = (a[i] - a[k-1])/(xData[i] - xData[k-1])\n",
    "    return a\n",
    "\n",
    "def newton_eval(a,xData, x):\n",
    "    # determine the interpolation value at x\n",
    "    m = len(xData)\n",
    "    n = m - 1\n",
    "    p = a[n]\n",
    "    for k in range(1,m):\n",
    "        p = a[n-k] + (x - xData[n-k])*p\n",
    "    return p"
   ]
  },
  {
   "cell_type": "code",
   "execution_count": 2,
   "metadata": {},
   "outputs": [],
   "source": [
    "%matplotlib inline\n",
    "import matplotlib.pyplot as plt\n",
    "from numpy import array, linspace\n",
    "def test_newton_interpolation():\n",
    "    xData, yData = (array([0,1,2,4]), array([-12,-12,-24,-60]))\n",
    "    a = newton_coeff(xData, yData)\n",
    "    x = linspace(min(xData), max(xData), 100, endpoint=True)\n",
    "    y = newton_eval(a, xData, x)\n",
    "    plt.plot(xData,yData,'o')\n",
    "    plt.plot(x,y)\n",
    "    plt.legend(['Data','Newton Interpolation'])"
   ]
  },
  {
   "cell_type": "code",
   "execution_count": 3,
   "metadata": {},
   "outputs": [
    {
     "data": {
      "image/png": "[encoded data removed]",
      "text/plain": [
       "<Figure size 432x288 with 1 Axes>"
      ]
     },
     "metadata": {
      "needs_background": "light"
     },
     "output_type": "display_data"
    }
   ],
   "source": [
    "if __name__ == '__main__':\n",
    "    test_newton_interpolation()"
   ]
  },
  {
   "cell_type": "code",
   "execution_count": null,
   "metadata": {},
   "outputs": [],
   "source": []
  }
 ],
 "metadata": {
  "kernelspec": {
   "display_name": "Python 3",
   "language": "python",
   "name": "python3"
  },
  "language_info": {
   "codemirror_mode": {
    "name": "ipython",
    "version": 3
   },
   "file_extension": ".py",
   "mimetype": "text/x-python",
   "name": "python",
   "nbconvert_exporter": "python",
   "pygments_lexer": "ipython3",
   "version": "3.7.0"
  }
 },
 "nbformat": 4,
 "nbformat_minor": 4
}
