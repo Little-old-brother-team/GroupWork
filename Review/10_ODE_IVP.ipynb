{
 "cells": [
  {
   "cell_type": "markdown",
   "metadata": {},
   "source": [
    "## ODE IVP\n",
    "\n",
    "Solve $\\frac{dy}{dt} = f(t,y)$ with given $y_0$"
   ]
  },
  {
   "cell_type": "markdown",
   "metadata": {},
   "source": [
    "### Euler method\n",
    "$$\n",
    "y_{n+1} = y_n + f\\Delta t\n",
    "$$\n",
    "error is proportional to $\\Delta t$"
   ]
  },
  {
   "cell_type": "code",
   "execution_count": null,
   "metadata": {},
   "outputs": [],
   "source": [
    "# forward euler algorithm\n",
    "for n in range(0, len(t) - 1):\n",
    "    y[n+1] = y[n] + dt * f(y[n],t[n])"
   ]
  },
  {
   "cell_type": "markdown",
   "metadata": {},
   "source": [
    "### Runge-Kutta Algorithm\n",
    "rk2: $$y(t+\\Delta t) = y(t) + \\Delta t[Af(t,y(t))+Bf(t+P\\Delta t,y+Q\\Delta f(t,y(t)))]$$\n",
    "\n",
    "Different rk2 method has unique *A,B,P,Q*\n",
    "\n",
    "1. Modified Euler-Cauchy: A = 0, B = 1 ,P = Q = $\\frac{1}{2}$\n",
    "\n",
    "2. Heun's method (Picard's method): A = B = $\\frac{1}{2}$, P = Q = 1\n",
    "\n",
    "3. Ralston's Method: A = $\\frac{1}{3}$, B = $\\frac{2}{3}$, P = Q = $\\frac{3}{4}$\n"
   ]
  },
  {
   "cell_type": "code",
   "execution_count": null,
   "metadata": {},
   "outputs": [],
   "source": [
    "# RK2 method\n",
    "# Heun's method\n",
    "A, B = 1./2, 1./2\n",
    "P, Q = 1, 1\n",
    "# modified Euler Rk2\n",
    "# ...\n",
    "y_rk2 = np.zeros(len(t))\n",
    "y_rk2[0] = 1\n",
    "for n in range(0, len(t) - 1):\n",
    "    k1 = f(y[n], t[n])\n",
    "    k2 = f(y[n] + Q*dt*k1, t[n] + P*dt)\n",
    "    y_rk2[n+1] = y_rk2[n] + dt * (A * k1 + B * k2)"
   ]
  },
  {
   "cell_type": "code",
   "execution_count": null,
   "metadata": {},
   "outputs": [],
   "source": [
    "# RK4\n",
    "#...\n",
    "y_rk4 = np.zeros(len(t))\n",
    "y_rk4[0] = 1\n",
    "for n in range(0, len(t) - 1):\n",
    "    k1 = f(y[n], t[n])\n",
    "    k2 = f(y[n] + 0.5*dt*k1, t[n] + 0.5*dt )\n",
    "    k3 = f(y[n] + 0.5*dt*k2, t[n] + 0.5*dt, )\n",
    "    k4 = f(y[n] + dt*k3, t[n] + dt)\n",
    "    y_rk4[n+1] = y_rk4[n] + dt * (k1 +  2 * k2 + 2 * k3 + k4)/6"
   ]
  },
  {
   "cell_type": "markdown",
   "metadata": {},
   "source": [
    "Explicit method: based on previous point(s) \n",
    "\n",
    "Implicit method: use future points being sought."
   ]
  }
 ],
 "metadata": {
  "language_info": {
   "codemirror_mode": {
    "name": "ipython",
    "version": 3
   },
   "file_extension": ".py",
   "mimetype": "text/x-python",
   "name": "python",
   "nbconvert_exporter": "python",
   "pygments_lexer": "ipython3",
   "version": 3
  },
  "orig_nbformat": 2
 },
 "nbformat": 4,
 "nbformat_minor": 2
}