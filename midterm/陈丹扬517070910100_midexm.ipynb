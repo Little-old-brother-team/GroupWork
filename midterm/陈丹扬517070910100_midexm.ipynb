{
 "cells": [
  {
   "cell_type": "markdown",
   "metadata": {},
   "source": [
    "# <center>Computational Physics</center>\n",
    "\n",
    "# <center>Midterm Exam 2019-2020-2</center>\n",
    "\n",
    "## Instructions:\n",
    "- Please downloand the `CP_midexam_2019-2020-2.pdf` and `CP_name_ID_midexam.ipynb`. \n",
    "- You shall include the **code** of the selected problems in the file and submit it before the due time.\n",
    "- You are required to write your name and student ID in the **filename**.\n",
    "- Please read the problems carefully and follow the instructions before you start to solve them. \n",
    "- Please write your solutions on the exam paper and submit the copy of it before the due time. You are required to **write your name and student ID on each piece of exam paper**.\n",
    "- You are required to turn on your video throughout the exam."
   ]
  },
  {
   "cell_type": "markdown",
   "metadata": {},
   "source": [
    "### Problem 1   (20 points) \n",
    "\n",
    "The value of $\\pi$ can be calculated with the series: \n",
    "$$\n",
    "\\pi = 4 \\sum\\limits_{n=1}^{\\infty}\\left(-1\\right)^{n-1}\\frac{1}{2n - 1}=4\\left(\n",
    "1-\\frac{1}{ 3}+\\frac{1}{ 5}-\\frac{1}{ 7}+\\frac{1}{9}-\\frac{1}{11}+\\cdots\\right)\n",
    "$$\n",
    "(1) Describe your algorithm that calculates the value of $\\pi$. Discuss the possible  sources of errors. How can you minimize the errors when you design your algorithm?      \n",
    "(2) Write a program to implement your algorithm and calculate the value of $\\pi$ with five decimal points.      \n",
    "(3) Use the program to calculate $\\pi$ and the true relative error for: $n = 10, 20, 40,100, 200$.     \n",
    "(4) Make a $\\log-\\log$ plot of the results from part (3).     \n",
    "**You need to submit your code for part (2) - (4)!**"
   ]
  },
  {
   "cell_type": "markdown",
   "metadata": {},
   "source": [
    "(1) 我采用一正一负两两合并再从小到大累加的方法。由于是从小到大累加，我首先根据设定的误差，估计一个最大迭代轮次，然后使用for循环，累加各项。误差主要来自于截断误差（只考虑有限项）与舍入误差（计算机精度限制）。我才用从小加到大与两两合并的方式来减少舍入误差，并估计一个尽量大的累加轮次来减少截断误差。"
   ]
  },
  {
   "cell_type": "code",
   "execution_count": 106,
   "metadata": {},
   "outputs": [
    {
     "output_type": "stream",
     "name": "stdout",
     "text": "(2)Pi value: 3.1415914\n"
    }
   ],
   "source": [
    "# (2)\n",
    "import numpy as np \n",
    "def GetPi(eps, max_rd=None):\n",
    "    # since error ~ 4 / (4N+1)\n",
    "    if max_rd == None:\n",
    "        N = int((4 / eps))\n",
    "    else:\n",
    "        N = max_rd\n",
    "\n",
    "    rd = 0\n",
    "    sum_pi = 0\n",
    "    for i in np.linspace(N, 0, N+1):\n",
    "        sum_pi += 4 / (4*i + 1) - 4 / (4*i + 3)\n",
    "\n",
    "    return sum_pi\n",
    "\n",
    "print(f\"(2)Pi value: {GetPi(1e-5):.7f}\")"
   ]
  },
  {
   "cell_type": "code",
   "execution_count": 107,
   "metadata": {},
   "outputs": [
    {
     "output_type": "display_data",
     "data": {
      "text/plain": "<Figure size 432x288 with 1 Axes>",
      "image/svg+xml": "<?xml version=\"1.0\" encoding=\"utf-8\" standalone=\"no\"?>\r\n<!DOCTYPE svg PUBLIC \"-//W3C//DTD SVG 1.1//EN\"\r\n  \"http://www.w3.org/Graphics/SVG/1.1/DTD/svg11.dtd\">\r\n<!-- Created with matplotlib (https://matplotlib.org/) -->\r\n<svg height=\"277.314375pt\" version=\"1.1\" viewBox=\"0 0 394.160938 277.314375\" width=\"394.160938pt\" xmlns=\"http://www.w3.org/2000/svg\" xmlns:xlink=\"http://www.w3.org/1999/xlink\">\r\n <defs>\r\n  <style type=\"text/css\">\r\n*{stroke-linecap:butt;stroke-linejoin:round;}\r\n  </style>\r\n </defs>\r\n <g id=\"figure_1\">\r\n  <g id=\"patch_1\">\r\n   <path d=\"M 0 277.314375 \r\nL 394.160938 277.314375 \r\nL 394.160938 0 \r\nL 0 0 \r\nz\r\n\" style=\"fill:none;\"/>\r\n  </g>\r\n  <g id=\"axes_1\">\r\n   <g id=\"patch_2\">\r\n    <path d=\"M 52.160938 239.758125 \r\nL 386.960938 239.758125 \r\nL 386.960938 22.318125 \r\nL 52.160938 22.318125 \r\nz\r\n\" style=\"fill:#ffffff;\"/>\r\n   </g>\r\n   <g id=\"matplotlib.axis_1\">\r\n    <g id=\"xtick_1\">\r\n     <g id=\"line2d_1\">\r\n      <defs>\r\n       <path d=\"M 0 0 \r\nL 0 3.5 \r\n\" id=\"mbf2e32e0a9\" style=\"stroke:#000000;stroke-width:0.8;\"/>\r\n      </defs>\r\n      <g>\r\n       <use style=\"stroke:#000000;stroke-width:0.8;\" x=\"67.379119\" xlink:href=\"#mbf2e32e0a9\" y=\"239.758125\"/>\r\n      </g>\r\n     </g>\r\n     <g id=\"text_1\">\r\n      <!-- 1.0 -->\r\n      <defs>\r\n       <path d=\"M 12.40625 8.296875 \r\nL 28.515625 8.296875 \r\nL 28.515625 63.921875 \r\nL 10.984375 60.40625 \r\nL 10.984375 69.390625 \r\nL 28.421875 72.90625 \r\nL 38.28125 72.90625 \r\nL 38.28125 8.296875 \r\nL 54.390625 8.296875 \r\nL 54.390625 0 \r\nL 12.40625 0 \r\nz\r\n\" id=\"DejaVuSans-49\"/>\r\n       <path d=\"M 10.6875 12.40625 \r\nL 21 12.40625 \r\nL 21 0 \r\nL 10.6875 0 \r\nz\r\n\" id=\"DejaVuSans-46\"/>\r\n       <path d=\"M 31.78125 66.40625 \r\nQ 24.171875 66.40625 20.328125 58.90625 \r\nQ 16.5 51.421875 16.5 36.375 \r\nQ 16.5 21.390625 20.328125 13.890625 \r\nQ 24.171875 6.390625 31.78125 6.390625 \r\nQ 39.453125 6.390625 43.28125 13.890625 \r\nQ 47.125 21.390625 47.125 36.375 \r\nQ 47.125 51.421875 43.28125 58.90625 \r\nQ 39.453125 66.40625 31.78125 66.40625 \r\nz\r\nM 31.78125 74.21875 \r\nQ 44.046875 74.21875 50.515625 64.515625 \r\nQ 56.984375 54.828125 56.984375 36.375 \r\nQ 56.984375 17.96875 50.515625 8.265625 \r\nQ 44.046875 -1.421875 31.78125 -1.421875 \r\nQ 19.53125 -1.421875 13.0625 8.265625 \r\nQ 6.59375 17.96875 6.59375 36.375 \r\nQ 6.59375 54.828125 13.0625 64.515625 \r\nQ 19.53125 74.21875 31.78125 74.21875 \r\nz\r\n\" id=\"DejaVuSans-48\"/>\r\n      </defs>\r\n      <g transform=\"translate(59.427557 254.356562)scale(0.1 -0.1)\">\r\n       <use xlink:href=\"#DejaVuSans-49\"/>\r\n       <use x=\"63.623047\" xlink:href=\"#DejaVuSans-46\"/>\r\n       <use x=\"95.410156\" xlink:href=\"#DejaVuSans-48\"/>\r\n      </g>\r\n     </g>\r\n    </g>\r\n    <g id=\"xtick_2\">\r\n     <g id=\"line2d_2\">\r\n      <g>\r\n       <use style=\"stroke:#000000;stroke-width:0.8;\" x=\"114.167224\" xlink:href=\"#mbf2e32e0a9\" y=\"239.758125\"/>\r\n      </g>\r\n     </g>\r\n     <g id=\"text_2\">\r\n      <!-- 1.2 -->\r\n      <defs>\r\n       <path d=\"M 19.1875 8.296875 \r\nL 53.609375 8.296875 \r\nL 53.609375 0 \r\nL 7.328125 0 \r\nL 7.328125 8.296875 \r\nQ 12.9375 14.109375 22.625 23.890625 \r\nQ 32.328125 33.6875 34.8125 36.53125 \r\nQ 39.546875 41.84375 41.421875 45.53125 \r\nQ 43.3125 49.21875 43.3125 52.78125 \r\nQ 43.3125 58.59375 39.234375 62.25 \r\nQ 35.15625 65.921875 28.609375 65.921875 \r\nQ 23.96875 65.921875 18.8125 64.3125 \r\nQ 13.671875 62.703125 7.8125 59.421875 \r\nL 7.8125 69.390625 \r\nQ 13.765625 71.78125 18.9375 73 \r\nQ 24.125 74.21875 28.421875 74.21875 \r\nQ 39.75 74.21875 46.484375 68.546875 \r\nQ 53.21875 62.890625 53.21875 53.421875 \r\nQ 53.21875 48.921875 51.53125 44.890625 \r\nQ 49.859375 40.875 45.40625 35.40625 \r\nQ 44.1875 33.984375 37.640625 27.21875 \r\nQ 31.109375 20.453125 19.1875 8.296875 \r\nz\r\n\" id=\"DejaVuSans-50\"/>\r\n      </defs>\r\n      <g transform=\"translate(106.215661 254.356562)scale(0.1 -0.1)\">\r\n       <use xlink:href=\"#DejaVuSans-49\"/>\r\n       <use x=\"63.623047\" xlink:href=\"#DejaVuSans-46\"/>\r\n       <use x=\"95.410156\" xlink:href=\"#DejaVuSans-50\"/>\r\n      </g>\r\n     </g>\r\n    </g>\r\n    <g id=\"xtick_3\">\r\n     <g id=\"line2d_3\">\r\n      <g>\r\n       <use style=\"stroke:#000000;stroke-width:0.8;\" x=\"160.955328\" xlink:href=\"#mbf2e32e0a9\" y=\"239.758125\"/>\r\n      </g>\r\n     </g>\r\n     <g id=\"text_3\">\r\n      <!-- 1.4 -->\r\n      <defs>\r\n       <path d=\"M 37.796875 64.3125 \r\nL 12.890625 25.390625 \r\nL 37.796875 25.390625 \r\nz\r\nM 35.203125 72.90625 \r\nL 47.609375 72.90625 \r\nL 47.609375 25.390625 \r\nL 58.015625 25.390625 \r\nL 58.015625 17.1875 \r\nL 47.609375 17.1875 \r\nL 47.609375 0 \r\nL 37.796875 0 \r\nL 37.796875 17.1875 \r\nL 4.890625 17.1875 \r\nL 4.890625 26.703125 \r\nz\r\n\" id=\"DejaVuSans-52\"/>\r\n      </defs>\r\n      <g transform=\"translate(153.003766 254.356562)scale(0.1 -0.1)\">\r\n       <use xlink:href=\"#DejaVuSans-49\"/>\r\n       <use x=\"63.623047\" xlink:href=\"#DejaVuSans-46\"/>\r\n       <use x=\"95.410156\" xlink:href=\"#DejaVuSans-52\"/>\r\n      </g>\r\n     </g>\r\n    </g>\r\n    <g id=\"xtick_4\">\r\n     <g id=\"line2d_4\">\r\n      <g>\r\n       <use style=\"stroke:#000000;stroke-width:0.8;\" x=\"207.743433\" xlink:href=\"#mbf2e32e0a9\" y=\"239.758125\"/>\r\n      </g>\r\n     </g>\r\n     <g id=\"text_4\">\r\n      <!-- 1.6 -->\r\n      <defs>\r\n       <path d=\"M 33.015625 40.375 \r\nQ 26.375 40.375 22.484375 35.828125 \r\nQ 18.609375 31.296875 18.609375 23.390625 \r\nQ 18.609375 15.53125 22.484375 10.953125 \r\nQ 26.375 6.390625 33.015625 6.390625 \r\nQ 39.65625 6.390625 43.53125 10.953125 \r\nQ 47.40625 15.53125 47.40625 23.390625 \r\nQ 47.40625 31.296875 43.53125 35.828125 \r\nQ 39.65625 40.375 33.015625 40.375 \r\nz\r\nM 52.59375 71.296875 \r\nL 52.59375 62.3125 \r\nQ 48.875 64.0625 45.09375 64.984375 \r\nQ 41.3125 65.921875 37.59375 65.921875 \r\nQ 27.828125 65.921875 22.671875 59.328125 \r\nQ 17.53125 52.734375 16.796875 39.40625 \r\nQ 19.671875 43.65625 24.015625 45.921875 \r\nQ 28.375 48.1875 33.59375 48.1875 \r\nQ 44.578125 48.1875 50.953125 41.515625 \r\nQ 57.328125 34.859375 57.328125 23.390625 \r\nQ 57.328125 12.15625 50.6875 5.359375 \r\nQ 44.046875 -1.421875 33.015625 -1.421875 \r\nQ 20.359375 -1.421875 13.671875 8.265625 \r\nQ 6.984375 17.96875 6.984375 36.375 \r\nQ 6.984375 53.65625 15.1875 63.9375 \r\nQ 23.390625 74.21875 37.203125 74.21875 \r\nQ 40.921875 74.21875 44.703125 73.484375 \r\nQ 48.484375 72.75 52.59375 71.296875 \r\nz\r\n\" id=\"DejaVuSans-54\"/>\r\n      </defs>\r\n      <g transform=\"translate(199.79187 254.356562)scale(0.1 -0.1)\">\r\n       <use xlink:href=\"#DejaVuSans-49\"/>\r\n       <use x=\"63.623047\" xlink:href=\"#DejaVuSans-46\"/>\r\n       <use x=\"95.410156\" xlink:href=\"#DejaVuSans-54\"/>\r\n      </g>\r\n     </g>\r\n    </g>\r\n    <g id=\"xtick_5\">\r\n     <g id=\"line2d_5\">\r\n      <g>\r\n       <use style=\"stroke:#000000;stroke-width:0.8;\" x=\"254.531537\" xlink:href=\"#mbf2e32e0a9\" y=\"239.758125\"/>\r\n      </g>\r\n     </g>\r\n     <g id=\"text_5\">\r\n      <!-- 1.8 -->\r\n      <defs>\r\n       <path d=\"M 31.78125 34.625 \r\nQ 24.75 34.625 20.71875 30.859375 \r\nQ 16.703125 27.09375 16.703125 20.515625 \r\nQ 16.703125 13.921875 20.71875 10.15625 \r\nQ 24.75 6.390625 31.78125 6.390625 \r\nQ 38.8125 6.390625 42.859375 10.171875 \r\nQ 46.921875 13.96875 46.921875 20.515625 \r\nQ 46.921875 27.09375 42.890625 30.859375 \r\nQ 38.875 34.625 31.78125 34.625 \r\nz\r\nM 21.921875 38.8125 \r\nQ 15.578125 40.375 12.03125 44.71875 \r\nQ 8.5 49.078125 8.5 55.328125 \r\nQ 8.5 64.0625 14.71875 69.140625 \r\nQ 20.953125 74.21875 31.78125 74.21875 \r\nQ 42.671875 74.21875 48.875 69.140625 \r\nQ 55.078125 64.0625 55.078125 55.328125 \r\nQ 55.078125 49.078125 51.53125 44.71875 \r\nQ 48 40.375 41.703125 38.8125 \r\nQ 48.828125 37.15625 52.796875 32.3125 \r\nQ 56.78125 27.484375 56.78125 20.515625 \r\nQ 56.78125 9.90625 50.3125 4.234375 \r\nQ 43.84375 -1.421875 31.78125 -1.421875 \r\nQ 19.734375 -1.421875 13.25 4.234375 \r\nQ 6.78125 9.90625 6.78125 20.515625 \r\nQ 6.78125 27.484375 10.78125 32.3125 \r\nQ 14.796875 37.15625 21.921875 38.8125 \r\nz\r\nM 18.3125 54.390625 \r\nQ 18.3125 48.734375 21.84375 45.5625 \r\nQ 25.390625 42.390625 31.78125 42.390625 \r\nQ 38.140625 42.390625 41.71875 45.5625 \r\nQ 45.3125 48.734375 45.3125 54.390625 \r\nQ 45.3125 60.0625 41.71875 63.234375 \r\nQ 38.140625 66.40625 31.78125 66.40625 \r\nQ 25.390625 66.40625 21.84375 63.234375 \r\nQ 18.3125 60.0625 18.3125 54.390625 \r\nz\r\n\" id=\"DejaVuSans-56\"/>\r\n      </defs>\r\n      <g transform=\"translate(246.579974 254.356562)scale(0.1 -0.1)\">\r\n       <use xlink:href=\"#DejaVuSans-49\"/>\r\n       <use x=\"63.623047\" xlink:href=\"#DejaVuSans-46\"/>\r\n       <use x=\"95.410156\" xlink:href=\"#DejaVuSans-56\"/>\r\n      </g>\r\n     </g>\r\n    </g>\r\n    <g id=\"xtick_6\">\r\n     <g id=\"line2d_6\">\r\n      <g>\r\n       <use style=\"stroke:#000000;stroke-width:0.8;\" x=\"301.319641\" xlink:href=\"#mbf2e32e0a9\" y=\"239.758125\"/>\r\n      </g>\r\n     </g>\r\n     <g id=\"text_6\">\r\n      <!-- 2.0 -->\r\n      <g transform=\"translate(293.368079 254.356562)scale(0.1 -0.1)\">\r\n       <use xlink:href=\"#DejaVuSans-50\"/>\r\n       <use x=\"63.623047\" xlink:href=\"#DejaVuSans-46\"/>\r\n       <use x=\"95.410156\" xlink:href=\"#DejaVuSans-48\"/>\r\n      </g>\r\n     </g>\r\n    </g>\r\n    <g id=\"xtick_7\">\r\n     <g id=\"line2d_7\">\r\n      <g>\r\n       <use style=\"stroke:#000000;stroke-width:0.8;\" x=\"348.107746\" xlink:href=\"#mbf2e32e0a9\" y=\"239.758125\"/>\r\n      </g>\r\n     </g>\r\n     <g id=\"text_7\">\r\n      <!-- 2.2 -->\r\n      <g transform=\"translate(340.156183 254.356562)scale(0.1 -0.1)\">\r\n       <use xlink:href=\"#DejaVuSans-50\"/>\r\n       <use x=\"63.623047\" xlink:href=\"#DejaVuSans-46\"/>\r\n       <use x=\"95.410156\" xlink:href=\"#DejaVuSans-50\"/>\r\n      </g>\r\n     </g>\r\n    </g>\r\n    <g id=\"text_8\">\r\n     <!-- log(N) -->\r\n     <defs>\r\n      <path d=\"M 9.421875 75.984375 \r\nL 18.40625 75.984375 \r\nL 18.40625 0 \r\nL 9.421875 0 \r\nz\r\n\" id=\"DejaVuSans-108\"/>\r\n      <path d=\"M 30.609375 48.390625 \r\nQ 23.390625 48.390625 19.1875 42.75 \r\nQ 14.984375 37.109375 14.984375 27.296875 \r\nQ 14.984375 17.484375 19.15625 11.84375 \r\nQ 23.34375 6.203125 30.609375 6.203125 \r\nQ 37.796875 6.203125 41.984375 11.859375 \r\nQ 46.1875 17.53125 46.1875 27.296875 \r\nQ 46.1875 37.015625 41.984375 42.703125 \r\nQ 37.796875 48.390625 30.609375 48.390625 \r\nz\r\nM 30.609375 56 \r\nQ 42.328125 56 49.015625 48.375 \r\nQ 55.71875 40.765625 55.71875 27.296875 \r\nQ 55.71875 13.875 49.015625 6.21875 \r\nQ 42.328125 -1.421875 30.609375 -1.421875 \r\nQ 18.84375 -1.421875 12.171875 6.21875 \r\nQ 5.515625 13.875 5.515625 27.296875 \r\nQ 5.515625 40.765625 12.171875 48.375 \r\nQ 18.84375 56 30.609375 56 \r\nz\r\n\" id=\"DejaVuSans-111\"/>\r\n      <path d=\"M 45.40625 27.984375 \r\nQ 45.40625 37.75 41.375 43.109375 \r\nQ 37.359375 48.484375 30.078125 48.484375 \r\nQ 22.859375 48.484375 18.828125 43.109375 \r\nQ 14.796875 37.75 14.796875 27.984375 \r\nQ 14.796875 18.265625 18.828125 12.890625 \r\nQ 22.859375 7.515625 30.078125 7.515625 \r\nQ 37.359375 7.515625 41.375 12.890625 \r\nQ 45.40625 18.265625 45.40625 27.984375 \r\nz\r\nM 54.390625 6.78125 \r\nQ 54.390625 -7.171875 48.1875 -13.984375 \r\nQ 42 -20.796875 29.203125 -20.796875 \r\nQ 24.46875 -20.796875 20.265625 -20.09375 \r\nQ 16.0625 -19.390625 12.109375 -17.921875 \r\nL 12.109375 -9.1875 \r\nQ 16.0625 -11.328125 19.921875 -12.34375 \r\nQ 23.78125 -13.375 27.78125 -13.375 \r\nQ 36.625 -13.375 41.015625 -8.765625 \r\nQ 45.40625 -4.15625 45.40625 5.171875 \r\nL 45.40625 9.625 \r\nQ 42.625 4.78125 38.28125 2.390625 \r\nQ 33.9375 0 27.875 0 \r\nQ 17.828125 0 11.671875 7.65625 \r\nQ 5.515625 15.328125 5.515625 27.984375 \r\nQ 5.515625 40.671875 11.671875 48.328125 \r\nQ 17.828125 56 27.875 56 \r\nQ 33.9375 56 38.28125 53.609375 \r\nQ 42.625 51.21875 45.40625 46.390625 \r\nL 45.40625 54.6875 \r\nL 54.390625 54.6875 \r\nz\r\n\" id=\"DejaVuSans-103\"/>\r\n      <path d=\"M 31 75.875 \r\nQ 24.46875 64.65625 21.28125 53.65625 \r\nQ 18.109375 42.671875 18.109375 31.390625 \r\nQ 18.109375 20.125 21.3125 9.0625 \r\nQ 24.515625 -2 31 -13.1875 \r\nL 23.1875 -13.1875 \r\nQ 15.875 -1.703125 12.234375 9.375 \r\nQ 8.59375 20.453125 8.59375 31.390625 \r\nQ 8.59375 42.28125 12.203125 53.3125 \r\nQ 15.828125 64.359375 23.1875 75.875 \r\nz\r\n\" id=\"DejaVuSans-40\"/>\r\n      <path d=\"M 9.8125 72.90625 \r\nL 23.09375 72.90625 \r\nL 55.421875 11.921875 \r\nL 55.421875 72.90625 \r\nL 64.984375 72.90625 \r\nL 64.984375 0 \r\nL 51.703125 0 \r\nL 19.390625 60.984375 \r\nL 19.390625 0 \r\nL 9.8125 0 \r\nz\r\n\" id=\"DejaVuSans-78\"/>\r\n      <path d=\"M 8.015625 75.875 \r\nL 15.828125 75.875 \r\nQ 23.140625 64.359375 26.78125 53.3125 \r\nQ 30.421875 42.28125 30.421875 31.390625 \r\nQ 30.421875 20.453125 26.78125 9.375 \r\nQ 23.140625 -1.703125 15.828125 -13.1875 \r\nL 8.015625 -13.1875 \r\nQ 14.5 -2 17.703125 9.0625 \r\nQ 20.90625 20.125 20.90625 31.390625 \r\nQ 20.90625 42.671875 17.703125 53.65625 \r\nQ 14.5 64.65625 8.015625 75.875 \r\nz\r\n\" id=\"DejaVuSans-41\"/>\r\n     </defs>\r\n     <g transform=\"translate(204.296094 268.034687)scale(0.1 -0.1)\">\r\n      <use xlink:href=\"#DejaVuSans-108\"/>\r\n      <use x=\"27.783203\" xlink:href=\"#DejaVuSans-111\"/>\r\n      <use x=\"88.964844\" xlink:href=\"#DejaVuSans-103\"/>\r\n      <use x=\"152.441406\" xlink:href=\"#DejaVuSans-40\"/>\r\n      <use x=\"191.455078\" xlink:href=\"#DejaVuSans-78\"/>\r\n      <use x=\"266.259766\" xlink:href=\"#DejaVuSans-41\"/>\r\n     </g>\r\n    </g>\r\n   </g>\r\n   <g id=\"matplotlib.axis_2\">\r\n    <g id=\"ytick_1\">\r\n     <g id=\"line2d_8\">\r\n      <defs>\r\n       <path d=\"M 0 0 \r\nL -3.5 0 \r\n\" id=\"me261bb023f\" style=\"stroke:#000000;stroke-width:0.8;\"/>\r\n      </defs>\r\n      <g>\r\n       <use style=\"stroke:#000000;stroke-width:0.8;\" x=\"52.160938\" xlink:href=\"#me261bb023f\" y=\"213.990133\"/>\r\n      </g>\r\n     </g>\r\n     <g id=\"text_9\">\r\n      <!-- −3.0 -->\r\n      <defs>\r\n       <path d=\"M 10.59375 35.5 \r\nL 73.1875 35.5 \r\nL 73.1875 27.203125 \r\nL 10.59375 27.203125 \r\nz\r\n\" id=\"DejaVuSans-8722\"/>\r\n       <path d=\"M 40.578125 39.3125 \r\nQ 47.65625 37.796875 51.625 33 \r\nQ 55.609375 28.21875 55.609375 21.1875 \r\nQ 55.609375 10.40625 48.1875 4.484375 \r\nQ 40.765625 -1.421875 27.09375 -1.421875 \r\nQ 22.515625 -1.421875 17.65625 -0.515625 \r\nQ 12.796875 0.390625 7.625 2.203125 \r\nL 7.625 11.71875 \r\nQ 11.71875 9.328125 16.59375 8.109375 \r\nQ 21.484375 6.890625 26.8125 6.890625 \r\nQ 36.078125 6.890625 40.9375 10.546875 \r\nQ 45.796875 14.203125 45.796875 21.1875 \r\nQ 45.796875 27.640625 41.28125 31.265625 \r\nQ 36.765625 34.90625 28.71875 34.90625 \r\nL 20.21875 34.90625 \r\nL 20.21875 43.015625 \r\nL 29.109375 43.015625 \r\nQ 36.375 43.015625 40.234375 45.921875 \r\nQ 44.09375 48.828125 44.09375 54.296875 \r\nQ 44.09375 59.90625 40.109375 62.90625 \r\nQ 36.140625 65.921875 28.71875 65.921875 \r\nQ 24.65625 65.921875 20.015625 65.03125 \r\nQ 15.375 64.15625 9.8125 62.3125 \r\nL 9.8125 71.09375 \r\nQ 15.4375 72.65625 20.34375 73.4375 \r\nQ 25.25 74.21875 29.59375 74.21875 \r\nQ 40.828125 74.21875 47.359375 69.109375 \r\nQ 53.90625 64.015625 53.90625 55.328125 \r\nQ 53.90625 49.265625 50.4375 45.09375 \r\nQ 46.96875 40.921875 40.578125 39.3125 \r\nz\r\n\" id=\"DejaVuSans-51\"/>\r\n      </defs>\r\n      <g transform=\"translate(20.878125 217.789352)scale(0.1 -0.1)\">\r\n       <use xlink:href=\"#DejaVuSans-8722\"/>\r\n       <use x=\"83.789062\" xlink:href=\"#DejaVuSans-51\"/>\r\n       <use x=\"147.412109\" xlink:href=\"#DejaVuSans-46\"/>\r\n       <use x=\"179.199219\" xlink:href=\"#DejaVuSans-48\"/>\r\n      </g>\r\n     </g>\r\n    </g>\r\n    <g id=\"ytick_2\">\r\n     <g id=\"line2d_9\">\r\n      <g>\r\n       <use style=\"stroke:#000000;stroke-width:0.8;\" x=\"52.160938\" xlink:href=\"#me261bb023f\" y=\"182.652812\"/>\r\n      </g>\r\n     </g>\r\n     <g id=\"text_10\">\r\n      <!-- −2.8 -->\r\n      <g transform=\"translate(20.878125 186.452031)scale(0.1 -0.1)\">\r\n       <use xlink:href=\"#DejaVuSans-8722\"/>\r\n       <use x=\"83.789062\" xlink:href=\"#DejaVuSans-50\"/>\r\n       <use x=\"147.412109\" xlink:href=\"#DejaVuSans-46\"/>\r\n       <use x=\"179.199219\" xlink:href=\"#DejaVuSans-56\"/>\r\n      </g>\r\n     </g>\r\n    </g>\r\n    <g id=\"ytick_3\">\r\n     <g id=\"line2d_10\">\r\n      <g>\r\n       <use style=\"stroke:#000000;stroke-width:0.8;\" x=\"52.160938\" xlink:href=\"#me261bb023f\" y=\"151.315491\"/>\r\n      </g>\r\n     </g>\r\n     <g id=\"text_11\">\r\n      <!-- −2.6 -->\r\n      <g transform=\"translate(20.878125 155.114709)scale(0.1 -0.1)\">\r\n       <use xlink:href=\"#DejaVuSans-8722\"/>\r\n       <use x=\"83.789062\" xlink:href=\"#DejaVuSans-50\"/>\r\n       <use x=\"147.412109\" xlink:href=\"#DejaVuSans-46\"/>\r\n       <use x=\"179.199219\" xlink:href=\"#DejaVuSans-54\"/>\r\n      </g>\r\n     </g>\r\n    </g>\r\n    <g id=\"ytick_4\">\r\n     <g id=\"line2d_11\">\r\n      <g>\r\n       <use style=\"stroke:#000000;stroke-width:0.8;\" x=\"52.160938\" xlink:href=\"#me261bb023f\" y=\"119.978169\"/>\r\n      </g>\r\n     </g>\r\n     <g id=\"text_12\">\r\n      <!-- −2.4 -->\r\n      <g transform=\"translate(20.878125 123.777388)scale(0.1 -0.1)\">\r\n       <use xlink:href=\"#DejaVuSans-8722\"/>\r\n       <use x=\"83.789062\" xlink:href=\"#DejaVuSans-50\"/>\r\n       <use x=\"147.412109\" xlink:href=\"#DejaVuSans-46\"/>\r\n       <use x=\"179.199219\" xlink:href=\"#DejaVuSans-52\"/>\r\n      </g>\r\n     </g>\r\n    </g>\r\n    <g id=\"ytick_5\">\r\n     <g id=\"line2d_12\">\r\n      <g>\r\n       <use style=\"stroke:#000000;stroke-width:0.8;\" x=\"52.160938\" xlink:href=\"#me261bb023f\" y=\"88.640848\"/>\r\n      </g>\r\n     </g>\r\n     <g id=\"text_13\">\r\n      <!-- −2.2 -->\r\n      <g transform=\"translate(20.878125 92.440066)scale(0.1 -0.1)\">\r\n       <use xlink:href=\"#DejaVuSans-8722\"/>\r\n       <use x=\"83.789062\" xlink:href=\"#DejaVuSans-50\"/>\r\n       <use x=\"147.412109\" xlink:href=\"#DejaVuSans-46\"/>\r\n       <use x=\"179.199219\" xlink:href=\"#DejaVuSans-50\"/>\r\n      </g>\r\n     </g>\r\n    </g>\r\n    <g id=\"ytick_6\">\r\n     <g id=\"line2d_13\">\r\n      <g>\r\n       <use style=\"stroke:#000000;stroke-width:0.8;\" x=\"52.160938\" xlink:href=\"#me261bb023f\" y=\"57.303526\"/>\r\n      </g>\r\n     </g>\r\n     <g id=\"text_14\">\r\n      <!-- −2.0 -->\r\n      <g transform=\"translate(20.878125 61.102745)scale(0.1 -0.1)\">\r\n       <use xlink:href=\"#DejaVuSans-8722\"/>\r\n       <use x=\"83.789062\" xlink:href=\"#DejaVuSans-50\"/>\r\n       <use x=\"147.412109\" xlink:href=\"#DejaVuSans-46\"/>\r\n       <use x=\"179.199219\" xlink:href=\"#DejaVuSans-48\"/>\r\n      </g>\r\n     </g>\r\n    </g>\r\n    <g id=\"ytick_7\">\r\n     <g id=\"line2d_14\">\r\n      <g>\r\n       <use style=\"stroke:#000000;stroke-width:0.8;\" x=\"52.160938\" xlink:href=\"#me261bb023f\" y=\"25.966205\"/>\r\n      </g>\r\n     </g>\r\n     <g id=\"text_15\">\r\n      <!-- −1.8 -->\r\n      <g transform=\"translate(20.878125 29.765423)scale(0.1 -0.1)\">\r\n       <use xlink:href=\"#DejaVuSans-8722\"/>\r\n       <use x=\"83.789062\" xlink:href=\"#DejaVuSans-49\"/>\r\n       <use x=\"147.412109\" xlink:href=\"#DejaVuSans-46\"/>\r\n       <use x=\"179.199219\" xlink:href=\"#DejaVuSans-56\"/>\r\n      </g>\r\n     </g>\r\n    </g>\r\n    <g id=\"text_16\">\r\n     <!-- log(error) -->\r\n     <defs>\r\n      <path d=\"M 56.203125 29.59375 \r\nL 56.203125 25.203125 \r\nL 14.890625 25.203125 \r\nQ 15.484375 15.921875 20.484375 11.0625 \r\nQ 25.484375 6.203125 34.421875 6.203125 \r\nQ 39.59375 6.203125 44.453125 7.46875 \r\nQ 49.3125 8.734375 54.109375 11.28125 \r\nL 54.109375 2.78125 \r\nQ 49.265625 0.734375 44.1875 -0.34375 \r\nQ 39.109375 -1.421875 33.890625 -1.421875 \r\nQ 20.796875 -1.421875 13.15625 6.1875 \r\nQ 5.515625 13.8125 5.515625 26.8125 \r\nQ 5.515625 40.234375 12.765625 48.109375 \r\nQ 20.015625 56 32.328125 56 \r\nQ 43.359375 56 49.78125 48.890625 \r\nQ 56.203125 41.796875 56.203125 29.59375 \r\nz\r\nM 47.21875 32.234375 \r\nQ 47.125 39.59375 43.09375 43.984375 \r\nQ 39.0625 48.390625 32.421875 48.390625 \r\nQ 24.90625 48.390625 20.390625 44.140625 \r\nQ 15.875 39.890625 15.1875 32.171875 \r\nz\r\n\" id=\"DejaVuSans-101\"/>\r\n      <path d=\"M 41.109375 46.296875 \r\nQ 39.59375 47.171875 37.8125 47.578125 \r\nQ 36.03125 48 33.890625 48 \r\nQ 26.265625 48 22.1875 43.046875 \r\nQ 18.109375 38.09375 18.109375 28.8125 \r\nL 18.109375 0 \r\nL 9.078125 0 \r\nL 9.078125 54.6875 \r\nL 18.109375 54.6875 \r\nL 18.109375 46.1875 \r\nQ 20.953125 51.171875 25.484375 53.578125 \r\nQ 30.03125 56 36.53125 56 \r\nQ 37.453125 56 38.578125 55.875 \r\nQ 39.703125 55.765625 41.0625 55.515625 \r\nz\r\n\" id=\"DejaVuSans-114\"/>\r\n     </defs>\r\n     <g transform=\"translate(14.798437 154.862344)rotate(-90)scale(0.1 -0.1)\">\r\n      <use xlink:href=\"#DejaVuSans-108\"/>\r\n      <use x=\"27.783203\" xlink:href=\"#DejaVuSans-111\"/>\r\n      <use x=\"88.964844\" xlink:href=\"#DejaVuSans-103\"/>\r\n      <use x=\"152.441406\" xlink:href=\"#DejaVuSans-40\"/>\r\n      <use x=\"191.455078\" xlink:href=\"#DejaVuSans-101\"/>\r\n      <use x=\"252.978516\" xlink:href=\"#DejaVuSans-114\"/>\r\n      <use x=\"294.076172\" xlink:href=\"#DejaVuSans-114\"/>\r\n      <use x=\"335.158203\" xlink:href=\"#DejaVuSans-111\"/>\r\n      <use x=\"396.339844\" xlink:href=\"#DejaVuSans-114\"/>\r\n      <use x=\"437.453125\" xlink:href=\"#DejaVuSans-41\"/>\r\n     </g>\r\n    </g>\r\n   </g>\r\n   <g id=\"line2d_15\">\r\n    <path clip-path=\"url(#pff7f3244c2)\" d=\"M 67.379119 32.201761 \r\nL 137.802234 76.1781 \r\nL 208.225348 121.698568 \r\nL 301.319641 183.04514 \r\nL 371.742756 229.874489 \r\n\" style=\"fill:none;stroke:#1f77b4;stroke-linecap:square;stroke-width:1.5;\"/>\r\n   </g>\r\n   <g id=\"patch_3\">\r\n    <path d=\"M 52.160938 239.758125 \r\nL 52.160938 22.318125 \r\n\" style=\"fill:none;stroke:#000000;stroke-linecap:square;stroke-linejoin:miter;stroke-width:0.8;\"/>\r\n   </g>\r\n   <g id=\"patch_4\">\r\n    <path d=\"M 386.960938 239.758125 \r\nL 386.960938 22.318125 \r\n\" style=\"fill:none;stroke:#000000;stroke-linecap:square;stroke-linejoin:miter;stroke-width:0.8;\"/>\r\n   </g>\r\n   <g id=\"patch_5\">\r\n    <path d=\"M 52.160937 239.758125 \r\nL 386.960938 239.758125 \r\n\" style=\"fill:none;stroke:#000000;stroke-linecap:square;stroke-linejoin:miter;stroke-width:0.8;\"/>\r\n   </g>\r\n   <g id=\"patch_6\">\r\n    <path d=\"M 52.160937 22.318125 \r\nL 386.960938 22.318125 \r\n\" style=\"fill:none;stroke:#000000;stroke-linecap:square;stroke-linejoin:miter;stroke-width:0.8;\"/>\r\n   </g>\r\n   <g id=\"text_17\">\r\n    <!-- error ~ N -->\r\n    <defs>\r\n     <path id=\"DejaVuSans-32\"/>\r\n     <path d=\"M 73.1875 39.890625 \r\nL 73.1875 31.203125 \r\nQ 68.0625 27.34375 63.6875 25.6875 \r\nQ 59.328125 24.03125 54.59375 24.03125 \r\nQ 49.21875 24.03125 42.09375 26.90625 \r\nQ 41.546875 27.09375 41.3125 27.203125 \r\nQ 40.96875 27.34375 40.234375 27.59375 \r\nQ 32.671875 30.609375 28.078125 30.609375 \r\nQ 23.78125 30.609375 19.578125 28.734375 \r\nQ 15.375 26.859375 10.59375 22.796875 \r\nL 10.59375 31.5 \r\nQ 15.71875 35.359375 20.09375 37.03125 \r\nQ 24.46875 38.71875 29.203125 38.71875 \r\nQ 34.578125 38.71875 41.75 35.796875 \r\nQ 42.234375 35.59375 42.484375 35.5 \r\nQ 42.875 35.359375 43.5625 35.109375 \r\nQ 51.125 32.078125 55.71875 32.078125 \r\nQ 59.90625 32.078125 64.03125 33.9375 \r\nQ 68.171875 35.796875 73.1875 39.890625 \r\nz\r\n\" id=\"DejaVuSans-126\"/>\r\n    </defs>\r\n    <g transform=\"translate(191.470625 16.318125)scale(0.12 -0.12)\">\r\n     <use xlink:href=\"#DejaVuSans-101\"/>\r\n     <use x=\"61.523438\" xlink:href=\"#DejaVuSans-114\"/>\r\n     <use x=\"102.621094\" xlink:href=\"#DejaVuSans-114\"/>\r\n     <use x=\"143.703125\" xlink:href=\"#DejaVuSans-111\"/>\r\n     <use x=\"204.884766\" xlink:href=\"#DejaVuSans-114\"/>\r\n     <use x=\"245.998047\" xlink:href=\"#DejaVuSans-32\"/>\r\n     <use x=\"277.785156\" xlink:href=\"#DejaVuSans-126\"/>\r\n     <use x=\"361.574219\" xlink:href=\"#DejaVuSans-32\"/>\r\n     <use x=\"393.361328\" xlink:href=\"#DejaVuSans-78\"/>\r\n    </g>\r\n   </g>\r\n  </g>\r\n </g>\r\n <defs>\r\n  <clipPath id=\"pff7f3244c2\">\r\n   <rect height=\"217.44\" width=\"334.8\" x=\"52.160938\" y=\"22.318125\"/>\r\n  </clipPath>\r\n </defs>\r\n</svg>\r\n",
      "image/png": "[encoded data removed]"
     },
     "metadata": {
      "needs_background": "light"
     }
    }
   ],
   "source": [
    "# (3) and (4)\n",
    "import matplotlib.pyplot as plt\n",
    "N = [10, 20, 40, 100, 200]\n",
    "error = []\n",
    "\n",
    "for n in N:\n",
    "    cal_pi = GetPi(1e-5, n)\n",
    "    error.append(abs(cal_pi - np.pi) / np.pi)\n",
    "\n",
    "\n",
    "plt.figure()\n",
    "plt.plot(np.log10(N), np.log10(error))\n",
    "plt.title(\"error ~ N\")\n",
    "plt.xlabel(\"log(N)\")\n",
    "plt.ylabel(\"log(error)\")\n",
    "plt.show()"
   ]
  },
  {
   "cell_type": "markdown",
   "metadata": {},
   "source": [
    "### Problem 2 (10 points) \n",
    "Consider a linear $2\\times 2$ system (with unknowns $x_1$ and $x_2$) described by\n",
    "$$\n",
    "\\begin{pmatrix}\n",
    "\\varepsilon & 1\\\\\n",
    "1 & 1\n",
    "\\end{pmatrix}\n",
    "\\begin{pmatrix}\n",
    "x_1\\\\x_2\\end{pmatrix}\n",
    "=\\begin{pmatrix}\n",
    "2\\\\\n",
    "1\n",
    "\\end{pmatrix}\n",
    "$$\n",
    "where $\\epsilon > 0$ is a very small constant.   \n",
    "(1) Solve by Gauss elimination without partial pivoting by hand.   \n",
    "(2) Solve by Gauss elimination with partial pivoting by hand.    \n",
    "(3) Compare the results and discuss their validity.  "
   ]
  },
  {
   "cell_type": "markdown",
   "metadata": {},
   "source": [
    "(1) 不用pivoting：\n",
    "$$\n",
    "\\begin{pmatrix}\n",
    "\\varepsilon & 1\\\\\n",
    "0 & 1-\\varepsilon\n",
    "\\end{pmatrix}\n",
    "\\begin{pmatrix}\n",
    "x_1\\\\x_2\n",
    "\\end{pmatrix}\n",
    "=\n",
    "\\begin{pmatrix}\n",
    "2\\\\\n",
    "2-\\varepsilon\n",
    "\\end{pmatrix}\n",
    "$$\n",
    "解得：\n",
    "$$ \n",
    "x_2=\\frac{2-\\varepsilon}{1-\\varepsilon}\n",
    "$$\n",
    "$$ \n",
    "x_1=\\frac{-1}{1-\\varepsilon}\n",
    "$$"
   ]
  },
  {
   "cell_type": "markdown",
   "metadata": {},
   "source": [
    "(2) 使用pivoting：\n",
    "$$\n",
    "\\begin{pmatrix}\n",
    "1 & \\varepsilon\\\\\n",
    "1 & 1\n",
    "\\end{pmatrix}\n",
    "\\begin{pmatrix}\n",
    "x_2\\\\x_1\n",
    "\\end{pmatrix}\n",
    "=\n",
    "\\begin{pmatrix}\n",
    "2\\\\\n",
    "2-\\varepsilon\n",
    "\\end{pmatrix}\n",
    "$$\n",
    "$$\n",
    "\\begin{pmatrix}\n",
    "1 & \\varepsilon\\\\\n",
    "1 & 1-\\varepsilon\n",
    "\\end{pmatrix}\n",
    "\\begin{pmatrix}\n",
    "x_2\\\\x_1\n",
    "\\end{pmatrix}\n",
    "=\n",
    "\\begin{pmatrix}\n",
    "2\\\\\n",
    "-1\n",
    "\\end{pmatrix}\n",
    "$$\n",
    "解得：\n",
    "$$ \n",
    "x_1=\\frac{-1}{1-\\varepsilon}\n",
    "$$\n",
    "$$ \n",
    "x_2=\\frac{2-\\varepsilon}{1-\\varepsilon}\n",
    "$$\n"
   ]
  },
  {
   "cell_type": "markdown",
   "metadata": {},
   "source": [
    "(3) 比较：\n",
    "\n",
    "如果是解析计算，两者能得到完全相同的结果，但如果是计算机浮点运算，不使用pivoting会带来较大的舍入误差，尤其是从上三角矩阵解$x_2$时，有两次大数减小数的情况，并且相除后，得到大数，会有很大的误差。"
   ]
  },
  {
   "cell_type": "markdown",
   "metadata": {},
   "source": [
    "### Problem 3 (20 points)   \n",
    "Halley's method to find the solution to a equation of single variable is given as\n",
    "$$\n",
    "x_{n+1}=x_{n}-\\frac{2f(x_n)f^\\prime(x_n)}{2(f^\\prime(x_n))^2-f(x_n)f^{\\prime\\prime}(x_n)}\n",
    "$$\n",
    "Apply Halley's method to solve $f(x)=e^{x-3}+x-2$.   \n",
    "(1) Show that Halley's method has an order of convergence 3 for simple zero.    \n",
    "(2) Make a sketch of the function $f(x)$ on paper.    \n",
    "(3) Write the code to determine the root numerically and count the steps of iterations. The predefined tolerance is given as $\\left\\vert x_{i+1}-x_i\\right\\vert\\leq 0.5e-8$.      \n",
    "(4) Write your results of part (3) on paper.     \n",
    "(5) What are the advantages and disadvantages of Halley's method, when you compare it to the Newton's method and the bisection method?    \n",
    "**You need to submit your code of part (3)!**"
   ]
  },
  {
   "cell_type": "markdown",
   "metadata": {},
   "source": [
    "(1) 收敛率：\n",
    "定义\n",
    "$$g(x)=x-\\frac{2f(x)f^\\prime(x)}{2(f^\\prime(x))^2-f(x)f^{\\prime\\prime}(x)}$$\n",
    "，有\n",
    "\\begin{aligned}\n",
    "g^\\prime(x)&=1-\\frac{2(f^{\\prime 2}(x)+f(x)f^{\\prime\\prime}(x))(2(f^\\prime(x))^2-f(x)f^{\\prime\\prime}(x)) - 2f(x)f^\\prime(x)(3f^\\prime(x)f^{\\prime\\prime}(x)-f(x)f^{\\prime\\prime\\prime}(x))}{(2(f^\\prime(x))^2-f(x)f^{\\prime\\prime}(x))^2}  \n",
    "&=\\frac{2f^2(x)f^{\\prime 2}(x) - 2f^2(x)f^\\prime(x)f^{\\prime\\prime\\prime}(x)}{(2(f^\\prime(x))^2-f(x)f^{\\prime\\prime}(x))^2}\n",
    "&=f^2(x)h(x)\n",
    "\\end{aligned}\n",
    "这里$h(x)$是$f(x)$及其导函数的函数。$g(x)$的二阶导数：\n",
    "$$\n",
    "g^{\\prime\\prime}=2f(x)f^\\prime(x)h(x)+f^2(x)h^\\prime(x)\n",
    "$$\n",
    "显然，在函数零点$x^*$处，$f(x^*)=0$，因此$g^\\prime(x^*)=0$，$g^{\\prime\\prime}(x^*)=0$。\n",
    "在$x~x^*$处展开$g(x)$：\n",
    "\\begin{aligned}\n",
    "g(x_n)&=g(x^*)+\\frac{1}{6}g^{\\prime\\prime\\prime}(x^*)(x_n-x^*)^3\n",
    "x_{n+1}&=x^*+\\frac{1}{6}g^{\\prime\\prime\\prime}(x^*)(x_n-x^*)^3\n",
    "\\end{aligned}\n",
    "计算收敛率：\n",
    "$$\n",
    "\\frac{x_{n+1}-x^*}{(x_n-x^*)^3}=\\frac{1}{6}g^{\\prime\\prime\\prime}(x^*)\n",
    "$$\n",
    "即收敛率为3。"
   ]
  },
  {
   "cell_type": "code",
   "execution_count": 108,
   "metadata": {},
   "outputs": [
    {
     "output_type": "display_data",
     "data": {
      "text/plain": "<Figure size 432x288 with 1 Axes>",
      "image/svg+xml": "<?xml version=\"1.0\" encoding=\"utf-8\" standalone=\"no\"?>\r\n<!DOCTYPE svg PUBLIC \"-//W3C//DTD SVG 1.1//EN\"\r\n  \"http://www.w3.org/Graphics/SVG/1.1/DTD/svg11.dtd\">\r\n<!-- Created with matplotlib (https://matplotlib.org/) -->\r\n<svg height=\"248.518125pt\" version=\"1.1\" viewBox=\"0 0 380.482813 248.518125\" width=\"380.482813pt\" xmlns=\"http://www.w3.org/2000/svg\" xmlns:xlink=\"http://www.w3.org/1999/xlink\">\r\n <defs>\r\n  <style type=\"text/css\">\r\n*{stroke-linecap:butt;stroke-linejoin:round;}\r\n  </style>\r\n </defs>\r\n <g id=\"figure_1\">\r\n  <g id=\"patch_1\">\r\n   <path d=\"M -0 248.518125 \r\nL 380.482813 248.518125 \r\nL 380.482813 0 \r\nL -0 0 \r\nz\r\n\" style=\"fill:none;\"/>\r\n  </g>\r\n  <g id=\"axes_1\">\r\n   <g id=\"patch_2\">\r\n    <path d=\"M 38.482813 224.64 \r\nL 373.282813 224.64 \r\nL 373.282813 7.2 \r\nL 38.482813 7.2 \r\nz\r\n\" style=\"fill:#ffffff;\"/>\r\n   </g>\r\n   <g id=\"matplotlib.axis_1\">\r\n    <g id=\"xtick_1\">\r\n     <g id=\"line2d_1\">\r\n      <defs>\r\n       <path d=\"M 0 0 \r\nL 0 3.5 \r\n\" id=\"m84059cb15d\" style=\"stroke:#000000;stroke-width:0.8;\"/>\r\n      </defs>\r\n      <g>\r\n       <use style=\"stroke:#000000;stroke-width:0.8;\" x=\"53.700994\" xlink:href=\"#m84059cb15d\" y=\"224.64\"/>\r\n      </g>\r\n     </g>\r\n     <g id=\"text_1\">\r\n      <!-- 0.0 -->\r\n      <defs>\r\n       <path d=\"M 31.78125 66.40625 \r\nQ 24.171875 66.40625 20.328125 58.90625 \r\nQ 16.5 51.421875 16.5 36.375 \r\nQ 16.5 21.390625 20.328125 13.890625 \r\nQ 24.171875 6.390625 31.78125 6.390625 \r\nQ 39.453125 6.390625 43.28125 13.890625 \r\nQ 47.125 21.390625 47.125 36.375 \r\nQ 47.125 51.421875 43.28125 58.90625 \r\nQ 39.453125 66.40625 31.78125 66.40625 \r\nz\r\nM 31.78125 74.21875 \r\nQ 44.046875 74.21875 50.515625 64.515625 \r\nQ 56.984375 54.828125 56.984375 36.375 \r\nQ 56.984375 17.96875 50.515625 8.265625 \r\nQ 44.046875 -1.421875 31.78125 -1.421875 \r\nQ 19.53125 -1.421875 13.0625 8.265625 \r\nQ 6.59375 17.96875 6.59375 36.375 \r\nQ 6.59375 54.828125 13.0625 64.515625 \r\nQ 19.53125 74.21875 31.78125 74.21875 \r\nz\r\n\" id=\"DejaVuSans-48\"/>\r\n       <path d=\"M 10.6875 12.40625 \r\nL 21 12.40625 \r\nL 21 0 \r\nL 10.6875 0 \r\nz\r\n\" id=\"DejaVuSans-46\"/>\r\n      </defs>\r\n      <g transform=\"translate(45.749432 239.238437)scale(0.1 -0.1)\">\r\n       <use xlink:href=\"#DejaVuSans-48\"/>\r\n       <use x=\"63.623047\" xlink:href=\"#DejaVuSans-46\"/>\r\n       <use x=\"95.410156\" xlink:href=\"#DejaVuSans-48\"/>\r\n      </g>\r\n     </g>\r\n    </g>\r\n    <g id=\"xtick_2\">\r\n     <g id=\"line2d_2\">\r\n      <g>\r\n       <use style=\"stroke:#000000;stroke-width:0.8;\" x=\"104.428267\" xlink:href=\"#m84059cb15d\" y=\"224.64\"/>\r\n      </g>\r\n     </g>\r\n     <g id=\"text_2\">\r\n      <!-- 0.5 -->\r\n      <defs>\r\n       <path d=\"M 10.796875 72.90625 \r\nL 49.515625 72.90625 \r\nL 49.515625 64.59375 \r\nL 19.828125 64.59375 \r\nL 19.828125 46.734375 \r\nQ 21.96875 47.46875 24.109375 47.828125 \r\nQ 26.265625 48.1875 28.421875 48.1875 \r\nQ 40.625 48.1875 47.75 41.5 \r\nQ 54.890625 34.8125 54.890625 23.390625 \r\nQ 54.890625 11.625 47.5625 5.09375 \r\nQ 40.234375 -1.421875 26.90625 -1.421875 \r\nQ 22.3125 -1.421875 17.546875 -0.640625 \r\nQ 12.796875 0.140625 7.71875 1.703125 \r\nL 7.71875 11.625 \r\nQ 12.109375 9.234375 16.796875 8.0625 \r\nQ 21.484375 6.890625 26.703125 6.890625 \r\nQ 35.15625 6.890625 40.078125 11.328125 \r\nQ 45.015625 15.765625 45.015625 23.390625 \r\nQ 45.015625 31 40.078125 35.4375 \r\nQ 35.15625 39.890625 26.703125 39.890625 \r\nQ 22.75 39.890625 18.8125 39.015625 \r\nQ 14.890625 38.140625 10.796875 36.28125 \r\nz\r\n\" id=\"DejaVuSans-53\"/>\r\n      </defs>\r\n      <g transform=\"translate(96.476705 239.238437)scale(0.1 -0.1)\">\r\n       <use xlink:href=\"#DejaVuSans-48\"/>\r\n       <use x=\"63.623047\" xlink:href=\"#DejaVuSans-46\"/>\r\n       <use x=\"95.410156\" xlink:href=\"#DejaVuSans-53\"/>\r\n      </g>\r\n     </g>\r\n    </g>\r\n    <g id=\"xtick_3\">\r\n     <g id=\"line2d_3\">\r\n      <g>\r\n       <use style=\"stroke:#000000;stroke-width:0.8;\" x=\"155.15554\" xlink:href=\"#m84059cb15d\" y=\"224.64\"/>\r\n      </g>\r\n     </g>\r\n     <g id=\"text_3\">\r\n      <!-- 1.0 -->\r\n      <defs>\r\n       <path d=\"M 12.40625 8.296875 \r\nL 28.515625 8.296875 \r\nL 28.515625 63.921875 \r\nL 10.984375 60.40625 \r\nL 10.984375 69.390625 \r\nL 28.421875 72.90625 \r\nL 38.28125 72.90625 \r\nL 38.28125 8.296875 \r\nL 54.390625 8.296875 \r\nL 54.390625 0 \r\nL 12.40625 0 \r\nz\r\n\" id=\"DejaVuSans-49\"/>\r\n      </defs>\r\n      <g transform=\"translate(147.203977 239.238437)scale(0.1 -0.1)\">\r\n       <use xlink:href=\"#DejaVuSans-49\"/>\r\n       <use x=\"63.623047\" xlink:href=\"#DejaVuSans-46\"/>\r\n       <use x=\"95.410156\" xlink:href=\"#DejaVuSans-48\"/>\r\n      </g>\r\n     </g>\r\n    </g>\r\n    <g id=\"xtick_4\">\r\n     <g id=\"line2d_4\">\r\n      <g>\r\n       <use style=\"stroke:#000000;stroke-width:0.8;\" x=\"205.882812\" xlink:href=\"#m84059cb15d\" y=\"224.64\"/>\r\n      </g>\r\n     </g>\r\n     <g id=\"text_4\">\r\n      <!-- 1.5 -->\r\n      <g transform=\"translate(197.93125 239.238437)scale(0.1 -0.1)\">\r\n       <use xlink:href=\"#DejaVuSans-49\"/>\r\n       <use x=\"63.623047\" xlink:href=\"#DejaVuSans-46\"/>\r\n       <use x=\"95.410156\" xlink:href=\"#DejaVuSans-53\"/>\r\n      </g>\r\n     </g>\r\n    </g>\r\n    <g id=\"xtick_5\">\r\n     <g id=\"line2d_5\">\r\n      <g>\r\n       <use style=\"stroke:#000000;stroke-width:0.8;\" x=\"256.610085\" xlink:href=\"#m84059cb15d\" y=\"224.64\"/>\r\n      </g>\r\n     </g>\r\n     <g id=\"text_5\">\r\n      <!-- 2.0 -->\r\n      <defs>\r\n       <path d=\"M 19.1875 8.296875 \r\nL 53.609375 8.296875 \r\nL 53.609375 0 \r\nL 7.328125 0 \r\nL 7.328125 8.296875 \r\nQ 12.9375 14.109375 22.625 23.890625 \r\nQ 32.328125 33.6875 34.8125 36.53125 \r\nQ 39.546875 41.84375 41.421875 45.53125 \r\nQ 43.3125 49.21875 43.3125 52.78125 \r\nQ 43.3125 58.59375 39.234375 62.25 \r\nQ 35.15625 65.921875 28.609375 65.921875 \r\nQ 23.96875 65.921875 18.8125 64.3125 \r\nQ 13.671875 62.703125 7.8125 59.421875 \r\nL 7.8125 69.390625 \r\nQ 13.765625 71.78125 18.9375 73 \r\nQ 24.125 74.21875 28.421875 74.21875 \r\nQ 39.75 74.21875 46.484375 68.546875 \r\nQ 53.21875 62.890625 53.21875 53.421875 \r\nQ 53.21875 48.921875 51.53125 44.890625 \r\nQ 49.859375 40.875 45.40625 35.40625 \r\nQ 44.1875 33.984375 37.640625 27.21875 \r\nQ 31.109375 20.453125 19.1875 8.296875 \r\nz\r\n\" id=\"DejaVuSans-50\"/>\r\n      </defs>\r\n      <g transform=\"translate(248.658523 239.238437)scale(0.1 -0.1)\">\r\n       <use xlink:href=\"#DejaVuSans-50\"/>\r\n       <use x=\"63.623047\" xlink:href=\"#DejaVuSans-46\"/>\r\n       <use x=\"95.410156\" xlink:href=\"#DejaVuSans-48\"/>\r\n      </g>\r\n     </g>\r\n    </g>\r\n    <g id=\"xtick_6\">\r\n     <g id=\"line2d_6\">\r\n      <g>\r\n       <use style=\"stroke:#000000;stroke-width:0.8;\" x=\"307.337358\" xlink:href=\"#m84059cb15d\" y=\"224.64\"/>\r\n      </g>\r\n     </g>\r\n     <g id=\"text_6\">\r\n      <!-- 2.5 -->\r\n      <g transform=\"translate(299.385795 239.238437)scale(0.1 -0.1)\">\r\n       <use xlink:href=\"#DejaVuSans-50\"/>\r\n       <use x=\"63.623047\" xlink:href=\"#DejaVuSans-46\"/>\r\n       <use x=\"95.410156\" xlink:href=\"#DejaVuSans-53\"/>\r\n      </g>\r\n     </g>\r\n    </g>\r\n    <g id=\"xtick_7\">\r\n     <g id=\"line2d_7\">\r\n      <g>\r\n       <use style=\"stroke:#000000;stroke-width:0.8;\" x=\"358.064631\" xlink:href=\"#m84059cb15d\" y=\"224.64\"/>\r\n      </g>\r\n     </g>\r\n     <g id=\"text_7\">\r\n      <!-- 3.0 -->\r\n      <defs>\r\n       <path d=\"M 40.578125 39.3125 \r\nQ 47.65625 37.796875 51.625 33 \r\nQ 55.609375 28.21875 55.609375 21.1875 \r\nQ 55.609375 10.40625 48.1875 4.484375 \r\nQ 40.765625 -1.421875 27.09375 -1.421875 \r\nQ 22.515625 -1.421875 17.65625 -0.515625 \r\nQ 12.796875 0.390625 7.625 2.203125 \r\nL 7.625 11.71875 \r\nQ 11.71875 9.328125 16.59375 8.109375 \r\nQ 21.484375 6.890625 26.8125 6.890625 \r\nQ 36.078125 6.890625 40.9375 10.546875 \r\nQ 45.796875 14.203125 45.796875 21.1875 \r\nQ 45.796875 27.640625 41.28125 31.265625 \r\nQ 36.765625 34.90625 28.71875 34.90625 \r\nL 20.21875 34.90625 \r\nL 20.21875 43.015625 \r\nL 29.109375 43.015625 \r\nQ 36.375 43.015625 40.234375 45.921875 \r\nQ 44.09375 48.828125 44.09375 54.296875 \r\nQ 44.09375 59.90625 40.109375 62.90625 \r\nQ 36.140625 65.921875 28.71875 65.921875 \r\nQ 24.65625 65.921875 20.015625 65.03125 \r\nQ 15.375 64.15625 9.8125 62.3125 \r\nL 9.8125 71.09375 \r\nQ 15.4375 72.65625 20.34375 73.4375 \r\nQ 25.25 74.21875 29.59375 74.21875 \r\nQ 40.828125 74.21875 47.359375 69.109375 \r\nQ 53.90625 64.015625 53.90625 55.328125 \r\nQ 53.90625 49.265625 50.4375 45.09375 \r\nQ 46.96875 40.921875 40.578125 39.3125 \r\nz\r\n\" id=\"DejaVuSans-51\"/>\r\n      </defs>\r\n      <g transform=\"translate(350.113068 239.238437)scale(0.1 -0.1)\">\r\n       <use xlink:href=\"#DejaVuSans-51\"/>\r\n       <use x=\"63.623047\" xlink:href=\"#DejaVuSans-46\"/>\r\n       <use x=\"95.410156\" xlink:href=\"#DejaVuSans-48\"/>\r\n      </g>\r\n     </g>\r\n    </g>\r\n   </g>\r\n   <g id=\"matplotlib.axis_2\">\r\n    <g id=\"ytick_1\">\r\n     <g id=\"line2d_8\">\r\n      <defs>\r\n       <path d=\"M 0 0 \r\nL -3.5 0 \r\n\" id=\"md6dd2475f8\" style=\"stroke:#000000;stroke-width:0.8;\"/>\r\n      </defs>\r\n      <g>\r\n       <use style=\"stroke:#000000;stroke-width:0.8;\" x=\"38.482813\" xlink:href=\"#md6dd2475f8\" y=\"217.24776\"/>\r\n      </g>\r\n     </g>\r\n     <g id=\"text_8\">\r\n      <!-- −2.0 -->\r\n      <defs>\r\n       <path d=\"M 10.59375 35.5 \r\nL 73.1875 35.5 \r\nL 73.1875 27.203125 \r\nL 10.59375 27.203125 \r\nz\r\n\" id=\"DejaVuSans-8722\"/>\r\n      </defs>\r\n      <g transform=\"translate(7.2 221.046979)scale(0.1 -0.1)\">\r\n       <use xlink:href=\"#DejaVuSans-8722\"/>\r\n       <use x=\"83.789062\" xlink:href=\"#DejaVuSans-50\"/>\r\n       <use x=\"147.412109\" xlink:href=\"#DejaVuSans-46\"/>\r\n       <use x=\"179.199219\" xlink:href=\"#DejaVuSans-48\"/>\r\n      </g>\r\n     </g>\r\n    </g>\r\n    <g id=\"ytick_2\">\r\n     <g id=\"line2d_9\">\r\n      <g>\r\n       <use style=\"stroke:#000000;stroke-width:0.8;\" x=\"38.482813\" xlink:href=\"#md6dd2475f8\" y=\"192.227244\"/>\r\n      </g>\r\n     </g>\r\n     <g id=\"text_9\">\r\n      <!-- −1.5 -->\r\n      <g transform=\"translate(7.2 196.026463)scale(0.1 -0.1)\">\r\n       <use xlink:href=\"#DejaVuSans-8722\"/>\r\n       <use x=\"83.789062\" xlink:href=\"#DejaVuSans-49\"/>\r\n       <use x=\"147.412109\" xlink:href=\"#DejaVuSans-46\"/>\r\n       <use x=\"179.199219\" xlink:href=\"#DejaVuSans-53\"/>\r\n      </g>\r\n     </g>\r\n    </g>\r\n    <g id=\"ytick_3\">\r\n     <g id=\"line2d_10\">\r\n      <g>\r\n       <use style=\"stroke:#000000;stroke-width:0.8;\" x=\"38.482813\" xlink:href=\"#md6dd2475f8\" y=\"167.206729\"/>\r\n      </g>\r\n     </g>\r\n     <g id=\"text_10\">\r\n      <!-- −1.0 -->\r\n      <g transform=\"translate(7.2 171.005948)scale(0.1 -0.1)\">\r\n       <use xlink:href=\"#DejaVuSans-8722\"/>\r\n       <use x=\"83.789062\" xlink:href=\"#DejaVuSans-49\"/>\r\n       <use x=\"147.412109\" xlink:href=\"#DejaVuSans-46\"/>\r\n       <use x=\"179.199219\" xlink:href=\"#DejaVuSans-48\"/>\r\n      </g>\r\n     </g>\r\n    </g>\r\n    <g id=\"ytick_4\">\r\n     <g id=\"line2d_11\">\r\n      <g>\r\n       <use style=\"stroke:#000000;stroke-width:0.8;\" x=\"38.482813\" xlink:href=\"#md6dd2475f8\" y=\"142.186214\"/>\r\n      </g>\r\n     </g>\r\n     <g id=\"text_11\">\r\n      <!-- −0.5 -->\r\n      <g transform=\"translate(7.2 145.985432)scale(0.1 -0.1)\">\r\n       <use xlink:href=\"#DejaVuSans-8722\"/>\r\n       <use x=\"83.789062\" xlink:href=\"#DejaVuSans-48\"/>\r\n       <use x=\"147.412109\" xlink:href=\"#DejaVuSans-46\"/>\r\n       <use x=\"179.199219\" xlink:href=\"#DejaVuSans-53\"/>\r\n      </g>\r\n     </g>\r\n    </g>\r\n    <g id=\"ytick_5\">\r\n     <g id=\"line2d_12\">\r\n      <g>\r\n       <use style=\"stroke:#000000;stroke-width:0.8;\" x=\"38.482813\" xlink:href=\"#md6dd2475f8\" y=\"117.165698\"/>\r\n      </g>\r\n     </g>\r\n     <g id=\"text_12\">\r\n      <!-- 0.0 -->\r\n      <g transform=\"translate(15.579688 120.964917)scale(0.1 -0.1)\">\r\n       <use xlink:href=\"#DejaVuSans-48\"/>\r\n       <use x=\"63.623047\" xlink:href=\"#DejaVuSans-46\"/>\r\n       <use x=\"95.410156\" xlink:href=\"#DejaVuSans-48\"/>\r\n      </g>\r\n     </g>\r\n    </g>\r\n    <g id=\"ytick_6\">\r\n     <g id=\"line2d_13\">\r\n      <g>\r\n       <use style=\"stroke:#000000;stroke-width:0.8;\" x=\"38.482813\" xlink:href=\"#md6dd2475f8\" y=\"92.145183\"/>\r\n      </g>\r\n     </g>\r\n     <g id=\"text_13\">\r\n      <!-- 0.5 -->\r\n      <g transform=\"translate(15.579688 95.944401)scale(0.1 -0.1)\">\r\n       <use xlink:href=\"#DejaVuSans-48\"/>\r\n       <use x=\"63.623047\" xlink:href=\"#DejaVuSans-46\"/>\r\n       <use x=\"95.410156\" xlink:href=\"#DejaVuSans-53\"/>\r\n      </g>\r\n     </g>\r\n    </g>\r\n    <g id=\"ytick_7\">\r\n     <g id=\"line2d_14\">\r\n      <g>\r\n       <use style=\"stroke:#000000;stroke-width:0.8;\" x=\"38.482813\" xlink:href=\"#md6dd2475f8\" y=\"67.124667\"/>\r\n      </g>\r\n     </g>\r\n     <g id=\"text_14\">\r\n      <!-- 1.0 -->\r\n      <g transform=\"translate(15.579688 70.923886)scale(0.1 -0.1)\">\r\n       <use xlink:href=\"#DejaVuSans-49\"/>\r\n       <use x=\"63.623047\" xlink:href=\"#DejaVuSans-46\"/>\r\n       <use x=\"95.410156\" xlink:href=\"#DejaVuSans-48\"/>\r\n      </g>\r\n     </g>\r\n    </g>\r\n    <g id=\"ytick_8\">\r\n     <g id=\"line2d_15\">\r\n      <g>\r\n       <use style=\"stroke:#000000;stroke-width:0.8;\" x=\"38.482813\" xlink:href=\"#md6dd2475f8\" y=\"42.104152\"/>\r\n      </g>\r\n     </g>\r\n     <g id=\"text_15\">\r\n      <!-- 1.5 -->\r\n      <g transform=\"translate(15.579688 45.903371)scale(0.1 -0.1)\">\r\n       <use xlink:href=\"#DejaVuSans-49\"/>\r\n       <use x=\"63.623047\" xlink:href=\"#DejaVuSans-46\"/>\r\n       <use x=\"95.410156\" xlink:href=\"#DejaVuSans-53\"/>\r\n      </g>\r\n     </g>\r\n    </g>\r\n    <g id=\"ytick_9\">\r\n     <g id=\"line2d_16\">\r\n      <g>\r\n       <use style=\"stroke:#000000;stroke-width:0.8;\" x=\"38.482813\" xlink:href=\"#md6dd2475f8\" y=\"17.083636\"/>\r\n      </g>\r\n     </g>\r\n     <g id=\"text_16\">\r\n      <!-- 2.0 -->\r\n      <g transform=\"translate(15.579688 20.882855)scale(0.1 -0.1)\">\r\n       <use xlink:href=\"#DejaVuSans-50\"/>\r\n       <use x=\"63.623047\" xlink:href=\"#DejaVuSans-46\"/>\r\n       <use x=\"95.410156\" xlink:href=\"#DejaVuSans-48\"/>\r\n      </g>\r\n     </g>\r\n    </g>\r\n   </g>\r\n   <g id=\"line2d_17\">\r\n    <path clip-path=\"url(#pc6a90175a1)\" d=\"M 53.700994 214.756364 \r\nL 69.720133 206.429013 \r\nL 85.739272 198.028774 \r\nL 101.758411 189.543181 \r\nL 117.777549 180.957634 \r\nL 133.796688 172.255038 \r\nL 149.815827 163.415371 \r\nL 165.834966 154.415188 \r\nL 181.854104 145.227035 \r\nL 197.873243 135.81876 \r\nL 213.892382 126.152713 \r\nL 229.911521 116.184804 \r\nL 245.930659 105.863402 \r\nL 261.949798 95.128044 \r\nL 277.968937 83.907927 \r\nL 293.988076 72.120134 \r\nL 310.007214 59.66757 \r\nL 326.026353 46.43653 \r\nL 342.045492 32.293861 \r\nL 358.064631 17.083636 \r\n\" style=\"fill:none;stroke:#1f77b4;stroke-linecap:square;stroke-width:1.5;\"/>\r\n   </g>\r\n   <g id=\"patch_3\">\r\n    <path d=\"M 38.482813 224.64 \r\nL 38.482813 7.2 \r\n\" style=\"fill:none;stroke:#000000;stroke-linecap:square;stroke-linejoin:miter;stroke-width:0.8;\"/>\r\n   </g>\r\n   <g id=\"patch_4\">\r\n    <path d=\"M 373.282813 224.64 \r\nL 373.282813 7.2 \r\n\" style=\"fill:none;stroke:#000000;stroke-linecap:square;stroke-linejoin:miter;stroke-width:0.8;\"/>\r\n   </g>\r\n   <g id=\"patch_5\">\r\n    <path d=\"M 38.482813 224.64 \r\nL 373.282813 224.64 \r\n\" style=\"fill:none;stroke:#000000;stroke-linecap:square;stroke-linejoin:miter;stroke-width:0.8;\"/>\r\n   </g>\r\n   <g id=\"patch_6\">\r\n    <path d=\"M 38.482813 7.2 \r\nL 373.282813 7.2 \r\n\" style=\"fill:none;stroke:#000000;stroke-linecap:square;stroke-linejoin:miter;stroke-width:0.8;\"/>\r\n   </g>\r\n  </g>\r\n </g>\r\n <defs>\r\n  <clipPath id=\"pc6a90175a1\">\r\n   <rect height=\"217.44\" width=\"334.8\" x=\"38.482813\" y=\"7.2\"/>\r\n  </clipPath>\r\n </defs>\r\n</svg>\r\n",
      "image/png": "[encoded data removed]"
     },
     "metadata": {
      "needs_background": "light"
     }
    }
   ],
   "source": [
    "# (2)\n",
    "import matplotlib.pyplot as plt \n",
    "import numpy as np \n",
    "\n",
    "f = lambda x: np.exp(x-3) + x - 2\n",
    "x_plt = np.linspace(0, 3, 20)\n",
    "plt.figure()\n",
    "plt.plot(x_plt, f(x_plt))\n",
    "plt.show()"
   ]
  },
  {
   "cell_type": "code",
   "execution_count": 109,
   "metadata": {},
   "outputs": [
    {
     "output_type": "stream",
     "name": "stdout",
     "text": "find root: 1.7215354572 in 3 steps\n"
    }
   ],
   "source": [
    "# (3)\n",
    "def HalleyMethod(f, f_p, f_pp, x_init=0, eps=0.5e-8, max_rd=100):\n",
    "    error = 999\n",
    "    x_last = x_init\n",
    "    x = x_init\n",
    "    for rd in range(max_rd):\n",
    "        x = x - (2*f(x)*f_p(x)) / (2*f_p(x)**2 - f(x)*f_pp(x))\n",
    "        error = abs(x - x_last)\n",
    "        x_last = x\n",
    "        if error <= eps:\n",
    "            print(f\"find root: {x:.10f} in {rd} steps\")\n",
    "            break\n",
    "f_p = lambda x: np.exp(x-3) + 1\n",
    "f_pp = lambda x: np.exp(x-3)\n",
    "\n",
    "HalleyMethod(f, f_p, f_pp)"
   ]
  },
  {
   "cell_type": "markdown",
   "metadata": {},
   "source": [
    "(5) 优点：收敛速度相比其他两种方法更快\n",
    "缺点：需要计算一阶，两阶导数，只适用于可以求两阶导数的函数。牛顿法只需要求一阶导数，二分法只需要是一个连续函数，比较普适。"
   ]
  },
  {
   "cell_type": "markdown",
   "metadata": {},
   "source": [
    "### Problem 4 (20 points)\n",
    "Consider the following equations corresponding to measurements of two unknown quantities $(x_1,x_2)$\n",
    "$$\n",
    "\\begin{aligned}\n",
    "    7x_1 −3x_2& = 5\\\\\n",
    "−2x_1 + 5x_2 &= −10\\\\\n",
    "    3x_1 &= 8\n",
    "\\end{aligned}\n",
    "$$\n",
    "where $x_1$ and $x_2$ are scalars.   \n",
    "(1) Write these equations as a single matrix-vector equation.       \n",
    "(2) What `python` package will you apply to determine the least-squares solution?  Please write your code and the results on the paper.   \n",
    "(3) What numerical method will you apply to determine the least-squares solution? Please describe your method briefly and write the corresponding pseudocode on the paper.   \n",
    "(4) When you plug your solution into the equations, are any of the equalities satisfied? Why or why not?  "
   ]
  },
  {
   "cell_type": "markdown",
   "metadata": {},
   "source": [
    "(1)\n",
    "$$\n",
    "\\begin{pmatrix}\n",
    "7 & -3 \\\\\n",
    "-2 & 5 \\\\ \n",
    "0 & 3\n",
    "\\end{pmatrix}\n",
    "\\begin{pmatrix}\n",
    "x_1 \\\\\n",
    "x_2\n",
    "\\end{pmatrix}\n",
    "=\n",
    "\\begin{pmatrix}\n",
    "5 \\\\\n",
    "-10 \\\\\n",
    "8\n",
    "\\end{pmatrix}\n",
    "$$"
   ]
  },
  {
   "cell_type": "markdown",
   "metadata": {},
   "source": [
    "(2) 我使用'numpy.linalg.solve'来解最小二乘法方程，并用'scipy.optimize.curve_fit'验证结果："
   ]
  },
  {
   "cell_type": "code",
   "execution_count": 110,
   "metadata": {},
   "outputs": [
    {
     "output_type": "stream",
     "name": "stdout",
     "text": "Least squares solution:\n [[ 0.83004552]\n [-0.35508346]]\n"
    }
   ],
   "source": [
    "import numpy as np \n",
    "A = np.mat([[7, -3], [-2, 5], [0, 3]])\n",
    "b = np.mat([[5], [-10], [8]])\n",
    "\n",
    "x = np.linalg.solve(A.T * A, A.T * b)\n",
    "print(\"Least squares solution:\\n\", x)"
   ]
  },
  {
   "cell_type": "code",
   "execution_count": 111,
   "metadata": {},
   "outputs": [
    {
     "output_type": "stream",
     "name": "stdout",
     "text": "For comparation:\nScipy curve_fit result: [ 0.83004552 -0.35508346]\n"
    }
   ],
   "source": [
    "from scipy.optimize import curve_fit\n",
    "f_A = lambda para, x1, x2: para[0] * x1 + para[1] * x2\n",
    "b = [5, -10, 8]\n",
    "x, _ = curve_fit(f_A, A.T, b)\n",
    "print(\"For comparation:\\nScipy curve_fit result:\", x)"
   ]
  },
  {
   "cell_type": "markdown",
   "metadata": {},
   "source": [
    "(3) 我使用变换主元的高斯消元法解线性方程组：$A^T A x=A^T b$"
   ]
  },
  {
   "cell_type": "code",
   "execution_count": 112,
   "metadata": {},
   "outputs": [],
   "source": [
    "def pivoting(A, n=None):\n",
    "    # input n as matrix A's actual size\n",
    "    size = np.shape(A)[0]\n",
    "    if n == None:\n",
    "        n = size\n",
    "    Per = np.mat(np.eye(n))\n",
    "    max_row_elem = np.array(np.max(A, axis=1))\n",
    "    best_pivot = np.argmax(np.array(A[:, 0]) / max_row_elem)\n",
    "    if best_pivot == 0:\n",
    "        return Per\n",
    "    Per[n - size][n - size] = 0\n",
    "    Per[n - size][best_pivot] = 1\n",
    "    Per[best_pivot][best_pivot] = 0\n",
    "    Per[best_pivot][n - size] = 1\n",
    "    return Per    "
   ]
  },
  {
   "cell_type": "code",
   "execution_count": 113,
   "metadata": {},
   "outputs": [],
   "source": [
    "def Gauss_solve(A_, b_):\n",
    "    A = np.mat(A_)\n",
    "    b = np.mat(b_)\n",
    "    size = np.shape(A)[0]\n",
    "    result = np.zeros(size)\n",
    "    for i in range(size-1):\n",
    "        Per = pivoting(A, size)\n",
    "        A = Per * A\n",
    "        b = Per * b\n",
    "        for j in range(i+1, size):\n",
    "            fact = A[j, i] / A[i, i]\n",
    "            A[j, :] -= fact * A[i, :]\n",
    "            b[j] -= fact * b[i]\n",
    "            \n",
    "    result[size-1] = b[size-1] / A[size-1, size-1]\n",
    "    for i in range(size-1, 0, -1):\n",
    "        for j in range(i):\n",
    "            fact = A[j, i] / A[i, i]\n",
    "            A[j, i] = 0\n",
    "            b[j] -= fact * b[i]\n",
    "        result[i-1] = b[i-1] / A[i-1, i-1]\n",
    "    \n",
    "    return result"
   ]
  },
  {
   "cell_type": "code",
   "execution_count": 114,
   "metadata": {},
   "outputs": [
    {
     "output_type": "stream",
     "name": "stdout",
     "text": "Gauss solve result: [ 0.83004552 -0.35508346]\n"
    }
   ],
   "source": [
    "A = np.mat([[7, -3], [-2, 5], [0, 3]])\n",
    "b = np.mat([[5], [-10], [8]])\n",
    "print(\"Gauss solve result:\", Gauss_solve(A.T * A, A.T * b))"
   ]
  },
  {
   "cell_type": "markdown",
   "metadata": {},
   "source": [
    "### Problem 5 (15 points)    \n",
    "It is required to fit a regression model of the form $z =f (x,y)$ to the following data:\n",
    "  \n",
    "   |   |   |   |   |   |  |  |  |  |   |\n",
    "   | ---- | ----- | ----- | ----- | ---- | ---- | ---- | ---- | ---- | ---- |\n",
    "     | $x$  | 0.5   | 1.0   | 1.0   | 2.0  | 2.5  | 2.0  | 3.0  | 3.5  | 4.0  |\n",
    "   | $y$  | 2.0   | 4.0   | 5.0   | 2.0  | 4.0  | 5.0  | 2.0  | 4.0  | 5.0  |\n",
    "   | $z$  | -0.19 | -0.32 | -1.00 | 3.71 | 4.49 | 2.48 | 6.31 | 7.71 | 9.51 |\n",
    "   (1) Describe the algorithm of normal equations to generate a model of the form $z =a+bx+cy$  \n",
    "   (2) Derive the symmetrical matrix $A$ and the vector $b$ based on part (1) and write the results.  \n",
    "   (3) Use `python` package to determine the numerical solutions of the parameters $a$, $b$ and $c$.  Write your code on paper.  \n",
    "   (4) Determine the reduced $\\chi^2$. Do you consider the model a good fit to the data? Why and why not?"
   ]
  },
  {
   "cell_type": "code",
   "execution_count": 115,
   "metadata": {},
   "outputs": [],
   "source": [
    "import numpy as np\n",
    "x = np.array([0.5, 1.0, 1.0, 2.0, 2.5, 2.0, 3.0, 3.5, 4.0])\n",
    "y = np.array([2.0, 4.0, 5.0, 2.0, 4.0, 5.0, 2.0, 4.0, 5.0])\n",
    "z = np.array([-0.19, -0.32, -1.00, 3.71, 4.49, 2.48, 6.31, 7.71, 9.51])"
   ]
  },
  {
   "cell_type": "code",
   "execution_count": 126,
   "metadata": {},
   "outputs": [],
   "source": [
    "# (1)\n",
    "size = np.shape(x)\n",
    "M = np.mat(np.transpose([np.ones(size), x, y]))\n",
    "b = np.mat(np.reshape(z, [size[0], 1]))"
   ]
  },
  {
   "cell_type": "markdown",
   "metadata": {},
   "source": [
    "我们将回归函数变形成$M x = b$形式，其中$M=(1, x^T, y^T)$，$b=z^T$，$x=(a, b, c)^T$。解方程$M^T M x = M^T b$可以得到$x$的最小二乘法解。"
   ]
  },
  {
   "cell_type": "code",
   "execution_count": 127,
   "metadata": {},
   "outputs": [
    {
     "output_type": "stream",
     "name": "stdout",
     "text": "(2)\nA:\n [[  9.    19.5   33.  ]\n [ 19.5   53.75  74.  ]\n [ 33.    74.   135.  ]]\nb:\n [[ 32.7  ]\n [106.145]\n [122.13 ]]\n"
    }
   ],
   "source": [
    "# (2)\n",
    "A = M.T * M\n",
    "b = M.T * b\n",
    "print(\"(2)\")\n",
    "print(\"A:\\n\", A)\n",
    "print(\"b:\\n\", b)"
   ]
  },
  {
   "cell_type": "code",
   "execution_count": 134,
   "metadata": {},
   "outputs": [
    {
     "output_type": "stream",
     "name": "stdout",
     "text": "(3) (a, b, c):\n [[-1.72388799]\n [ 3.15705977]\n [-0.40447496]]\n"
    }
   ],
   "source": [
    "# (3)\n",
    "solution = np.linalg.solve(A, b)\n",
    "print(f\"(3) (a, b, c):\\n\", solution)"
   ]
  },
  {
   "cell_type": "code",
   "execution_count": 137,
   "metadata": {},
   "outputs": [
    {
     "output_type": "stream",
     "name": "stdout",
     "text": "reduced chi square: 0.2628257404415725\n"
    }
   ],
   "source": [
    "# (4)\n",
    "predict = M * solution\n",
    "err = np.sum((np.array(np.reshape(z, [size[0], 1]) - predict))**2)\n",
    "reduced_chi_square = err / 6\n",
    "print(\"reduced chi square:\", reduced_chi_square)\n",
    "print(\"不是一个好的拟合。如果假设数据的标准差是1，那么这个模型的参数太多了。\")"
   ]
  },
  {
   "cell_type": "markdown",
   "metadata": {},
   "source": [
    "### Problem 6 (15 points)    \n",
    "Apply the Newton' method to solve the following nonlinear equations\n",
    "   $$\n",
    "   \\begin{cases}\n",
    "   3x_1-\\cos(x_2x_3)-3/2=0\\\\\n",
    "   4x_1^2 -625 x_2^2+2x_3-1=0\\\\\n",
    "   20x_3+e^{-x_1x_2} + 9=0\n",
    "   \\end{cases}\n",
    "   $$  \n",
    "   starting with trial values $x_0=(1, 1,1)^T$.       \n",
    "   (1) Describe the Newton's method for multivariate systems briefly.    \n",
    "   (2) Determine the analytical expression of the Jacobian matrix.    \n",
    "   (3) We now start with the first iteration. You are required to calculate the next trial value of $x_1$. Read the following code and find out what numerical method is used here? What would you suggest to make the script more readable?     "
   ]
  },
  {
   "cell_type": "markdown",
   "metadata": {},
   "source": [
    "(1) 牛顿法：  \n",
    "我们用$F(x)=0$表示这个方程组。首先计算雅可比矩阵$J(x)=F^\\prime(x)$。然后解$J(x_n)\\Delta x_n = -F(x_n)$，获得新的迭代值$x_{n+1}=x_n + \\Delta x_n$。由此循环迭代。"
   ]
  },
  {
   "cell_type": "markdown",
   "metadata": {},
   "source": [
    "(2)  \n",
    "\\begin{pmatrix}\n",
    "3 & x_3 sin(x_2 x_3) & x_2 sin(x_2 x_3) \\\\\n",
    "2x_1^2 & -1250x_2 & 2 \\\\\n",
    "-x_2 e^{-x_1 x_2} & -x_1 e^{-x_1 x_2} & 20\n",
    "\\end{pmatrix}"
   ]
  },
  {
   "cell_type": "code",
   "execution_count": 142,
   "metadata": {},
   "outputs": [],
   "source": [
    "def F(x):\n",
    "    return [[3*x[0] - np.cos(x[1] * x[2]) - 3/2], \n",
    "            [4*x[0]**2 - 625*x[1]**2 + 2*x[2] - 1], \n",
    "            [20*x[2] + np.exp(-x[0] * x[1]) + 9]]\n",
    "def J(x):\n",
    "    return [[3, x[2] * np.sin(x[1] * x[2]), x[1] * np.sin(x[1] * x[2])], \n",
    "            [2*x[0]**2, -1250*x[1], 2], \n",
    "            [-x[1] * np.exp(-x[0] * x[1]), -x[0] * np.exp(-x[0] * x[1]), 20]]"
   ]
  },
  {
   "cell_type": "markdown",
   "metadata": {},
   "source": [
    "(3) 这段代码使用了含一次主元法的高斯消元法，我将会为它重命名变量，添加注释，使其更加易读。最后它被改名为`LU(A)`。"
   ]
  },
  {
   "cell_type": "code",
   "execution_count": 172,
   "metadata": {},
   "outputs": [],
   "source": [
    "def pivot_matrix(A):\n",
    "    size = len(A)\n",
    "    # 新建一个单位矩阵（用作交换矩阵）\n",
    "    S = []\n",
    "    for i in range(size):\n",
    "        S_row = []\n",
    "        for j in range(size):\n",
    "            if i == j:\n",
    "                S_row.append(1)\n",
    "            else:\n",
    "                S_row.append(0)\n",
    "        S.append(S_row)\n",
    "    # 寻找待交换行\n",
    "    max_pivot_row = 0\n",
    "    max_factor = 0\n",
    "    for i in range(size):\n",
    "        factor = A[i][0] / max(A[i])\n",
    "        if factor > max_factor: \n",
    "            max_pivot_row = i\n",
    "    # 产生交换矩阵 \n",
    "    if max_pivot_row == 0:\n",
    "        return S\n",
    "    else:\n",
    "        S[0][0] = 0\n",
    "        S[0][max_pivot_row] = 1\n",
    "        S[max_pivot_row][0] = 1\n",
    "        S[max_pivot_row][max_pivot_row] = 0\n",
    "        return S\n",
    "\n",
    "def mult_matrix(A, B):\n",
    "    if len(A[0]) != len(B):\n",
    "        print(\"矩阵维度不匹配！\")\n",
    "        exit(-1)\n",
    "    result = []\n",
    "    for i in range(len(A)):\n",
    "        result_row = []\n",
    "        for j in range(len(B[0])):\n",
    "            summation = 0\n",
    "            for k in range(len(A[0])):\n",
    "                summation += A[i][k] * B[k][j]\n",
    "            result_row.append(summation)\n",
    "        result.append(result_row)\n",
    "    return result\n",
    "\n",
    "def LU(A):\n",
    "    size = len(A)\n",
    "    Low = [[0.0] * size for i in range(size)]\n",
    "    Up = [[0.0] * size for i in range(size)]\n",
    "\n",
    "    # 对第一行做主元化，Permutation是行的交换矩阵\n",
    "    Permutation = pivot_matrix(A)\n",
    "    Permuted_A = mult_matrix(Permutation, A)\n",
    "\n",
    "    for j in range(size):\n",
    "        Low[j][j] = 1.0\n",
    "        # 计算 Low\n",
    "        for i in range(j+1):\n",
    "            s1 = sum(Up[k][j] * Low[i][k] for k in range(i))\n",
    "            Up[i][j] = Permuted_A[i][j] - s1\n",
    "        # 计算 Up\n",
    "        for i in range(j, size):\n",
    "            s2 = sum(Up[k][j] * Low[i][k] for k in range(j))\n",
    "            Low[i][j] = (Permuted_A[i][j] - s2) / Up[j][j]\n",
    "    return (Permutation, Low, Up)\n",
    "\n",
    "def solve_by_LU(A, b):\n",
    "    Per, L, U = LU(A)\n",
    "    permuted_b = mult_matrix(Per, b)\n",
    "    \n",
    "    size = len(A)\n",
    "    x = [0] * size\n",
    "    x1 = [0] * size\n",
    "\n",
    "    for i in range(size):\n",
    "        x[i] = permuted_b[i][0] - sum(L[i][k] * x[k] for k in range(i))\n",
    "        x[i] /= L[i][i]\n",
    "    \n",
    "    for j in range(size-1, -1, -1):\n",
    "        x1[j] = x[j] - sum(U[j][k] * x1[k] for k in range(j+1, size))\n",
    "        x1[j] /= U[j][j]\n",
    "\n",
    "    return x1\n"
   ]
  },
  {
   "cell_type": "code",
   "execution_count": 174,
   "metadata": {},
   "outputs": [
    {
     "output_type": "stream",
     "name": "stdout",
     "text": "x_1:\n [1.2330179333970932, 0.5020156002808969, -0.47326775783655806]\n"
    }
   ],
   "source": [
    "x = [1, 1, 1]\n",
    "delta_x = solve_by_LU(J(x), F(x))\n",
    "for i in range(len(x)):\n",
    "    x[i] -= delta_x[i]\n",
    "print(\"x_1:\\n\", x)"
   ]
  }
 ],
 "metadata": {
  "kernelspec": {
   "display_name": "Python 3",
   "language": "python",
   "name": "python3"
  },
  "language_info": {
   "codemirror_mode": {
    "name": "ipython",
    "version": 3
   },
   "file_extension": ".py",
   "mimetype": "text/x-python",
   "name": "python",
   "nbconvert_exporter": "python",
   "pygments_lexer": "ipython3",
   "version": "3.8.1-final"
  }
 },
 "nbformat": 4,
 "nbformat_minor": 4
}