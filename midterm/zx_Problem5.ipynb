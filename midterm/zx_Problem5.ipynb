{
 "cells": [
  {
   "cell_type": "markdown",
   "metadata": {},
   "source": [
    "### Problem 5 (15 points)    \n",
    "It is required to fit a regression model of the form $z =f (x,y)$ to the following data:\n",
    "  \n",
    "   | $x$  | 0.5   | 1.0   | 1.0   | 2.0  | 2.5  | 2.0  | 3.0  | 3.5  | 4.0  |\n",
    "   | ---- | ----- | ----- | ----- | ---- | ---- | ---- | ---- | ---- | ---- |\n",
    "   | $y$  | 2.0   | 4.0   | 5.0   | 2.0  | 4.0  | 5.0  | 2.0  | 4.0  | 5.0  |\n",
    "   | $z$  | -0.19 | -0.32 | -1.00 | 3.71 | 4.49 | 2.48 | 6.31 | 7.71 | 9.51 |\n",
    "   \n",
    "   (1) Describe the algorithm of normal equations to generate a model of the form $z =a+bx+cy$  \n",
    "   (2) Derive the symmetrical matrix $A$ and the vector $b$ based on part (1) and write the results.  \n",
    "   (3) Use `python` package to determine the numerical solutions of the parameters $a$, $b$ and $c$.  Write your code on paper.   \n",
    "   (4) Determine the reduced $\\chi^2$. Do you consider the model a good fit to the data? Why and why not?"
   ]
  },
  {
   "cell_type": "code",
   "execution_count": 2,
   "metadata": {},
   "outputs": [],
   "source": [
    "import numpy as np\n",
    "x = np.array([0.5, 1.0, 1.0, 2.0, 2.5, 2.0, 3.0, 3.5, 4.0])\n",
    "y = np.array([2.0, 4.0, 5.0, 2.0, 4.0, 5.0, 2.0, 4.0, 5.0])\n",
    "z = np.array([-0.19, -0.32, -1.00, 3.71, 4.49, 2.48, 6.31, 7.71, 9.51])"
   ]
  },
  {
   "cell_type": "markdown",
   "metadata": {},
   "source": [
    "(1) \n",
    "take $f_1 = 1, f_2 = x, f_3 = y$\n",
    "the normal equation is $Aa=b$, $A_{jk}=\\sum_{i = 1}^Nf_j(x_i,y_i)f_k(x_i,y_i)$, $b_k=\\sum_{i=1}^Nf_k(x_i,y_i)z_i$"
   ]
  },
  {
   "cell_type": "code",
   "execution_count": 3,
   "metadata": {},
   "outputs": [
    {
     "name": "stdout",
     "output_type": "stream",
     "text": [
      "A= [[  9.    19.5   33.  ]\n",
      " [ 19.5   53.75  74.  ]\n",
      " [ 33.    74.   135.  ]]\n",
      "b= [ 32.7   106.145 122.13 ]\n"
     ]
    }
   ],
   "source": [
    "f1 = lambda x,y:np.ones(x.shape)\n",
    "f2 = lambda x,y:x\n",
    "f3 = lambda x,y:y\n",
    "f = [f1,f2,f3]\n",
    "A = np.zeros((3,3))\n",
    "b = np.zeros(3)\n",
    "for k in range(3):\n",
    "    for j in range(3):\n",
    "        A[j,k] = np.sum(f[j](x,y)*f[k](x,y))\n",
    "    b[k] = np.sum(f[k](x,y)*z)\n",
    "print('A=',A)\n",
    "print('b=',b)"
   ]
  },
  {
   "cell_type": "code",
   "execution_count": 4,
   "metadata": {},
   "outputs": [
    {
     "name": "stdout",
     "output_type": "stream",
     "text": [
      "z = -1.723887991383951 + 3.157059773828756x  -0.4044749596122783y\n"
     ]
    }
   ],
   "source": [
    "a = np.linalg.solve(A,b)\n",
    "print(f'z = {a[0]} + {a[1]}x  {a[2]}y')"
   ]
  },
  {
   "cell_type": "code",
   "execution_count": 6,
   "metadata": {},
   "outputs": [
    {
     "name": "stdout",
     "output_type": "stream",
     "text": [
      "0.26282574044157236\n",
      "比1小了不少，模型的参数太多\n"
     ]
    }
   ],
   "source": [
    "fxy = lambda x,y:a[0] + a[1]*x +a[2]*y\n",
    "xi2_red = np.sum((z-fxy(x,y))**2)/(len(x)-len(a))\n",
    "print(xi2_red)\n",
    "print('比1小了不少，模型的参数太多')"
   ]
  },
  {
   "cell_type": "code",
   "execution_count": null,
   "metadata": {},
   "outputs": [],
   "source": []
  }
 ],
 "metadata": {
  "kernelspec": {
   "display_name": "Python 3",
   "language": "python",
   "name": "python3"
  },
  "language_info": {
   "codemirror_mode": {
    "name": "ipython",
    "version": 3
   },
   "file_extension": ".py",
   "mimetype": "text/x-python",
   "name": "python",
   "nbconvert_exporter": "python",
   "pygments_lexer": "ipython3",
   "version": "3.7.0"
  }
 },
 "nbformat": 4,
 "nbformat_minor": 2
}
