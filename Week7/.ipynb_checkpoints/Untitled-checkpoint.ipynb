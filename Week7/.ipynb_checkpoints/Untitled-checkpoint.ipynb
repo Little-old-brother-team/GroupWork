{
 "cells": [
  {
   "cell_type": "markdown",
   "metadata": {},
   "source": [
    "## Assignment Week 7"
   ]
  },
  {
   "cell_type": "markdown",
   "metadata": {},
   "source": [
    "1. Use your eigenproblem solver to find the eigenvalues of the matrix\n",
    "$$\n",
    "A =\\begin{pmatrix}\n",
    "−2 &+2 &−3\\\\\n",
    "+2 &+1 &−6\\\\\n",
    "−1 &−2 &+0\n",
    "\\end{pmatrix}\n",
    "$$\n",
    "(1) Verify that you obtain the eigenvalues $\\lambda_1 = 5$, $\\lambda_2 = \\lambda_3 = −3$. Notice that double roots can cause problems. In particular, there is a uniqueness issue with their eigenvectors because any combination of these eigenvectors is also an eigenvector.\n",
    "(2) Verify that the eigenvector for $λ_1 = 5$ is proportional to\n",
    "$$\n",
    "x_1 = \\frac{1}{\\sqrt{6}}\\begin{pmatrix}\n",
    "−1 \\\\ −2 \\\\+1\\end{pmatrix}\n",
    "$$\n",
    "(3) The eigenvalue −3 corresponds to a double root. This means that the corresponding eigenvectors are degenerate, which in turn means that they are not unique. Two linearly independent ones are \n",
    "$$\n",
    "x_2 = \\frac{1}{\\sqrt{5}}\\begin{pmatrix}\n",
    "−2\\\\ +1\\\\0\\end{pmatrix},\\quad\n",
    "x_3 = \\frac{1}{\\sqrt{10}}\\begin{pmatrix}\n",
    "3\\\\ 0\\\\1\\end{pmatrix}\n",
    "$$\n",
    "In this case, it is not clear what your eigenproblem solver will give for the eigenvectors. Try to find a relationship between your computed eigenvectors with the eigenvalue −3 and these two linearly independent ones.\n",
    "(Hint：Please read the sample program `Eigen.ipynb` for your reference)\n"
   ]
  },
  {
   "cell_type": "code",
   "execution_count": null,
   "metadata": {},
   "outputs": [],
   "source": []
  },
  {
   "cell_type": "markdown",
   "metadata": {},
   "source": [
    "2. Please fit the Millikan data (as shown in the table) directly to a linear function\n",
    "    $$\n",
    "    q_k=ke\\pm\\Delta q_k\n",
    "    $$\n",
    "    and analyze the accuracy of the approximation. Assume that\n",
    "\n",
    "    (1) the error bars $\\Delta {q_k}$ in the experimental measurements is a constant as $\\Delta q$.\n",
    "\n",
    "    (2) Different $\\Delta {q_k}$ with $\\left\\vert\\Delta {q_k}\\right\\vert= 0.05q_k$."
   ]
  },
  {
   "cell_type": "markdown",
   "metadata": {},
   "source": [
    " $k$   | 4     | 5     | 6     | 7     | 8     | 9     | 10    | 11    |\n",
    " :---- | :---- | :---- | :---- | :---- | :---- | :---- | :---- | :---- |\n",
    " $q_k$ | 6.558 | 8.206 | 9.880 | 11.50 | 13.14 | 14.82 | 16.40 | 18.04 |\n",
    " \n",
    " $k$   | 12    | 13    | 14    | 15    | 16    | 17    | 18    | \n",
    " :---- | :---- | :---- | :---- | :---- | :---- | :---- | :---- |\n",
    " $q_k$ | 19.68 | 21.32 | 22.96 | 24.60 | 26.24 | 27.88 | 29.52 |       "
   ]
  },
  {
   "cell_type": "code",
   "execution_count": null,
   "metadata": {},
   "outputs": [],
   "source": []
  },
  {
   "cell_type": "markdown",
   "metadata": {},
   "source": [
    "3. Derive the linearization form for each of the following functions:\n",
    "    $$\n",
    "    \\begin{array}{llll}\n",
    "    (1) &y=\\dfrac{A}{x}+B  &    (2) &y=\\dfrac{D}{x+C}\\\\\n",
    "    (3) &y=\\dfrac{1}{Ax+B} &    (4) &y=\\dfrac{x}{A+Bx}\\\\\n",
    "    (5) &y=A\\ln x+B &      (6)& y=Cx^{A}\\\\\n",
    "    (7) &y=\\left( Ax+B\\right) ^{-2} &   (8) & y=Cxe^{-Dx}\n",
    "    \\end{array}\n",
    "    $$"
   ]
  },
  {
   "cell_type": "code",
   "execution_count": null,
   "metadata": {},
   "outputs": [],
   "source": []
  },
  {
   "cell_type": "markdown",
   "metadata": {},
   "source": [
    "4. In 1929 Edwin Hubble examined the data in the table relating the radial velocity $v$ of 24 extra galactic nebulae to their distance $r$ from our galaxy[^Hubble]. Although there was considerable scatter in the data, he fit them with a straight line:\n",
    "    $$\n",
    "    v = Hr\n",
    "    $$\n",
    "    where $H$ is now called the Hubble constant. \n",
    "\n",
    "    (1) Plot the data to verify the appropriateness of a linear relation\n",
    "    $$\n",
    "    v(r) \\approx a + Hr\n",
    "    $$\n",
    "    (2) Deduce a value for the error $\\sigma_i$ for each point as how much the histogram values appear to fluctuate about a smooth curve.\n",
    "    (3) Compute a least-squares straight-line fit to these data.\n",
    "    (4) Plot your fit on the curve with the data.\n",
    "    (5) After fitting the data, compute the variance and verify that approximately     one-third of the points miss the $\\sigma$ error band (that’s what is expected for a\n",
    "    random distribution of errors).\n",
    "    (6) Determine the $\\chi^2$ of the fit and comment on its value.\n",
    "    [^Hubble]: Hubble, E. (1929), A relation between distance and radial velocity among extra-galactic nebulae, Proc. Nat. Academy of Sciences of the United States of America, 15, 168-173."
   ]
  },
  {
   "cell_type": "markdown",
   "metadata": {},
   "source": [
    "| Object | $r$ | $v$ (km/s) |  Object| $r$ | $v$ (km/s) |Object| $r$ | $v$ (km/s) |\n",
    "| --- | --- |  --- | --- | --- | --- |  --- | --- | --- | \n",
    "| | 0.032 | 170  | 3627 |0.9 | 650 || 0.034 |290|\n",
    "|4826| 0.9 |150| 6822| 0.214| -130|4649| 2.0| 1090|\n",
    "|5236 |0.9| 500| 598| 0.263| -70|1068| 1.0 |920|\n",
    "|221| 0.275 |-185 |5055 |1.1 |450|224| 0.275| -220|\n",
    "|7331| 1.1| 500| 5457| 0.45| 200|4258 |1.4| 500|\n",
    "|4736| 0.5| 290| 4141| 1.7| 960|5194| 0.5 |270|\n",
    "|4382 |2.0 |500 |4449 |0.63 |200|4472 |2.0| 850|\n",
    "|4214 |0.8 |300 |4486| 2.0 |800|3031| 0.9| -30|"
   ]
  },
  {
   "cell_type": "code",
   "execution_count": null,
   "metadata": {},
   "outputs": [],
   "source": []
  },
  {
   "cell_type": "markdown",
   "metadata": {},
   "source": [
    "5. Measurements of thermal conductivity, $\\kappa$(W/mK) , of silicon at various temperatures, $T (K)$, are given as follows:\n",
    "  \n",
    "| $T$ (K)         | 50   | 100  | 150  | 200  | 400  | 600  | 800  | 1000 |\n",
    "| --------------- | ---- | ---- | ---- | ---- | ---- | ---- | ---- | ---- |\n",
    "| $\\kappa$ (W/mK) | 28   | 9.1  | 4.0  | 2.7  | 1.1  | 0.6  | 0.4  | 0.3  |\n",
    "\n",
    "\n"
   ]
  },
  {
   "cell_type": "markdown",
   "metadata": {},
   "source": [
    "The data is to be fitted with a function of the form $\\kappa=f(T)$. Determine which of the nonlinear equations: power function, exponential function, saturation function, can best fit the data and determine its parameters. Make a plot that shows the data points and the theoretical values."
   ]
  },
  {
   "cell_type": "code",
   "execution_count": null,
   "metadata": {},
   "outputs": [],
   "source": []
  },
  {
   "cell_type": "markdown",
   "metadata": {},
   "source": [
    "6. Please complete your review of the numerical method and python programming. More details can be found in the file CP_review_202004.pdf(.md)."
   ]
  },
  {
   "cell_type": "code",
   "execution_count": null,
   "metadata": {},
   "outputs": [],
   "source": []
  }
 ],
 "metadata": {
  "kernelspec": {
   "display_name": "Python 3",
   "language": "python",
   "name": "python3"
  },
  "language_info": {
   "codemirror_mode": {
    "name": "ipython",
    "version": 3
   },
   "file_extension": ".py",
   "mimetype": "text/x-python",
   "name": "python",
   "nbconvert_exporter": "python",
   "pygments_lexer": "ipython3",
   "version": "3.7.0"
  }
 },
 "nbformat": 4,
 "nbformat_minor": 2
}
