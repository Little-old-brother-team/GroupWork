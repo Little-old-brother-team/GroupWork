{
 "cells": [
  {
   "cell_type": "markdown",
   "metadata": {},
   "source": [
    "# Group Assignment Week 13\n",
    "## Group 3"
   ]
  },
  {
   "cell_type": "markdown",
   "metadata": {},
   "source": [
    "1.  Please read the following code, write comments and discuss its purpose.  \n",
    "    ```python\n",
    "    import numpy as np\n",
    "    from scipy import fftpack\n",
    "    N = 201\n",
    "    dx = (9 - (-9)) / (N - 1)\n",
    "    x = np.arange(-9, 9+dx, dx)\n",
    "    psi = np.exp(-(x**2)/3)*np.cos(2*x)\n",
    "    dpsi = fftpack.diff(psi, period=N*dx)\n",
    "    ```"
   ]
  },
  {
   "cell_type": "code",
   "execution_count": null,
   "metadata": {},
   "outputs": [],
   "source": []
  },
  {
   "cell_type": "markdown",
   "metadata": {},
   "source": [
    "2. The Hamiltonian for the quantum harmonic oscillator is given by \n",
    "$$\n",
    "H =\\frac{p^2}{2m}+\\frac{1}{2}m\\omega^2x^2\n",
    "$$\n",
    "Substituting this into the time-independent Schrödinger equation $H\\psi(x) = E\\psi(x)$ and solving for the first excited state, we find that this corresponds to the wavefunction\n",
    "$$\n",
    "\\psi_1(x) =\\left(\\frac{4\\alpha^3}{\\pi}\\right)^{1/4}e^{-\\alpha x^2/2}\n",
    "$$\n",
    "where $\\alpha = m\\omega/\\hbar$.\n",
    "(1) Using the Riemann sum technique to approximate the Fourier transform, let $\\alpha = 1$ and discretise $\\psi(x)$ over a reasonable grid size and modify the sample script to numerically calculate the momentum-space wavefunction $\\phi(k)$. Remember to choose your domain $−x_\\text{max} < x < x_\\text{max}$ such that $\\psi(\\pm x_\\text{max}) \\approx 0$.\n",
    "(2) How does your result compare against the exact result? Produce an error plot comparing the exact and numerical results over the domain.\n",
    "(3) Repeat part (1) for varying grid discretisations $\\Delta x$, and plot the resulting maximum absolute error vs $\\Delta x$. What do you find? How does the error in this approximation scale with $\\Delta x$?"
   ]
  },
  {
   "cell_type": "code",
   "execution_count": null,
   "metadata": {},
   "outputs": [],
   "source": []
  },
  {
   "cell_type": "markdown",
   "metadata": {},
   "source": [
    "2.  (1) Use Fourier differentiation and FFT implementation to calculate the first derivative of $\\psi_1(x)$ from problem 1, letting $\\alpha = 1$ and using $N = 256$ discretised grid points.  \n",
    "    (2) Modify the formula to instead calculate the second derivative. Use this expression to calculate the second derivative of $\\psi_1(x)$.  \n",
    "    (3) Compare your results to the exact solution to the first derivative $\\psi_1(x)$ and the second derivative $\\psi_1(x)$. What do you find? Repeat your results for various values of $N$, and plot the maximum error vs $N$.  \n",
    "    (4) Extend your analysis to include the method of finite differences. What can you say about the accuracy of Fourier differentiation vs the finite-difference method?  \n",
    "    Hint: the vectorised Cooley–Tukey algorithm can be implemented as follows:\n",
    "    ```python\n",
    "    def FFT2_numpy(f):\n",
    "        # Compute all 2-point DFTs\n",
    "        N = f.shape[0]\n",
    "        W = np.array([[1, 1], [1, -1]])\n",
    "        F = np.dot(W, f.reshape([2, -1]))\n",
    "        \n",
    "        # number of remaining Cooley-Tukey stages\n",
    "        stages = int(np.log2(N))-1\n",
    "        for i in range(stages):\n",
    "            k = F.shape[0] # size of the DFTs to combine\n",
    "            n = F.shape[1] # number of DFTs to combine\n",
    "            Am = F[:, :n//2] # 'even' terms\n",
    "            Bm = F[:, n//2:] # 'odd' terms\n",
    "            twiddle = np.exp(-1.j*np.pi*np.arange(k)/k)[:, None]\n",
    "            F = np.vstack([Am + twiddle*Bm, Am - twiddle*Bm])\n",
    "        return F.flatten()\n",
    "    ```\n"
   ]
  },
  {
   "cell_type": "code",
   "execution_count": null,
   "metadata": {},
   "outputs": [],
   "source": []
  },
  {
   "cell_type": "markdown",
   "metadata": {},
   "source": [
    "4.  Consider the following code, which uses the Euler method to compute the trajectory of a bouncing ball, assuming perfect reflection at the surface $x = 0$:  \n",
    "   (1) Compile and run the program, and then plot and interpret the output. Are your numerical results physically correct? If not, can you identify a **systematic error** in the algorithm, and then fix the problem?  \n",
    "   (2) Change the time step $dt$ in the code, but keep the same total evolution time. Explain the changes in the results.  \n",
    "    (3) Change the initial velocity and position of the falling ball in the code. Plot and interpret your results.  \n",
    "    (4) Consider inelastic collisions with the table (e.g. the ball loses 10% of its speed after every collision). Plot and interpret your results.  \n",
    "    ```python\n",
    "    x = 1.0 # initial height of the ball\n",
    "    v = 0 # initial velocity of the ball\n",
    "    g = 9.8 # gravitational acceleration\n",
    "    t = 0 # initial time\n",
    "    dt = 0.01 # size of time step\n",
    "    # loop for 300 timesteps\n",
    "    for steps in range(300):\n",
    "        t = t + dt\n",
    "        x = x + v*dt\n",
    "        v = v - g*dt\n",
    "        # reflect the motion of the ball\n",
    "        # when it hits the surface x=0\n",
    "        if x < 0:\n",
    "            x = -x\n",
    "            v = -v\n",
    "        # write out data at each time step\n",
    "        with open(\"bounce.dat\", \"a+\") as f:\n",
    "            f.write(\"{} {} {}\\n\".format(t, x, v))\n",
    "    ```"
   ]
  },
  {
   "cell_type": "code",
   "execution_count": null,
   "metadata": {},
   "outputs": [],
   "source": []
  },
  {
   "cell_type": "markdown",
   "metadata": {},
   "source": [
    "5.  Consider the differential equation\n",
    "    $$\n",
    "    y^\\prime (x) = 1+2xy(x), y(0) = 0\n",
    "    $$\n",
    "    The exact solution to this differential equation is given by\n",
    "    $$\n",
    "    y(x) =\\frac{1}{2}\\sqrt{\\pi}e^{x^2}\\text{erf}(x)\n",
    "    $$\n",
    "    where $\\text{erf}(x)$ is the error function.  \n",
    "    (1) Find the numerical solution for $0 \\leq x \\leq 1$, using Rk2 algorithm.     \n",
    "    (2) Calculate the numeric error in your solution for various values of $\\Delta x$, and plot how the error scales with $\\Delta x$.  \n",
    "        (i) How does this compare to the Euler method?  \n",
    "        (ii) How does this compare to the <font color=green>leap-frog</font> method?  \n",
    "    (3) Now solve the differential equation using RK4. Analyse your results. How does the error scaling compare to RK2 method?  \n",
    "    Hint： the leap frog method is given as\n",
    "    $$\n",
    "    y_{n+1}=y_{n-1}+2\\Delta xf(x_n,y_n)\n",
    "    $$\n",
    "    We require two initial conditions, $y_0$ and $y_1$. The latter can be estimated from the forward Euler scheme.\n"
   ]
  },
  {
   "cell_type": "code",
   "execution_count": null,
   "metadata": {},
   "outputs": [],
   "source": []
  },
  {
   "cell_type": "markdown",
   "metadata": {},
   "source": [
    "6.  Use `scipy.integrate.odeint` to solve the following set of nonlinear ODEs.\n",
    "    $$\\begin{aligned}\n",
    "    \\frac{dx}{dt}= a(y - x),\\;\\frac{dy}{dt}= (c - a)x - xz + cy, \\; \\frac{dz}{dt}= xy - bz\n",
    "    \\end{aligned}$$\n",
    "    For the initial conditions, use $x_0 = -10$, $y_0 = 0$, $z_0 = 35$. Setting the initial parameters to $a = 40$, $b = 5$, $c = 35$ gives chaotic solutions like those shown below. Setting $b = 10$ while keeping $a = 40$ and $c = 35$ yields periodic solutions. Take care to choose a small enough     time step (but not too small!).\n",
    "\n",
    "    ![pic](david_chaos.png)"
   ]
  },
  {
   "cell_type": "code",
   "execution_count": null,
   "metadata": {},
   "outputs": [],
   "source": []
  }
 ],
 "metadata": {
  "kernelspec": {
   "display_name": "Python 3",
   "language": "python",
   "name": "python3"
  },
  "language_info": {
   "codemirror_mode": {
    "name": "ipython",
    "version": 3
   },
   "file_extension": ".py",
   "mimetype": "text/x-python",
   "name": "python",
   "nbconvert_exporter": "python",
   "pygments_lexer": "ipython3",
   "version": "3.7.0"
  }
 },
 "nbformat": 4,
 "nbformat_minor": 2
}
