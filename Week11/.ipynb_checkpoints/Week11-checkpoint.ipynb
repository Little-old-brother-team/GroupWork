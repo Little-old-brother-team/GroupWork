{
 "cells": [
  {
   "cell_type": "markdown",
   "metadata": {},
   "source": [
    "# Computational Physics\n",
    "\n",
    "## Assignment Week 11\n",
    "\n",
    "### Group 3"
   ]
  },
  {
   "cell_type": "markdown",
   "metadata": {},
   "source": [
    "1. Please download **demo_midpoint.zip** und unpack it. What is the purpose of the main script `demo_midpoint.py`? What conclusion can you make by running the script? "
   ]
  },
  {
   "cell_type": "code",
   "execution_count": null,
   "metadata": {},
   "outputs": [],
   "source": []
  },
  {
   "cell_type": "markdown",
   "metadata": {},
   "source": [
    "2.  Write a function to that numerically estimates the integral\n",
    "    $$\n",
    "    A =\\int^b_af (x)dx\n",
    "    $$\n",
    "    using the trapezoid rule. The simplest version of the trapezoid rule, which generally gives a very crude estimate, is\n",
    "    $$\n",
    "    A_0 = \\frac{1}{2}h_0[f (a) + f (b)], \\; h_0 = b - a\n",
    "    $$\n",
    "    This estimate for the integral can be refined by dividing the interval from $a$ to $b$ in two and performing the trapezoid rule on each interval. This process can be repeated as many times as needed until you get the desired precision, which you can estimate by requiring that the fractional difference between successive estimates $(A_i -A_{i-1})/A_i < \\epsilon$, where $\\epsilon$ might be some small number like 10^-8^.\n",
    "    \n",
    "    <img width=600 src=david_trapzoid_rule.png>\n",
    "    \n",
    "    Repeatedly applying the trapezoid rule gives the following succession of estimates\n",
    "    $$\\begin{aligned}\n",
    "    A_1& = \\frac{1}{2}h_1[f (a) + f (a + h_1)] + \\frac{1}{2}h_1[f (a + h_1) + f (b)],\\; h_1 = \\frac{1}{2}h_0\\\\\n",
    "    &= \\frac{1}{2}h_1[f (a) + 2f (a + h_1) + f (b)]\\\\\n",
    "    &= \\frac{1}{2}A_0 + h_1f (a + h_1)\\\\\n",
    "    A_2 &= \\frac{1}{2}A_1 + h_2[f (a + h_2) + f (b - h_2)],\\; h_2 = \\frac{1}{2}h_1\\\\\n",
    "    A_3& = \\frac{1}{2}A_2 + h_3[f (a + h_3) + f (a + 3h_3) + f (a + 5h_5) + f (b-h_3)],\\;h_3 = \\frac{1}{2}h_2\\\\\n",
    "    &\\vdots\\\\\n",
    "    A_n &= \\frac{1}{2}A_{n-1} + h_n\n",
    "    \\sum_{i=1,3,\\cdots}^{2^{n-1}}\n",
    "    f (a + ih_n),\\; h_n = \\frac{1}{2}\n",
    "    h_{n-1},\\; \\text{for }n\\geq 1\n",
    "    \\end{aligned}$$\n",
    "    Write a function that implements the trapezoid rule by first evaluating $A_0$, then $A_1$, $\\cdots$ until $\\epsilon$ is less than some preset tolerance. Note that to calculate $A_i$ , by using the previous result $A_{i-1}$, you need only to evaluate the function to be integrated $f (x)$ at the open circles in the preceding diagram, saving a great deal of computation.\n",
    "\n",
    "    Try your trapezoid integration function on the following integrals\n",
    "    and show that you get an answer within the specified tolerance of\n",
    "    the exact value.\n",
    "    \n",
    "    (1) $\\int_2^5 x^2 dx=39$\n",
    "    \n",
    "    (2) $\\int_0^\\pi \\sin x dx =2$\n",
    "    \n",
    "    (3) $\\int_0^{3.5} e^{-x^2}dx=\\frac{\\sqrt{\\pi}}{2}\\text{erf}(3.5)\\simeq 0.8862262668989721$"
   ]
  },
  {
   "cell_type": "code",
   "execution_count": null,
   "metadata": {},
   "outputs": [],
   "source": []
  },
  {
   "cell_type": "markdown",
   "metadata": {},
   "source": [
    "3.  (1) Show that composite midpoint method for a double integral:  \n",
    "    $$\\begin{aligned}\n",
    "    \\int_a^b\\int_c^d f(x,y)dydx &\\approx h_x\\sum_{i=0}^{n_x-1}h_y\\sum_{j=0}^{n_y-1}f(x_i,y_j)\\\\\n",
    "    &=h_xh_y\\sum_{i=0}^{n_x-1}\\sum_{j=0}^{n_y-1}f(a+\\frac{h_x}{2}+ih_x,c+\\frac{h_y}{2}+jh_y)\n",
    "    \\end{aligned}$$\n",
    "    \n",
    "    (2) Write a code to implement the above algorithm. Please follow the following three test procedures: \n",
    "       - (2.a) a test function to compare with hand calculations \n",
    "       - (2.b) solving a problem without numerical errors. You can take\n",
    "        $$\n",
    "        \\int_2^3\\int_0^2 (2x+y)dxdy=9\n",
    "        $$\n",
    "       - (2.c Optional) demonstrating correct convergence rates. Computing convergence rates requires somewhat more tedious programming than for the previous tests, the algorithm typically goes like:    \n",
    "            for $i = 0, 1, 2, \\cdots ,q$\n",
    "            – $n_i = 2^{i+1}$\n",
    "            – Compute integral with $n_i$ intervals\n",
    "            – Compute the error $E_i$\n",
    "            – Estimate $r_i$ as\n",
    "            $$\n",
    "            r_{i-1}=-\\frac{\\ln(E_i/E_{i-1})}{\\ln (n_i/n_{i-1})}\n",
    "            $$"
   ]
  },
  {
   "cell_type": "code",
   "execution_count": null,
   "metadata": {},
   "outputs": [],
   "source": []
  },
  {
   "cell_type": "markdown",
   "metadata": {},
   "source": [
    "4. Please use Romberg integration to obtain a eighth-order accurate approximation to\n",
    "    (1) $$\n",
    "    \\int_{-1}^1 \\frac{dx}{1+x^2}=\\frac{\\pi}{2}\n",
    "    $$   \n",
    "    (2) $$\n",
    "    \\int_{-\\infty}^{\\infty}\\frac{dx}{(e^x+x+1)^2+\\pi^2}=\\frac{2}{3}$$\n"
   ]
  },
  {
   "cell_type": "code",
   "execution_count": null,
   "metadata": {},
   "outputs": [],
   "source": []
  },
  {
   "cell_type": "markdown",
   "metadata": {},
   "source": [
    "5. Try with Gauss-Legendre formula to determine the integral using 5, 10, and 20 points: \n",
    "   $$\n",
    "   I = \\int_0^1 \\frac{\\sin t}{t}dt\n",
    "   $$\n",
    "   (Hint: You can find the weights and nodes on the website: https://dlmf.nist.gov/)"
   ]
  },
  {
   "cell_type": "code",
   "execution_count": null,
   "metadata": {},
   "outputs": [],
   "source": []
  }
 ],
 "metadata": {
  "kernelspec": {
   "display_name": "Python 3",
   "language": "python",
   "name": "python3"
  },
  "language_info": {
   "codemirror_mode": {
    "name": "ipython",
    "version": 3
   },
   "file_extension": ".py",
   "mimetype": "text/x-python",
   "name": "python",
   "nbconvert_exporter": "python",
   "pygments_lexer": "ipython3",
   "version": "3.7.0"
  }
 },
 "nbformat": 4,
 "nbformat_minor": 2
}
