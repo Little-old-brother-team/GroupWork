{
 "cells": [
  {
   "cell_type": "markdown",
   "metadata": {},
   "source": [
    "# Computational Physics\n",
    "\n",
    "## Assignment Week 11\n",
    "\n",
    "### Group 3"
   ]
  },
  {
   "cell_type": "markdown",
   "metadata": {},
   "source": [
    "1. Please download **demo_midpoint.zip** und unpack it. What is the purpose of the main script `demo_midpoint.py`? What conclusion can you make by running the script? "
   ]
  },
  {
   "cell_type": "code",
   "execution_count": null,
   "metadata": {},
   "outputs": [],
   "source": []
  },
  {
   "cell_type": "markdown",
   "metadata": {},
   "source": [
    "2.  Write a function to that numerically estimates the integral\n",
    "    $$\n",
    "    A =\\int^b_af (x)dx\n",
    "    $$\n",
    "    using the trapezoid rule. The simplest version of the trapezoid rule, which generally gives a very crude estimate, is\n",
    "    $$\n",
    "    A_0 = \\frac{1}{2}h_0[f (a) + f (b)], \\; h_0 = b - a\n",
    "    $$\n",
    "    This estimate for the integral can be refined by dividing the interval from $a$ to $b$ in two and performing the trapezoid rule on each interval. This process can be repeated as many times as needed until you get the desired precision, which you can estimate by requiring that the fractional difference between successive estimates $(A_i -A_{i-1})/A_i < \\epsilon$, where $\\epsilon$ might be some small number like $10^{-8}$.\n",
    "    \n",
    "    <img width=600 src=david_trapzoid_rule.png>\n",
    "    \n",
    "    Repeatedly applying the trapezoid rule gives the following succession of estimates\n",
    "    $$\\begin{aligned}\n",
    "    A_1& = \\frac{1}{2}h_1[f (a) + f (a + h_1)] + \\frac{1}{2}h_1[f (a + h_1) + f (b)],\\; h_1 = \\frac{1}{2}h_0\\\\\n",
    "    &= \\frac{1}{2}h_1[f (a) + 2f (a + h_1) + f (b)]\\\\\n",
    "    &= \\frac{1}{2}A_0 + h_1f (a + h_1)\\\\\n",
    "    A_2 &= \\frac{1}{2}A_1 + h_2[f (a + h_2) + f (b - h_2)],\\; h_2 = \\frac{1}{2}h_1\\\\\n",
    "    A_3& = \\frac{1}{2}A_2 + h_3[f (a + h_3) + f (a + 3h_3) + f (a + 5h_5) + f (b-h_3)],\\;h_3 = \\frac{1}{2}h_2\\\\\n",
    "    &\\vdots\\\\\n",
    "    A_n &= \\frac{1}{2}A_{n-1} + h_n\n",
    "    \\sum_{i=1,3,\\cdots}^{2^{n-1}}\n",
    "    f (a + ih_n),\\; h_n = \\frac{1}{2}\n",
    "    h_{n-1},\\; \\text{for }n\\geq 1\n",
    "    \\end{aligned}$$\n",
    "    Write a function that implements the trapezoid rule by first evaluating $A_0$, then $A_1$, $\\cdots$ until $\\epsilon$ is less than some preset tolerance. Note that to calculate $A_i$ , by using the previous result $A_{i-1}$, you need only to evaluate the function to be integrated $f (x)$ at the open circles in the preceding diagram, saving a great deal of computation.\n",
    "\n",
    "    Try your trapezoid integration function on the following integrals\n",
    "    and show that you get an answer within the specified tolerance of\n",
    "    the exact value.\n",
    "    \n",
    "    (1) $\\int_2^5 x^2 dx=39$\n",
    "    \n",
    "    (2) $\\int_0^\\pi \\sin x dx =2$\n",
    "    \n",
    "    (3) $\\int_0^{3.5} e^{-x^2}dx=\\frac{\\sqrt{\\pi}}{2}\\text{erf}(3.5)\\simeq 0.8862262668989721$"
   ]
  },
  {
   "cell_type": "code",
   "execution_count": 126,
   "metadata": {},
   "outputs": [],
   "source": [
    "import numpy as np\n",
    "def trapezoid(func,a,b, e = 1e-6):\n",
    "    \"\"\"\n",
    "    integral function func from a to b with trapezoid method. \n",
    "    \"\"\"\n",
    "    N = 0\n",
    "    h = b - a\n",
    "    eps = np.inf\n",
    "    Alast =  1 / 2 * ( b - a ) * ( func(b) + func(a) )\n",
    "    A = Alast\n",
    "    \n",
    "    MAX_TIMES = 100      #循环最大次数\n",
    "    \n",
    "    while abs(eps) > e:  # 误差大于预设值时循环\n",
    "        N += 1\n",
    "        h = h/2\n",
    "        A = 1/2 * Alast + h * sum(func(a + i*h) for i in np.arange(1,(2**N),2))\n",
    "        eps = A - Alast\n",
    "        Alast = A\n",
    "        MAX_TIMES -= 1\n",
    "        if MAX_TIMES == 0:\n",
    "            break\n",
    "        \n",
    "    return A"
   ]
  },
  {
   "cell_type": "code",
   "execution_count": 127,
   "metadata": {},
   "outputs": [
    {
     "name": "stdout",
     "output_type": "stream",
     "text": [
      "误差都取1e-6\n",
      "39.0000002682209\n",
      "1.999999901954289\n",
      "0.8862261377360681\n"
     ]
    }
   ],
   "source": [
    "print('误差都取1e-6')\n",
    "\n",
    "f1 = lambda x : x * x\n",
    "print(trapezoid(f1,2,5))\n",
    "\n",
    "f2 = lambda x : np.sin(x)\n",
    "print(trapezoid(f2,0,np.pi))\n",
    "\n",
    "f3 = lambda x : np.exp(- x*x )\n",
    "print(trapezoid(f3,0,3.5))"
   ]
  },
  {
   "cell_type": "markdown",
   "metadata": {},
   "source": [
    "可见，都在要求的精度内"
   ]
  },
  {
   "cell_type": "markdown",
   "metadata": {},
   "source": [
    "3.  (1) Show that composite midpoint method for a double integral:  \n",
    "    $$\\begin{aligned}\n",
    "    \\int_a^b\\int_c^d f(x,y)dydx &\\approx h_x\\sum_{i=0}^{n_x-1}h_y\\sum_{j=0}^{n_y-1}f(x_i,y_j)\\\\\n",
    "    &=h_xh_y\\sum_{i=0}^{n_x-1}\\sum_{j=0}^{n_y-1}f(a+\\frac{h_x}{2}+ih_x,c+\\frac{h_y}{2}+jh_y)\n",
    "    \\end{aligned}$$\n",
    "    \n",
    "    (2) Write a code to implement the above algorithm. Please follow the following three test procedures: \n",
    "       - (2.a) a test function to compare with hand calculations \n",
    "       - (2.b) solving a problem without numerical errors. You can take\n",
    "        $$\n",
    "        \\int_2^3\\int_0^2 (2x+y)dxdy=9\n",
    "        $$\n",
    "       - (2.c Optional) demonstrating correct convergence rates. Computing convergence rates requires somewhat more tedious programming than for the previous tests, the algorithm typically goes like:    \n",
    "            for $i = 0, 1, 2, \\cdots ,q$\n",
    "            – $n_i = 2^{i+1}$\n",
    "            – Compute integral with $n_i$ intervals\n",
    "            – Compute the error $E_i$\n",
    "            – Estimate $r_i$ as\n",
    "            $$\n",
    "            r_{i-1}=-\\frac{\\ln(E_i/E_{i-1})}{\\ln (n_i/n_{i-1})}\n",
    "            $$"
   ]
  },
  {
   "cell_type": "code",
   "execution_count": null,
   "metadata": {},
   "outputs": [],
   "source": []
  },
  {
   "cell_type": "markdown",
   "metadata": {},
   "source": [
    "4. Please use Romberg integration to obtain a eighth-order accurate approximation to  \n",
    "    (1) $$\n",
    "    \\int_{-1}^1 \\frac{dx}{1+x^2}=\\frac{\\pi}{2}\n",
    "    $$   \n",
    "    (2) $$\n",
    "    \\int_{-\\infty}^{\\infty}\\frac{dx}{(e^x+x+1)^2+\\pi^2}=\\frac{2}{3}$$\n"
   ]
  },
  {
   "cell_type": "code",
   "execution_count": 128,
   "metadata": {},
   "outputs": [],
   "source": [
    "import numpy as np\n",
    "def trap(func,a,b,N=100):\n",
    "    h = (b - a)/N\n",
    "    x = np.linspace(a,b,N+1)\n",
    "    fx = func(x)\n",
    "    return h*np.sum(fx) - h/2 * (fx[0] + fx[-1])\n",
    "\n",
    "def Romberg(func,a,b,perc,h = 0.1):\n",
    "    \"\"\"\n",
    "    设置h，初始的步长会小于h, perc指定高阶小量的次数 \n",
    "    \"\"\"\n",
    "    n = int(np.ceil(perc / 2))\n",
    "    T = np.zeros((n,n))\n",
    "    h_0 = b - a\n",
    "    h_temp = h_0\n",
    "    N = 0\n",
    "    while abs(h_temp)>h:\n",
    "        N += 1\n",
    "        h_temp = h_0 / N\n",
    "    for i in range(0,n):\n",
    "        T[i,0] = trap(func, a, b, 2**i * N)\n",
    "        \n",
    "    for k in range(1,n):\n",
    "        for j in range(0,n-k):\n",
    "            T[j,k] = (4**k * T[j+1,k-1] - T[j,k-1])/(4**k - 1)\n",
    "    \n",
    "    return T[0,n-1]\n",
    "        "
   ]
  },
  {
   "cell_type": "code",
   "execution_count": 129,
   "metadata": {},
   "outputs": [
    {
     "name": "stdout",
     "output_type": "stream",
     "text": [
      "(1) int_{-1}^{1}\\frac{dx}{1+x^2} = 1.5707963267948966\n",
      "    pi/2 = 1.5707963267948966\n"
     ]
    }
   ],
   "source": [
    "f4_1 = lambda x : 1/(1+x**2)\n",
    "print(r'(1) int_{-1}^{1}\\frac{dx}{1+x^2} = ',end = '')\n",
    "print(Romberg(f4_1,-1,1,8))\n",
    "print(f'    pi/2 = {np.pi/2}')"
   ]
  },
  {
   "cell_type": "markdown",
   "metadata": {},
   "source": [
    "(2)  \n",
    "分段积分$[-\\infty,-1],[-1,1],[1,\\infty]$\n",
    "在$[-\\infty,-1],[1,\\infty]$上，取x = 1/y,带入\n",
    "$$\n",
    "\\int_{-\\infty(1)}^{-1(\\infty)}\\frac{dx}{(e^x+x+1)^2+\\pi^2}=-\\int_{0(1)}^{-1(0)}\\frac{dy}{(y e^{1/y}+y +1)^2+y^2\\pi^2}\n",
    "$$"
   ]
  },
  {
   "cell_type": "code",
   "execution_count": 130,
   "metadata": {},
   "outputs": [
    {
     "name": "stdout",
     "output_type": "stream",
     "text": [
      "\\int_{-\\infty}^{\\infty}\\frax{dx}{(e^x+x+1)^2+\\pi^2} = 0.6666666666666665\n",
      "exact value : 0.6666666666666666\n"
     ]
    }
   ],
   "source": [
    "import warnings \n",
    "warnings.filterwarnings(\"ignore\")   #e指数计算溢出为inf会报warning，把warning关掉\n",
    "\n",
    "part1 = lambda x : 1/((np.exp(x)+x+1)**2+np.pi**2)\n",
    "part2 = lambda x : - 1/( (x*np.exp(1/x) + x +1)**2 + x*x*np.pi**2)\n",
    "\n",
    "intergral = Romberg(part2,-1e-40,-1,8,0.01) + Romberg(part2,1,1e-40,8,0.01) + Romberg(part1,-1,1,8,0.01)\n",
    "print(r'\\int_{-\\infty}^{\\infty}\\frax{dx}{(e^x+x+1)^2+\\pi^2} = ',end = '')\n",
    "print(intergral)\n",
    "print(f'exact value : {2/3}')"
   ]
  },
  {
   "cell_type": "markdown",
   "metadata": {},
   "source": [
    "5. Try with Gauss-Legendre formula to determine the integral using 5, 10, and 20 points: \n",
    "   $$\n",
    "   I = \\int_0^1 \\frac{\\sin t}{t}dt\n",
    "   $$\n",
    "   (Hint: You can find the weights and nodes on the website: https://dlmf.nist.gov/)"
   ]
  },
  {
   "cell_type": "code",
   "execution_count": null,
   "metadata": {},
   "outputs": [],
   "source": []
  }
 ],
 "metadata": {
  "kernelspec": {
   "display_name": "Python 3",
   "language": "python",
   "name": "python3"
  },
  "language_info": {
   "codemirror_mode": {
    "name": "ipython",
    "version": 3
   },
   "file_extension": ".py",
   "mimetype": "text/x-python",
   "name": "python",
   "nbconvert_exporter": "python",
   "pygments_lexer": "ipython3",
   "version": "3.7.0"
  }
 },
 "nbformat": 4,
 "nbformat_minor": 2
}
