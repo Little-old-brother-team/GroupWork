{
 "cells": [
  {
   "cell_type": "markdown",
   "metadata": {},
   "source": [
    "# Computational Physics\n",
    "\n",
    "## Assignment Week 11\n",
    "\n",
    "### Group 3"
   ]
  },
  {
   "cell_type": "markdown",
   "metadata": {},
   "source": [
    "1. Please download **demo_midpoint.zip** und unpack it. What is the purpose of the main script `demo_midpoint.py`? What conclusion can you make by running the script? "
   ]
  },
  {
   "cell_type": "markdown",
   "metadata": {},
   "source": [
    "Sol: The main script `demo_midpoint.py` aims at testing the efficiency (speed) of the two midpoint integral algorithm by separately run them for 10 times. The result shows the algorithm in `integration_methods_vec.py` is 30 times faster than the one in 'midpoint.py`.\n",
    "\n",
    "The main difference of the two algorithm is that `midpoint.py` use a `for` loop while the other uses vectorize programming. As i have known before, the vectorize programming will be much faster than using iterations in MATLAB, it seems this dogma also works in python. "
   ]
  },
  {
   "cell_type": "markdown",
   "metadata": {},
   "source": [
    "2.  Write a function to that numerically estimates the integral\n",
    "    $$\n",
    "    A =\\int^b_af (x)dx\n",
    "    $$\n",
    "    using the trapezoid rule. The simplest version of the trapezoid rule, which generally gives a very crude estimate, is\n",
    "    $$\n",
    "    A_0 = \\frac{1}{2}h_0[f (a) + f (b)], \\; h_0 = b - a\n",
    "    $$\n",
    "    This estimate for the integral can be refined by dividing the interval from $a$ to $b$ in two and performing the trapezoid rule on each interval. This process can be repeated as many times as needed until you get the desired precision, which you can estimate by requiring that the fractional difference between successive estimates $(A_i -A_{i-1})/A_i < \\epsilon$, where $\\epsilon$ might be some small number like 10^-8^.\n",
    "    \n",
    "    <img width=600 src=david_trapzoid_rule.png>\n",
    "    \n",
    "    Repeatedly applying the trapezoid rule gives the following succession of estimates\n",
    "    $$\\begin{aligned}\n",
    "    A_1& = \\frac{1}{2}h_1[f (a) + f (a + h_1)] + \\frac{1}{2}h_1[f (a + h_1) + f (b)],\\; h_1 = \\frac{1}{2}h_0\\\\\n",
    "    &= \\frac{1}{2}h_1[f (a) + 2f (a + h_1) + f (b)]\\\\\n",
    "    &= \\frac{1}{2}A_0 + h_1f (a + h_1)\\\\\n",
    "    A_2 &= \\frac{1}{2}A_1 + h_2[f (a + h_2) + f (b - h_2)],\\; h_2 = \\frac{1}{2}h_1\\\\\n",
    "    A_3& = \\frac{1}{2}A_2 + h_3[f (a + h_3) + f (a + 3h_3) + f (a + 5h_5) + f (b-h_3)],\\;h_3 = \\frac{1}{2}h_2\\\\\n",
    "    &\\vdots\\\\\n",
    "    A_n &= \\frac{1}{2}A_{n-1} + h_n\n",
    "    \\sum_{i=1,3,\\cdots}^{2^{n-1}}\n",
    "    f (a + ih_n),\\; h_n = \\frac{1}{2}\n",
    "    h_{n-1},\\; \\text{for }n\\geq 1\n",
    "    \\end{aligned}$$\n",
    "    Write a function that implements the trapezoid rule by first evaluating $A_0$, then $A_1$, $\\cdots$ until $\\epsilon$ is less than some preset tolerance. Note that to calculate $A_i$ , by using the previous result $A_{i-1}$, you need only to evaluate the function to be integrated $f (x)$ at the open circles in the preceding diagram, saving a great deal of computation.\n",
    "\n",
    "    Try your trapezoid integration function on the following integrals\n",
    "    and show that you get an answer within the specified tolerance of\n",
    "    the exact value.\n",
    "    \n",
    "    (1) $\\int_2^5 x^2 dx=39$\n",
    "    \n",
    "    (2) $\\int_0^\\pi \\sin x dx =2$\n",
    "    \n",
    "    (3) $\\int_0^{3.5} e^{-x^2}dx=\\frac{\\sqrt{\\pi}}{2}\\text{erf}(3.5)\\simeq 0.8862262668989721$"
   ]
  },
  {
   "cell_type": "code",
   "execution_count": 1,
   "metadata": {},
   "outputs": [],
   "source": [
    "import numpy as np\n",
    "def trapezoid(func,a,b, e = 1e-6):\n",
    "    \"\"\"\n",
    "    integral function func from a to b with trapezoid method. \n",
    "    \"\"\"\n",
    "    N = 0\n",
    "    h = b - a\n",
    "    eps = np.inf\n",
    "    Alast =  1 / 2 * ( b - a ) * ( func(b) + func(a) )\n",
    "    A = Alast\n",
    "    \n",
    "    MAX_TIMES = 100      #循环最大次数\n",
    "    \n",
    "    while abs(eps) > e:  # 误差大于预设值时循环\n",
    "        N += 1\n",
    "        h = h/2\n",
    "        A = 1/2 * Alast + h * sum(func(a + i*h) for i in np.arange(1,(2**N),2)) #递推公式\n",
    "        eps = A - Alast\n",
    "        Alast = A\n",
    "        MAX_TIMES -= 1\n",
    "        if MAX_TIMES == 0:\n",
    "            break\n",
    "        \n",
    "    return A"
   ]
  },
  {
   "cell_type": "code",
   "execution_count": 2,
   "metadata": {},
   "outputs": [
    {
     "name": "stdout",
     "output_type": "stream",
     "text": [
      "误差都取1e-6\n",
      "39.0000002682209\n",
      "1.999999901954289\n",
      "0.8862261377360681\n"
     ]
    }
   ],
   "source": [
    "print('误差都取1e-6')\n",
    "\n",
    "f1 = lambda x : x * x\n",
    "print(trapezoid(f1,2,5))\n",
    "\n",
    "f2 = lambda x : np.sin(x)\n",
    "print(trapezoid(f2,0,np.pi))\n",
    "\n",
    "f3 = lambda x : np.exp(- x*x )\n",
    "print(trapezoid(f3,0,3.5))"
   ]
  },
  {
   "cell_type": "markdown",
   "metadata": {},
   "source": [
    "可见，都在要求的精度内"
   ]
  },
  {
   "cell_type": "markdown",
   "metadata": {},
   "source": [
    "3.  (1) Show that composite midpoint method for a double integral:  \n",
    "    \\begin{aligned}\n",
    "    \\int_a^b\\int_c^d f(x,y)dydx &\\approx h_x\\sum_{i=0}^{n_x-1}h_y\\sum_{j=0}^{n_y-1}f(x_i,y_j)\\\\\n",
    "    &=h_xh_y\\sum_{i=0}^{n_x-1}\\sum_{j=0}^{n_y-1}f(a+\\frac{h_x}{2}+ih_x,c+\\frac{h_y}{2}+jh_y)\n",
    "    \\end{aligned}\n",
    "    \n",
    "(2) Write a code to implement the above algorithm. Please follow the following three test procedures: \n",
    "- (2.a) a test function to compare with hand calculations \n",
    "- (2.b) solving a problem without numerical errors. You can take\n",
    "$$\n",
    "\\int_2^3\\int_0^2 (2x+y)dxdy=9\n",
    "$$\n",
    "- (2.c Optional) demonstrating correct convergence rates. Computing convergence rates requires somewhat more tedious programming than for the previous tests, the algorithm typically goes like:    \n",
    "for $i = 0, 1, 2, \\cdots ,q$  \n",
    "– $n_i = 2^{i+1}$  \n",
    "– Compute integral with $n_i$ intervals   \n",
    "– Compute the error $E_i$  \n",
    "– Estimate $r_i$ as  \n",
    "$$\n",
    "r_{i-1}=-\\frac{\\ln(E_i/E_{i-1})}{\\ln (n_i/n_{i-1})}\n",
    "$$"
   ]
  },
  {
   "cell_type": "markdown",
   "metadata": {},
   "source": [
    "Answer:  \n",
    "(1) Here we use midpoint rule on both $x$ and $y$:\n",
    "\n",
    "\\begin{aligned}\n",
    "\\int_a^b\\int_c^d f(x,y)dydx &\\approx \\int_c^d \\sum_{i=0}^{n_x-1} f(a + h_x + \\frac{h_x}{2}, y) h_x dy \\\\\n",
    "& \\approx h_xh_y\\sum_{i=0}^{n_x-1}\\sum_{j=0}^{n_y-1}f(a+\\frac{h_x}{2}+ih_x,c+\\frac{h_y}{2}+jh_y)\n",
    "\\end{aligned}\n"
   ]
  },
  {
   "cell_type": "code",
   "execution_count": 3,
   "metadata": {},
   "outputs": [],
   "source": [
    "import numpy as np \n",
    "def MidPoint_2D(f, num_x, num_y, xlim, ylim):\n",
    "    hx = (xlim[1] - xlim[0]) / num_x\n",
    "    hy = (ylim[1] - ylim[0]) / num_y\n",
    "    x_space = np.linspace(xlim[0] + hx/2, xlim[1] - hx/2, num_x)\n",
    "    y_space = np.linspace(ylim[0] + hy/2, ylim[1] - hy/2, num_y)\n",
    "    \n",
    "    integral = 0\n",
    "    for y in y_space:\n",
    "        integral += np.sum(f(x_space, y) * hx * hy)\n",
    "    return integral\n"
   ]
  },
  {
   "cell_type": "markdown",
   "metadata": {},
   "source": [
    "(2.a) Use $f=xy$ as a test function and (0, 1) as the integral intervals, by hand calculation, the result is:\n",
    "\\begin{aligned}\n",
    "\\int_0^1 \\int_0^1 xy \\mathrm{d}x \\mathrm{d}y &= \\int_0^1 \\frac{1}{2} y \\mathrm{d}y \\\\\n",
    "&= \\frac{1}{4}\n",
    "\\end{aligned}\n"
   ]
  },
  {
   "cell_type": "code",
   "execution_count": 4,
   "metadata": {},
   "outputs": [
    {
     "name": "stdout",
     "output_type": "stream",
     "text": [
      "By numerical method, result is: 0.25\n",
      "\n",
      "\n",
      "(2.b) A solve a test function without error:\n"
     ]
    }
   ],
   "source": [
    "# by numerical method:\n",
    "f_test = lambda x, y: x * y\n",
    "integral = MidPoint_2D(f_test, 4, 4, [0,1], [0,1])\n",
    "print(f\"By numerical method, result is: {integral}\")\n",
    "\n",
    "print(\"\\n\\n(2.b) A solve a test function without error:\")"
   ]
  },
  {
   "cell_type": "code",
   "execution_count": 5,
   "metadata": {},
   "outputs": [
    {
     "name": "stdout",
     "output_type": "stream",
     "text": [
      "By numerical method, result is: 12.0\n",
      "P.S. the result of real value is actually 12, not 9.\n",
      "\n",
      "\n",
      "(2.c)\n"
     ]
    }
   ],
   "source": [
    "f_test_2 = lambda x, y: 2*x + y\n",
    "integral = MidPoint_2D(f_test_2, 4, 4, [2,3], [0,2])\n",
    "print(f\"By numerical method, result is: {integral}\")\n",
    "print(\"P.S. the result of real value is actually 12, not 9.\")\n",
    "\n",
    "print(\"\\n\\n(2.c)\")"
   ]
  },
  {
   "cell_type": "markdown",
   "metadata": {},
   "source": [
    "(2.c) let test function as $f=x^{\\frac{1}{2}}y^2$, and on the integral (0, 1), the real result is $\\frac{2}{9}$\n",
    "\n",
    "for $i = 0, 1, 2, \\cdots ,q$  \n",
    "– $n_i = 2^{i+1}$  \n",
    "– Compute integral with $n_i$ intervals   \n",
    "– Compute the error $E_i$  \n",
    "– Estimate $r_i$ as  \n",
    "$$\n",
    "r_{i-1}=-\\frac{\\ln(E_i/E_{i-1})}{\\ln (n_i/n_{i-1})}\n",
    "$$"
   ]
  },
  {
   "cell_type": "code",
   "execution_count": 6,
   "metadata": {},
   "outputs": [
    {
     "data": {
      "image/png": "[encoded data removed]",
      "text/plain": [
       "<Figure size 432x288 with 1 Axes>"
      ]
     },
     "metadata": {
      "needs_background": "light"
     },
     "output_type": "display_data"
    }
   ],
   "source": [
    "import matplotlib.pyplot as plt\n",
    "f_test_3 = lambda x, y: x**(1/2) * y**2\n",
    "\n",
    "integral = MidPoint_2D(f_test_3, 2, 2, [0,1], [0,1])\n",
    "error_last = abs(integral - 2/9)\n",
    "\n",
    "iter_num = 15\n",
    "\n",
    "cov_rate = []\n",
    "for i in range(1, iter_num):\n",
    "    n_i = 2**(i+1)\n",
    "    integral = MidPoint_2D(f_test_3, n_i, n_i, [0,1], [0,1])\n",
    "    error = abs(integral - 2/9)\n",
    "    cov_rate.append(-np.log(error/error_last) / np.log(2))\n",
    "    error_last = error\n",
    "\n",
    "plt.figure()\n",
    "plt.title(\"Convergence rate\")\n",
    "plt.plot(range(iter_num - 1), cov_rate)\n",
    "plt.show()\n"
   ]
  },
  {
   "cell_type": "markdown",
   "metadata": {},
   "source": [
    "4. Please use Romberg integration to obtain a eighth-order accurate approximation to\n",
    "    (1)\n",
    "    $$\n",
    "    \\int_{-1}^1 \\frac{dx}{1+x^2}=\\frac{\\pi}{2}\n",
    "    $$   \n",
    "    (2) $$\n",
    "    \\int_{-\\infty}^{\\infty}\\frac{dx}{(e^x+x+1)^2+\\pi^2}=\\frac{2}{3}$$\n"
   ]
  },
  {
   "cell_type": "code",
   "execution_count": 7,
   "metadata": {},
   "outputs": [],
   "source": [
    "import numpy as np\n",
    "def trap(func,a,b,N=100):\n",
    "    h = (b - a)/N\n",
    "    x = np.linspace(a,b,N+1)\n",
    "    fx = func(x)\n",
    "    return h*np.sum(fx) - h/2 * (fx[0] + fx[-1])\n",
    "\n",
    "def Romberg(func,a,b,max_ord,h = 0.1):\n",
    "    \"\"\"\n",
    "    设置h，初始的步长会小于h, max_ord指定高阶小量的次数 \n",
    "    \"\"\"\n",
    "    n = int(np.ceil(max_ord / 2))\n",
    "    T = np.zeros((n,n))\n",
    "    h_0 = b - a\n",
    "    h_temp = h_0\n",
    "    N = 0\n",
    "    while abs(h_temp)>h:\n",
    "        N += 1\n",
    "        h_temp = h_0 / N\n",
    "    for i in range(0,n):\n",
    "        T[i,0] = trap(func, a, b, 2**i * N)   #再细分2倍的区间\n",
    "        \n",
    "    for k in range(1,n):\n",
    "        for j in range(0,n-k):\n",
    "            T[j,k] = (4**k * T[j+1,k-1] - T[j,k-1])/(4**k - 1) #递推公式计算\n",
    "    \n",
    "    return T[0,n-1]"
   ]
  },
  {
   "cell_type": "code",
   "execution_count": 8,
   "metadata": {},
   "outputs": [
    {
     "name": "stdout",
     "output_type": "stream",
     "text": [
      "(1) int_{-1}^{1}\\frac{dx}{1+x^2} = 1.5707963267948966\n",
      "    pi/2 = 1.5707963267948966\n"
     ]
    }
   ],
   "source": [
    "f4_1 = lambda x : 1/(1+x**2)\n",
    "print(r'(1) int_{-1}^{1}\\frac{dx}{1+x^2} = ',end = '')\n",
    "print(Romberg(f4_1,-1,1,8))\n",
    "print(f'    pi/2 = {np.pi/2}')"
   ]
  },
  {
   "cell_type": "markdown",
   "metadata": {},
   "source": [
    "(2)  \n",
    "分段积分$[-\\infty,-1],[-1,1],[1,\\infty]$\n",
    "在$[-\\infty,-1],[1,\\infty]$上，取x = 1/y,带入\n",
    "$$\n",
    "\\int_{-\\infty(1)}^{-1(\\infty)}\\frac{dx}{(e^x+x+1)^2+\\pi^2}=-\\int_{0(1)}^{-1(0)}\\frac{dy}{(y e^{1/y}+y +1)^2+y^2\\pi^2}\n",
    "$$"
   ]
  },
  {
   "cell_type": "code",
   "execution_count": 9,
   "metadata": {},
   "outputs": [
    {
     "name": "stdout",
     "output_type": "stream",
     "text": [
      "\\int_{-\\infty}^{\\infty}\\frax{dx}{(e^x+x+1)^2+\\pi^2} = 0.6666666666666665\n",
      "exact value : 0.6666666666666666\n"
     ]
    }
   ],
   "source": [
    "import warnings \n",
    "warnings.filterwarnings(\"ignore\")   #e指数计算溢出为inf会报warning，把warning关掉\n",
    "\n",
    "part1 = lambda x : 1/((np.exp(x)+x+1)**2+np.pi**2)\n",
    "part2 = lambda x : - 1/( (x*np.exp(1/x) + x +1)**2 + x*x*np.pi**2)\n",
    "\n",
    "intergral = Romberg(part2,-1e-40,-1,8,0.01) + Romberg(part2,1,1e-40,8,0.01) + Romberg(part1,-1,1,8,0.01)\n",
    "print(r'\\int_{-\\infty}^{\\infty}\\frax{dx}{(e^x+x+1)^2+\\pi^2} = ',end = '')\n",
    "print(intergral)\n",
    "print(f'exact value : {2/3}')"
   ]
  },
  {
   "cell_type": "markdown",
   "metadata": {},
   "source": [
    "5. Try with Gauss-Legendre formula to determine the integral using 5, 10, and 20 points: \n",
    "   $$\n",
    "   I = \\int_0^1 \\frac{\\sin t}{t}dt\n",
    "   $$\n",
    "   (Hint: You can find the weights and nodes on the website: https://dlmf.nist.gov/)"
   ]
  },
  {
   "cell_type": "code",
   "execution_count": 10,
   "metadata": {},
   "outputs": [
    {
     "name": "stdout",
     "output_type": "stream",
     "text": [
      "The result calculated by 5-point Gauss–Legendre formula is 1.8921661408065402.\n",
      "\n",
      "The result calculated by 10-point Gauss–Legendre formula is 1.8921661407343664.\n",
      "\n",
      "The result calculated by 20-point Gauss–Legendre formula is 1.8921661407343653.\n",
      "\n"
     ]
    }
   ],
   "source": [
    "import numpy as np\n",
    "\n",
    "# First download x and w from the given website\n",
    "x5 = [0.000000000000000, 0.538469310105683, 0.906179845938664]  # The total x is [x5,-x5]\n",
    "w5 = [0.568888888888889, 0.478628670499366, 0.236926885056189]\n",
    "\n",
    "x10 = [0.148874338981631211, 0.433395394129247191, 0.679409568299024406, 0.865063366688984511, 0.973906528517171720]\n",
    "w10 = [0.295524224714752870, 0.269266719309996355, 0.219086362515982044, 0.149451349150580593, 0.066671344308688138]\n",
    "\n",
    "x20 = [0.076526521133497333755, 0.227785851141645078080, 0.373706088715419560673, 0.510867001950827098004, 0.636053680726515025453, 0.746331906460150792614, 0.839116971822218823395, 0.912234428251325905868, 0.963971927277913791268, 0.993128599185094924786]\n",
    "w20 = [0.152753387130725850698, 0.149172986472603746788, 0.142096109318382051329, 0.131688638449176626898, 0.118194531961518417312, 0.101930119817240435037, 0.083276741576704748725, 0.062672048334109063570, 0.040601429800386941331, 0.017614007139152118312]\n",
    "\n",
    "def GaussLegendre(f, x, w):\n",
    "    # define the gauss legendre algorithm\n",
    "    integral = 0\n",
    "    for idx in range(len(x)):\n",
    "        if x[idx] == 0:\n",
    "            # 0 point should not be calculated twice\n",
    "            integral = integral + f(x[idx]) * w[idx]\n",
    "        else:\n",
    "            # x is symmetric between x = 0\n",
    "            integral = integral + f(x[idx]) * w[idx] + f(-x[idx]) * w[idx]\n",
    "    return integral\n",
    "\n",
    "def func(x):\n",
    "    if x == 0:\n",
    "        # To avoid zero division problem.\n",
    "        return 1\n",
    "    else:\n",
    "        return np.sin(x)/x\n",
    "\n",
    "print('The result calculated by 5-point Gauss–Legendre formula is {}.\\n'.format(GaussLegendre(func,x5,w5)))\n",
    "print('The result calculated by 10-point Gauss–Legendre formula is {}.\\n'.format(GaussLegendre(func,x10,w10)))\n",
    "print('The result calculated by 20-point Gauss–Legendre formula is {}.\\n'.format(GaussLegendre(func,x20,w20)))"
   ]
  },
  {
   "cell_type": "code",
   "execution_count": null,
   "metadata": {},
   "outputs": [],
   "source": []
  }
 ],
 "metadata": {
  "kernelspec": {
   "display_name": "Python 3",
   "language": "python",
   "name": "python3"
  },
  "language_info": {
   "codemirror_mode": {
    "name": "ipython",
    "version": 3
   },
   "file_extension": ".py",
   "mimetype": "text/x-python",
   "name": "python",
   "nbconvert_exporter": "python",
   "pygments_lexer": "ipython3",
   "version": "3.7.0"
  }
 },
 "nbformat": 4,
 "nbformat_minor": 2
}
