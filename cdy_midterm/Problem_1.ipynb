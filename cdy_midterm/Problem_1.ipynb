{
 "cells": [
  {
   "cell_type": "markdown",
   "metadata": {},
   "source": [
    "The value of $\\pi$ can be calculated with the series: \n",
    "$$\n",
    "\\pi = 4 \\sum\\limits_{n=1}^{\\infty}\\left(-1\\right)^{n-1}\\frac{1}{2n - 1}=4\\left(\n",
    "1-\\frac{1}{ 3}+\\frac{1}{ 5}-\\frac{1}{ 7}+\\frac{1}{9}-\\frac{1}{11}+\\cdots\\right)\n",
    "$$\n",
    "(1) Describe your algorithm that calculates the value of $\\pi$. Discuss the possible  sources of errors. How can you minimize the errors when you design your algorithm?      \n",
    "(2) Write a program to implement your algorithm and calculate the value of $\\pi$ with five decimal points.      \n",
    "(3) Use the program to calculate $\\pi$ and the true relative error for: $n = 10, 20, 40,100, 200$.     \n",
    "(4) Make a $\\log-\\log$ plot of the results from part (3).     \n",
    "**You need to submit your code for part (2) - (4)!**"
   ]
  },
  {
   "cell_type": "code",
   "execution_count": 2,
   "metadata": {},
   "outputs": [
    {
     "output_type": "stream",
     "name": "stdout",
     "text": "(2)Pi value: 3.1415914\n"
    }
   ],
   "source": [
    "# (2)\n",
    "import numpy as np \n",
    "def GetPi(eps, max_rd=None):\n",
    "    # since error ~ 4 / (4N+1)\n",
    "    if max_rd == None:\n",
    "        N = int((4 / eps))\n",
    "    else:\n",
    "        N = max_rd\n",
    "\n",
    "    rd = 0\n",
    "    sum_pi = 0\n",
    "    for i in np.linspace(N, 0, N+1):\n",
    "        sum_pi += 4 / (4*i + 1) - 4 / (4*i + 3)\n",
    "\n",
    "    return sum_pi\n",
    "\n",
    "print(f\"(2)Pi value: {GetPi(1e-5):.7f}\")"
   ]
  },
  {
   "cell_type": "code",
   "execution_count": 4,
   "metadata": {},
   "outputs": [
    {
     "output_type": "display_data",
     "data": {
      "text/plain": "<Figure size 432x288 with 1 Axes>",
      "image/png": "[encoded data removed]"
     },
     "metadata": {
      "needs_background": "light"
     }
    }
   ],
   "source": [
    "# (3) and (4)\n",
    "import matplotlib.pyplot as plt\n",
    "%matplotlib inline\n",
    "N = [10, 20, 40, 100, 200]\n",
    "error = []\n",
    "\n",
    "for n in N:\n",
    "    cal_pi = GetPi(1e-5, n)\n",
    "    error.append(abs(cal_pi - np.pi) / np.pi)\n",
    "\n",
    "\n",
    "plt.figure()\n",
    "plt.plot(np.log(N), np.log(error))\n",
    "plt.title(\"error ~ N\")\n",
    "plt.xlabel(\"log(N)\")\n",
    "plt.ylabel(\"log(error)\")\n",
    "plt.show()"
   ]
  }
 ],
 "metadata": {
  "language_info": {
   "codemirror_mode": {
    "name": "ipython",
    "version": 3
   },
   "file_extension": ".py",
   "mimetype": "text/x-python",
   "name": "python",
   "nbconvert_exporter": "python",
   "pygments_lexer": "ipython3",
   "version": "3.7.4-final"
  },
  "orig_nbformat": 2,
  "kernelspec": {
   "name": "python3",
   "display_name": "Python 3"
  }
 },
 "nbformat": 4,
 "nbformat_minor": 2
}