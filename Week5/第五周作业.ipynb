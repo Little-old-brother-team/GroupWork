{
 "cells": [
  {
   "cell_type": "markdown",
   "metadata": {},
   "source": [
    "## Group 3 Week 5"
   ]
  },
  {
   "cell_type": "markdown",
   "metadata": {},
   "source": [
    "1. Consider the fixed-point iteration described by\n",
    "    $$\n",
    "    \\begin{aligned}\n",
    "    x_{n+1}= g( x_n)=\\frac{1}{2}\\left(x_n+\\frac{a^2}{x_n}\\right)\\end{aligned}\n",
    "    $$\n",
    "    Show that the iteration converges to $a$ for any initial point $x_1 > 0$, and that the convergence is quadratic."
   ]
  },
  {
   "cell_type": "code",
   "execution_count": null,
   "metadata": {},
   "outputs": [],
   "source": []
  },
  {
   "cell_type": "markdown",
   "metadata": {},
   "source": [
    "2. A particle of mass $m$ is bound within a 1-D square well of radius $a$\n",
    "    $$\n",
    "    V\\left(  x\\right)  =\\begin{cases}\n",
    "    -V_{0}, & \\text{for }\\left\\vert x\\right\\vert \\leq a,\\\\\n",
    "    0, & \\text{for }\\left\\vert x\\right\\vert \\geq a\n",
    "    \\end{cases}\n",
    "    $$\n",
    "    Quantum Mechanics shows that the energies of the bound states $E<0$ are solutions of the transcendental equations\n",
    "    $$\n",
    "    \\begin{aligned}\n",
    "    \\sqrt{10+E}\\tan\\left(  \\sqrt{10+E}\\right)    & =\\sqrt{-E}\\;\\left(\n",
    "    \\text{even}\\right)  \\\\\n",
    "    \\sqrt{10+E}\\cot\\left(  \\sqrt{10+E}\\right)    & =-\\sqrt{-E}\\;\\left(  \\text{odd}\\right)\\end{aligned}\n",
    "    $$\n",
    "    where even and odd refer to the symmetry of the wave function. Here we have chosen units such that $\\hbar=1,$ $2m=1,$ $a=1$, and $V_{0}=10.$\n",
    "\n",
    "    a) Find several bound-state energies for even wave function.\n",
    "\n",
    "    b) See if making the potential deeper, say, by changing the 10 to a 20, or a 30, produces a larger number of, or deeper bound states. Also make the potential shallower, and see how the energies change. Please make a diagram of the ground state energy versus the depth of the potential."
   ]
  },
  {
   "cell_type": "code",
   "execution_count": null,
   "metadata": {},
   "outputs": [],
   "source": []
  },
  {
   "cell_type": "markdown",
   "metadata": {},
   "source": [
    "3. Find the bond length of NaCl using the potential model discussed in the lecture, \n",
    "    $$\n",
    "    V(r)=-\\frac{e^2}{r}+V_0\\exp(-r/r_0)\n",
    "    $$\n",
    "    Please use $e^2=14.4$ $\\text{Å}\\cdot eV$, $V_0=1.09\\times 10^3 \\text{ eV}$, $r_0=0.330\\text{ Å}$. Write your own program and compare your result with the results from Python package `scipy.optimize`[^1]"
   ]
  },
  {
   "cell_type": "code",
   "execution_count": null,
   "metadata": {},
   "outputs": [],
   "source": []
  },
  {
   "cell_type": "markdown",
   "metadata": {},
   "source": [
    "4. Consider the nonlinear system \n",
    "    $$\n",
    "    \\begin{cases}\n",
    "    2e^x+y=0\\\\\n",
    "    3x^2+4y^2=8\n",
    "    \\end{cases}\n",
    "    $$\n",
    "    a) Locate the roots graphically.\n",
    "\n",
    "    b) Based on the location of the roots, find the roots and compare your numerical results with the results from Python package `scipy.optimize`[^1]\n",
    "\n",
    "    [^1]: (https://docs.scipy.org/doc/scipy/reference/optimize.html)."
   ]
  },
  {
   "cell_type": "code",
   "execution_count": null,
   "metadata": {},
   "outputs": [],
   "source": []
  },
  {
   "cell_type": "markdown",
   "metadata": {},
   "source": [
    "5. Consider a linear $2\\times 2$ system (with unknowns $x_1$ and $x_2$) described by its augmented matrix \n",
    "    $$\n",
    "    \\begin{bmatrix}\n",
    "    \\left.\\begin{matrix}\\varepsilon & 1\\\\\n",
    "    1 & 1\n",
    "    \\end{matrix}\\right\\vert\n",
    "    \\begin{matrix}\n",
    "    2\\\\\n",
    "    1\n",
    "    \\end{matrix}\\end{bmatrix}\n",
    "    $$\n",
    "    where $\\epsilon > 0$ is a very small constant.\n",
    "\n",
    "    a) Solve by Gauss elimination without partial pivoting.\n",
    "\n",
    "    b) Solve by Gauss elimination with partial pivoting. Compare the results and discuss their validity.\n",
    "\n"
   ]
  },
  {
   "cell_type": "code",
   "execution_count": null,
   "metadata": {},
   "outputs": [],
   "source": []
  },
  {
   "cell_type": "markdown",
   "metadata": {},
   "source": [
    "6. Solve the system of equations $Ax=b$ with a well-behaved matrix\n",
    "    $$\n",
    "    A_{ii}=n,\\text{ }A_{i\\neq j}=1\n",
    "    $$\n",
    "    by applying \n",
    "\n",
    "    a) LU decomposition, (Hint: You can use Python module `scipy.linalg.lu_solve`)\n",
    "\n",
    "    b) Cholesky decomposition, (Hint: You can use Python module `numpy.linalg.cholesky`)\n",
    "\n",
    "    The right-hand side is $b=A\\begin{pmatrix}\n",
    "    1\\\\\n",
    "    2\\\\\n",
    "    \\vdots\\\\\n",
    "    n\n",
    "    \\end{pmatrix}$, hence the exact solution is $x=\\begin{pmatrix}\n",
    "    1\\\\\n",
    "    2\\\\\n",
    "    \\vdots\\\\\n",
    "    n\n",
    "    \\end{pmatrix}$.\n",
    "\n"
   ]
  },
  {
   "cell_type": "code",
   "execution_count": null,
   "metadata": {},
   "outputs": [],
   "source": []
  },
  {
   "cell_type": "markdown",
   "metadata": {},
   "source": [
    "7. **Multiple linear regression** generalizes simple linear regression by allowing several predictor variables instead of just one.    \n",
    "   We model the response $y=a_{0}+a_{1}x_{1}+\\cdots+a_{p}x_{p}$. Now, we have a sequence of $n$ response values $y_{i}$, and a sequence of $n$ predictor vectors $(x_{i1},x_{i2},\\cdots,x_{ip})$. The goal is to estimate the parameter vector $(a_{0},\\cdots,a_{p})$ so as to minimize the sum of the squared errors.   \n",
    "   In matrix notation, we have an overdetermined system of equations \n",
    "   $$\n",
    "   \\mathbf{y=X a}\n",
    "   $$\n",
    "   where\n",
    "   $$\n",
    "   \\begin{pmatrix}\n",
    "   y_{1}\\\\\n",
    "   y_{2}\\\\\n",
    "   \\vdots\\\\\n",
    "   \\\\\n",
    "   \\\\\n",
    "   y_{n}%\n",
    "   \\end{pmatrix}=\\begin{pmatrix}\n",
    "   1 & x_{11} & x_{12} & \\cdots & x_{1p}\\\\\n",
    "   1 & x_{21} & x_{22} & \\cdots & x_{2p}\\\\\n",
    "   \\vdots & \\vdots & \\ddots &  & \\vdots\\\\\n",
    "   &  &  &  & \\\\\n",
    "   1 &  &  &  & \\\\\n",
    "   1 & x_{n1} & x_{n2} & \\cdots & x_{np}%\n",
    "   \\end{pmatrix} \\begin{pmatrix}\n",
    "   a_{0}\\\\\n",
    "   a_{1}\\\\\n",
    "   \\vdots\\\\\n",
    "   \\\\\n",
    "   a_{p}%\n",
    "   \\end{pmatrix}\n",
    "   $$\n",
    "   Our goal is to find a vector $\\mathbf{a}$ that minimizes $\\mathbf{Xa-y}$ . A numerically stable algorithm for computing $\\mathbf{a}$ is to compute QR factorization $\\mathbf{X=QR}$, then solve the triangular system $\\mathbf{Ra=Q^{T}y}$ via back substitution.\n",
    "\n",
    "   The expression $z = ax^{2} +bxy +cy^{2} +dx +ey +f$ is known as a **quadratic form**. The set of points $(x, y)$, where $z = 0$, is a conic section. It can be an ellipse, a parabola, or a hyperbola, depending on the sign of the discriminant $b^{2}-4ac$. Circles and lines are special cases. The equation $z\n",
    "    = 0$ can be normalized by dividing the quadratic form by any nonzero coefficient. For example, if $f\\neq0$, we can divide all the other coefficients by $f$ and obtain a quadratic form with the constant term equal to one.\n",
    "\n",
    "    ​\tA planet follows an elliptical orbit. Here are ten observations of its position in the $(x, y)$ plane:\n",
    "\n",
    "    ```\n",
    "    x = [1.02 .95 .87 .77 .67 .56 .44 .30 .16 .01];\n",
    "    y = [0.39 .32 .27 .22 .18 .15 .13 .12 .13 .15];\n",
    "    ```\n",
    "\n",
    "    a) Determine the coefficients in the quadratic form that fits these data in the least squares sense by setting one of the coefficients equal to one and solving a 10-by-5 overdetermined system of linear equations for the other five coefficients. Plot the orbit with $x$ on the $x$-axis and $y$ on the $y$-axis. Superimpose the ten data points on the plot.\n",
    "\n",
    "    b) This least squares problem is nearly rank deficient. To see what effect this has on the solution, perturb the data slightly by adding to each coordinate of each data point a random number uniformly distributed in the interval $[-.0005, .0005]$. Compute the new coefficients resulting from the perturbed data. Plot the new orbit on the same plot with the old orbit. Comment on your comparison of the sets of coefficients and the orbits.    \n",
    "    (Hint:  You can use Python module `numpy.linalg.qr`)"
   ]
  }
 ],
 "metadata": {
  "file_extension": ".py",
  "kernelspec": {
   "display_name": "Python 3",
   "language": "python",
   "name": "python3"
  },
  "language_info": {
   "codemirror_mode": {
    "name": "ipython",
    "version": 3
   },
   "file_extension": ".py",
   "mimetype": "text/x-python",
   "name": "python",
   "nbconvert_exporter": "python",
   "pygments_lexer": "ipython3",
   "version": "3.7.0"
  },
  "mimetype": "text/x-python",
  "name": "python",
  "npconvert_exporter": "python",
  "pygments_lexer": "ipython3",
  "version": 3
 },
 "nbformat": 4,
 "nbformat_minor": 2
}
