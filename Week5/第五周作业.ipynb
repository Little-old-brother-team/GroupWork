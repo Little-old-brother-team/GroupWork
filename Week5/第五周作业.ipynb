{
 "cells": [
  {
   "cell_type": "markdown",
   "metadata": {},
   "source": [
    "## Group 3 Week 5"
   ]
  },
  {
   "cell_type": "markdown",
   "metadata": {},
   "source": [
    "1. Consider the fixed-point iteration described by\n",
    "    $$\n",
    "    \\begin{aligned}\n",
    "    x_{n+1}= g( x_n)=\\frac{1}{2}\\left(x_n+\\frac{a^2}{x_n}\\right)\\end{aligned}\n",
    "    $$\n",
    "    Show that the iteration converges to $a$ for any initial point $x_1 > 0$, and that the convergence is quadratic."
   ]
  },
  {
   "cell_type": "code",
   "execution_count": null,
   "metadata": {},
   "outputs": [],
   "source": []
  },
  {
   "cell_type": "markdown",
   "metadata": {},
   "source": [
    "2. A particle of mass $m$ is bound within a 1-D square well of radius $a$\n",
    "    $$\n",
    "    V\\left(  x\\right)  =\\begin{cases}\n",
    "    -V_{0}, & \\text{for }\\left\\vert x\\right\\vert \\leq a,\\\\\n",
    "    0, & \\text{for }\\left\\vert x\\right\\vert \\geq a\n",
    "    \\end{cases}\n",
    "    $$\n",
    "    Quantum Mechanics shows that the energies of the bound states $E<0$ are solutions of the transcendental equations\n",
    "    $$\n",
    "    \\begin{aligned}\n",
    "    \\sqrt{10+E}\\tan\\left(  \\sqrt{10+E}\\right)    & =\\sqrt{-E}\\;\\left(\n",
    "    \\text{even}\\right)  \\\\\n",
    "    \\sqrt{10+E}\\cot\\left(  \\sqrt{10+E}\\right)    & =-\\sqrt{-E}\\;\\left(  \\text{odd}\\right)\\end{aligned}\n",
    "    $$\n",
    "    where even and odd refer to the symmetry of the wave function. Here we have chosen units such that $\\hbar=1,$ $2m=1,$ $a=1$, and $V_{0}=10.$\n",
    "\n",
    "    a) Find several bound-state energies for even wave function.\n",
    "\n",
    "    b) See if making the potential deeper, say, by changing the 10 to a 20, or a 30, produces a larger number of, or deeper bound states. Also make the potential shallower, and see how the energies change. Please make a diagram of the ground state energy versus the depth of the potential."
   ]
  },
  {
   "cell_type": "code",
   "execution_count": null,
   "metadata": {},
   "outputs": [],
   "source": []
  },
  {
   "cell_type": "markdown",
   "metadata": {},
   "source": [
    "3. Find the bond length of NaCl using the potential model discussed in the lecture, \n",
    "    $$\n",
    "    V(r)=-\\frac{e^2}{r}+V_0\\exp(-r/r_0)\n",
    "    $$\n",
    "    Please use $e^2=14.4$ $\\text{Å}\\cdot eV$, $V_0=1.09\\times 10^3 \\text{ eV}$, $r_0=0.330\\text{ Å}$. Write your own program and compare your result with the results from Python package `scipy.optimize`[^1]"
   ]
  },
  {
   "cell_type": "code",
   "execution_count": null,
   "metadata": {},
   "outputs": [],
   "source": []
  },
  {
   "cell_type": "markdown",
   "metadata": {},
   "source": [
    "4. Consider the nonlinear system \n",
    "    $$\n",
    "    \\begin{cases}\n",
    "    2e^x+y=0\\\\\n",
    "    3x^2+4y^2=8\n",
    "    \\end{cases}\n",
    "    $$\n",
    "    a) Locate the roots graphically.\n",
    "\n",
    "    b) Based on the location of the roots, find the roots and compare your numerical results with the results from Python package `scipy.optimize`[^1]\n",
    "\n",
    "    [^1]: (https://docs.scipy.org/doc/scipy/reference/optimize.html)."
   ]
  },
  {
   "cell_type": "code",
   "execution_count": 1,
   "metadata": {},
   "outputs": [
    {
     "output_type": "display_data",
     "data": {
      "text/plain": "<Figure size 432x288 with 1 Axes>",
      "image/svg+xml": "<?xml version=\"1.0\" encoding=\"utf-8\" standalone=\"no\"?>\r\n<!DOCTYPE svg PUBLIC \"-//W3C//DTD SVG 1.1//EN\"\r\n  \"http://www.w3.org/Graphics/SVG/1.1/DTD/svg11.dtd\">\r\n<!-- Created with matplotlib (https://matplotlib.org/) -->\r\n<svg height=\"263.63625pt\" version=\"1.1\" viewBox=\"0 0 370.942187 263.63625\" width=\"370.942187pt\" xmlns=\"http://www.w3.org/2000/svg\" xmlns:xlink=\"http://www.w3.org/1999/xlink\">\r\n <defs>\r\n  <style type=\"text/css\">\r\n*{stroke-linecap:butt;stroke-linejoin:round;}\r\n  </style>\r\n </defs>\r\n <g id=\"figure_1\">\r\n  <g id=\"patch_1\">\r\n   <path d=\"M 0 263.63625 \r\nL 370.942187 263.63625 \r\nL 370.942187 0 \r\nL 0 0 \r\nz\r\n\" style=\"fill:none;\"/>\r\n  </g>\r\n  <g id=\"axes_1\">\r\n   <g id=\"patch_2\">\r\n    <path d=\"M 28.942188 239.758125 \r\nL 363.742188 239.758125 \r\nL 363.742188 22.318125 \r\nL 28.942188 22.318125 \r\nz\r\n\" style=\"fill:#ffffff;\"/>\r\n   </g>\r\n   <g id=\"matplotlib.axis_1\">\r\n    <g id=\"xtick_1\">\r\n     <g id=\"line2d_1\">\r\n      <defs>\r\n       <path d=\"M 0 0 \r\nL 0 3.5 \r\n\" id=\"me03eea6075\" style=\"stroke:#000000;stroke-width:0.8;\"/>\r\n      </defs>\r\n      <g>\r\n       <use style=\"stroke:#000000;stroke-width:0.8;\" x=\"44.160369\" xlink:href=\"#me03eea6075\" y=\"239.758125\"/>\r\n      </g>\r\n     </g>\r\n     <g id=\"text_1\">\r\n      <!-- −2.0 -->\r\n      <defs>\r\n       <path d=\"M 10.59375 35.5 \r\nL 73.1875 35.5 \r\nL 73.1875 27.203125 \r\nL 10.59375 27.203125 \r\nz\r\n\" id=\"DejaVuSans-8722\"/>\r\n       <path d=\"M 19.1875 8.296875 \r\nL 53.609375 8.296875 \r\nL 53.609375 0 \r\nL 7.328125 0 \r\nL 7.328125 8.296875 \r\nQ 12.9375 14.109375 22.625 23.890625 \r\nQ 32.328125 33.6875 34.8125 36.53125 \r\nQ 39.546875 41.84375 41.421875 45.53125 \r\nQ 43.3125 49.21875 43.3125 52.78125 \r\nQ 43.3125 58.59375 39.234375 62.25 \r\nQ 35.15625 65.921875 28.609375 65.921875 \r\nQ 23.96875 65.921875 18.8125 64.3125 \r\nQ 13.671875 62.703125 7.8125 59.421875 \r\nL 7.8125 69.390625 \r\nQ 13.765625 71.78125 18.9375 73 \r\nQ 24.125 74.21875 28.421875 74.21875 \r\nQ 39.75 74.21875 46.484375 68.546875 \r\nQ 53.21875 62.890625 53.21875 53.421875 \r\nQ 53.21875 48.921875 51.53125 44.890625 \r\nQ 49.859375 40.875 45.40625 35.40625 \r\nQ 44.1875 33.984375 37.640625 27.21875 \r\nQ 31.109375 20.453125 19.1875 8.296875 \r\nz\r\n\" id=\"DejaVuSans-50\"/>\r\n       <path d=\"M 10.6875 12.40625 \r\nL 21 12.40625 \r\nL 21 0 \r\nL 10.6875 0 \r\nz\r\n\" id=\"DejaVuSans-46\"/>\r\n       <path d=\"M 31.78125 66.40625 \r\nQ 24.171875 66.40625 20.328125 58.90625 \r\nQ 16.5 51.421875 16.5 36.375 \r\nQ 16.5 21.390625 20.328125 13.890625 \r\nQ 24.171875 6.390625 31.78125 6.390625 \r\nQ 39.453125 6.390625 43.28125 13.890625 \r\nQ 47.125 21.390625 47.125 36.375 \r\nQ 47.125 51.421875 43.28125 58.90625 \r\nQ 39.453125 66.40625 31.78125 66.40625 \r\nz\r\nM 31.78125 74.21875 \r\nQ 44.046875 74.21875 50.515625 64.515625 \r\nQ 56.984375 54.828125 56.984375 36.375 \r\nQ 56.984375 17.96875 50.515625 8.265625 \r\nQ 44.046875 -1.421875 31.78125 -1.421875 \r\nQ 19.53125 -1.421875 13.0625 8.265625 \r\nQ 6.59375 17.96875 6.59375 36.375 \r\nQ 6.59375 54.828125 13.0625 64.515625 \r\nQ 19.53125 74.21875 31.78125 74.21875 \r\nz\r\n\" id=\"DejaVuSans-48\"/>\r\n      </defs>\r\n      <g transform=\"translate(32.018963 254.356563)scale(0.1 -0.1)\">\r\n       <use xlink:href=\"#DejaVuSans-8722\"/>\r\n       <use x=\"83.789062\" xlink:href=\"#DejaVuSans-50\"/>\r\n       <use x=\"147.412109\" xlink:href=\"#DejaVuSans-46\"/>\r\n       <use x=\"179.199219\" xlink:href=\"#DejaVuSans-48\"/>\r\n      </g>\r\n     </g>\r\n    </g>\r\n    <g id=\"xtick_2\">\r\n     <g id=\"line2d_2\">\r\n      <g>\r\n       <use style=\"stroke:#000000;stroke-width:0.8;\" x=\"86.049195\" xlink:href=\"#me03eea6075\" y=\"239.758125\"/>\r\n      </g>\r\n     </g>\r\n     <g id=\"text_2\">\r\n      <!-- −1.5 -->\r\n      <defs>\r\n       <path d=\"M 12.40625 8.296875 \r\nL 28.515625 8.296875 \r\nL 28.515625 63.921875 \r\nL 10.984375 60.40625 \r\nL 10.984375 69.390625 \r\nL 28.421875 72.90625 \r\nL 38.28125 72.90625 \r\nL 38.28125 8.296875 \r\nL 54.390625 8.296875 \r\nL 54.390625 0 \r\nL 12.40625 0 \r\nz\r\n\" id=\"DejaVuSans-49\"/>\r\n       <path d=\"M 10.796875 72.90625 \r\nL 49.515625 72.90625 \r\nL 49.515625 64.59375 \r\nL 19.828125 64.59375 \r\nL 19.828125 46.734375 \r\nQ 21.96875 47.46875 24.109375 47.828125 \r\nQ 26.265625 48.1875 28.421875 48.1875 \r\nQ 40.625 48.1875 47.75 41.5 \r\nQ 54.890625 34.8125 54.890625 23.390625 \r\nQ 54.890625 11.625 47.5625 5.09375 \r\nQ 40.234375 -1.421875 26.90625 -1.421875 \r\nQ 22.3125 -1.421875 17.546875 -0.640625 \r\nQ 12.796875 0.140625 7.71875 1.703125 \r\nL 7.71875 11.625 \r\nQ 12.109375 9.234375 16.796875 8.0625 \r\nQ 21.484375 6.890625 26.703125 6.890625 \r\nQ 35.15625 6.890625 40.078125 11.328125 \r\nQ 45.015625 15.765625 45.015625 23.390625 \r\nQ 45.015625 31 40.078125 35.4375 \r\nQ 35.15625 39.890625 26.703125 39.890625 \r\nQ 22.75 39.890625 18.8125 39.015625 \r\nQ 14.890625 38.140625 10.796875 36.28125 \r\nz\r\n\" id=\"DejaVuSans-53\"/>\r\n      </defs>\r\n      <g transform=\"translate(73.907789 254.356563)scale(0.1 -0.1)\">\r\n       <use xlink:href=\"#DejaVuSans-8722\"/>\r\n       <use x=\"83.789062\" xlink:href=\"#DejaVuSans-49\"/>\r\n       <use x=\"147.412109\" xlink:href=\"#DejaVuSans-46\"/>\r\n       <use x=\"179.199219\" xlink:href=\"#DejaVuSans-53\"/>\r\n      </g>\r\n     </g>\r\n    </g>\r\n    <g id=\"xtick_3\">\r\n     <g id=\"line2d_3\">\r\n      <g>\r\n       <use style=\"stroke:#000000;stroke-width:0.8;\" x=\"127.938021\" xlink:href=\"#me03eea6075\" y=\"239.758125\"/>\r\n      </g>\r\n     </g>\r\n     <g id=\"text_3\">\r\n      <!-- −1.0 -->\r\n      <g transform=\"translate(115.796615 254.356563)scale(0.1 -0.1)\">\r\n       <use xlink:href=\"#DejaVuSans-8722\"/>\r\n       <use x=\"83.789062\" xlink:href=\"#DejaVuSans-49\"/>\r\n       <use x=\"147.412109\" xlink:href=\"#DejaVuSans-46\"/>\r\n       <use x=\"179.199219\" xlink:href=\"#DejaVuSans-48\"/>\r\n      </g>\r\n     </g>\r\n    </g>\r\n    <g id=\"xtick_4\">\r\n     <g id=\"line2d_4\">\r\n      <g>\r\n       <use style=\"stroke:#000000;stroke-width:0.8;\" x=\"169.826847\" xlink:href=\"#me03eea6075\" y=\"239.758125\"/>\r\n      </g>\r\n     </g>\r\n     <g id=\"text_4\">\r\n      <!-- −0.5 -->\r\n      <g transform=\"translate(157.685441 254.356563)scale(0.1 -0.1)\">\r\n       <use xlink:href=\"#DejaVuSans-8722\"/>\r\n       <use x=\"83.789062\" xlink:href=\"#DejaVuSans-48\"/>\r\n       <use x=\"147.412109\" xlink:href=\"#DejaVuSans-46\"/>\r\n       <use x=\"179.199219\" xlink:href=\"#DejaVuSans-53\"/>\r\n      </g>\r\n     </g>\r\n    </g>\r\n    <g id=\"xtick_5\">\r\n     <g id=\"line2d_5\">\r\n      <g>\r\n       <use style=\"stroke:#000000;stroke-width:0.8;\" x=\"211.715673\" xlink:href=\"#me03eea6075\" y=\"239.758125\"/>\r\n      </g>\r\n     </g>\r\n     <g id=\"text_5\">\r\n      <!-- 0.0 -->\r\n      <g transform=\"translate(203.764111 254.356563)scale(0.1 -0.1)\">\r\n       <use xlink:href=\"#DejaVuSans-48\"/>\r\n       <use x=\"63.623047\" xlink:href=\"#DejaVuSans-46\"/>\r\n       <use x=\"95.410156\" xlink:href=\"#DejaVuSans-48\"/>\r\n      </g>\r\n     </g>\r\n    </g>\r\n    <g id=\"xtick_6\">\r\n     <g id=\"line2d_6\">\r\n      <g>\r\n       <use style=\"stroke:#000000;stroke-width:0.8;\" x=\"253.604499\" xlink:href=\"#me03eea6075\" y=\"239.758125\"/>\r\n      </g>\r\n     </g>\r\n     <g id=\"text_6\">\r\n      <!-- 0.5 -->\r\n      <g transform=\"translate(245.652936 254.356563)scale(0.1 -0.1)\">\r\n       <use xlink:href=\"#DejaVuSans-48\"/>\r\n       <use x=\"63.623047\" xlink:href=\"#DejaVuSans-46\"/>\r\n       <use x=\"95.410156\" xlink:href=\"#DejaVuSans-53\"/>\r\n      </g>\r\n     </g>\r\n    </g>\r\n    <g id=\"xtick_7\">\r\n     <g id=\"line2d_7\">\r\n      <g>\r\n       <use style=\"stroke:#000000;stroke-width:0.8;\" x=\"295.493325\" xlink:href=\"#me03eea6075\" y=\"239.758125\"/>\r\n      </g>\r\n     </g>\r\n     <g id=\"text_7\">\r\n      <!-- 1.0 -->\r\n      <g transform=\"translate(287.541762 254.356563)scale(0.1 -0.1)\">\r\n       <use xlink:href=\"#DejaVuSans-49\"/>\r\n       <use x=\"63.623047\" xlink:href=\"#DejaVuSans-46\"/>\r\n       <use x=\"95.410156\" xlink:href=\"#DejaVuSans-48\"/>\r\n      </g>\r\n     </g>\r\n    </g>\r\n    <g id=\"xtick_8\">\r\n     <g id=\"line2d_8\">\r\n      <g>\r\n       <use style=\"stroke:#000000;stroke-width:0.8;\" x=\"337.382151\" xlink:href=\"#me03eea6075\" y=\"239.758125\"/>\r\n      </g>\r\n     </g>\r\n     <g id=\"text_8\">\r\n      <!-- 1.5 -->\r\n      <g transform=\"translate(329.430588 254.356563)scale(0.1 -0.1)\">\r\n       <use xlink:href=\"#DejaVuSans-49\"/>\r\n       <use x=\"63.623047\" xlink:href=\"#DejaVuSans-46\"/>\r\n       <use x=\"95.410156\" xlink:href=\"#DejaVuSans-53\"/>\r\n      </g>\r\n     </g>\r\n    </g>\r\n   </g>\r\n   <g id=\"matplotlib.axis_2\">\r\n    <g id=\"ytick_1\">\r\n     <g id=\"line2d_9\">\r\n      <defs>\r\n       <path d=\"M 0 0 \r\nL -3.5 0 \r\n\" id=\"m9a7dd152e6\" style=\"stroke:#000000;stroke-width:0.8;\"/>\r\n      </defs>\r\n      <g>\r\n       <use style=\"stroke:#000000;stroke-width:0.8;\" x=\"28.942188\" xlink:href=\"#m9a7dd152e6\" y=\"217.277774\"/>\r\n      </g>\r\n     </g>\r\n     <g id=\"text_9\">\r\n      <!-- −5 -->\r\n      <g transform=\"translate(7.2 221.076993)scale(0.1 -0.1)\">\r\n       <use xlink:href=\"#DejaVuSans-8722\"/>\r\n       <use x=\"83.789062\" xlink:href=\"#DejaVuSans-53\"/>\r\n      </g>\r\n     </g>\r\n    </g>\r\n    <g id=\"ytick_2\">\r\n     <g id=\"line2d_10\">\r\n      <g>\r\n       <use style=\"stroke:#000000;stroke-width:0.8;\" x=\"28.942188\" xlink:href=\"#m9a7dd152e6\" y=\"188.42353\"/>\r\n      </g>\r\n     </g>\r\n     <g id=\"text_10\">\r\n      <!-- −4 -->\r\n      <defs>\r\n       <path d=\"M 37.796875 64.3125 \r\nL 12.890625 25.390625 \r\nL 37.796875 25.390625 \r\nz\r\nM 35.203125 72.90625 \r\nL 47.609375 72.90625 \r\nL 47.609375 25.390625 \r\nL 58.015625 25.390625 \r\nL 58.015625 17.1875 \r\nL 47.609375 17.1875 \r\nL 47.609375 0 \r\nL 37.796875 0 \r\nL 37.796875 17.1875 \r\nL 4.890625 17.1875 \r\nL 4.890625 26.703125 \r\nz\r\n\" id=\"DejaVuSans-52\"/>\r\n      </defs>\r\n      <g transform=\"translate(7.2 192.222749)scale(0.1 -0.1)\">\r\n       <use xlink:href=\"#DejaVuSans-8722\"/>\r\n       <use x=\"83.789062\" xlink:href=\"#DejaVuSans-52\"/>\r\n      </g>\r\n     </g>\r\n    </g>\r\n    <g id=\"ytick_3\">\r\n     <g id=\"line2d_11\">\r\n      <g>\r\n       <use style=\"stroke:#000000;stroke-width:0.8;\" x=\"28.942188\" xlink:href=\"#m9a7dd152e6\" y=\"159.569286\"/>\r\n      </g>\r\n     </g>\r\n     <g id=\"text_11\">\r\n      <!-- −3 -->\r\n      <defs>\r\n       <path d=\"M 40.578125 39.3125 \r\nQ 47.65625 37.796875 51.625 33 \r\nQ 55.609375 28.21875 55.609375 21.1875 \r\nQ 55.609375 10.40625 48.1875 4.484375 \r\nQ 40.765625 -1.421875 27.09375 -1.421875 \r\nQ 22.515625 -1.421875 17.65625 -0.515625 \r\nQ 12.796875 0.390625 7.625 2.203125 \r\nL 7.625 11.71875 \r\nQ 11.71875 9.328125 16.59375 8.109375 \r\nQ 21.484375 6.890625 26.8125 6.890625 \r\nQ 36.078125 6.890625 40.9375 10.546875 \r\nQ 45.796875 14.203125 45.796875 21.1875 \r\nQ 45.796875 27.640625 41.28125 31.265625 \r\nQ 36.765625 34.90625 28.71875 34.90625 \r\nL 20.21875 34.90625 \r\nL 20.21875 43.015625 \r\nL 29.109375 43.015625 \r\nQ 36.375 43.015625 40.234375 45.921875 \r\nQ 44.09375 48.828125 44.09375 54.296875 \r\nQ 44.09375 59.90625 40.109375 62.90625 \r\nQ 36.140625 65.921875 28.71875 65.921875 \r\nQ 24.65625 65.921875 20.015625 65.03125 \r\nQ 15.375 64.15625 9.8125 62.3125 \r\nL 9.8125 71.09375 \r\nQ 15.4375 72.65625 20.34375 73.4375 \r\nQ 25.25 74.21875 29.59375 74.21875 \r\nQ 40.828125 74.21875 47.359375 69.109375 \r\nQ 53.90625 64.015625 53.90625 55.328125 \r\nQ 53.90625 49.265625 50.4375 45.09375 \r\nQ 46.96875 40.921875 40.578125 39.3125 \r\nz\r\n\" id=\"DejaVuSans-51\"/>\r\n      </defs>\r\n      <g transform=\"translate(7.2 163.368505)scale(0.1 -0.1)\">\r\n       <use xlink:href=\"#DejaVuSans-8722\"/>\r\n       <use x=\"83.789062\" xlink:href=\"#DejaVuSans-51\"/>\r\n      </g>\r\n     </g>\r\n    </g>\r\n    <g id=\"ytick_4\">\r\n     <g id=\"line2d_12\">\r\n      <g>\r\n       <use style=\"stroke:#000000;stroke-width:0.8;\" x=\"28.942188\" xlink:href=\"#m9a7dd152e6\" y=\"130.715042\"/>\r\n      </g>\r\n     </g>\r\n     <g id=\"text_12\">\r\n      <!-- −2 -->\r\n      <g transform=\"translate(7.2 134.514261)scale(0.1 -0.1)\">\r\n       <use xlink:href=\"#DejaVuSans-8722\"/>\r\n       <use x=\"83.789062\" xlink:href=\"#DejaVuSans-50\"/>\r\n      </g>\r\n     </g>\r\n    </g>\r\n    <g id=\"ytick_5\">\r\n     <g id=\"line2d_13\">\r\n      <g>\r\n       <use style=\"stroke:#000000;stroke-width:0.8;\" x=\"28.942188\" xlink:href=\"#m9a7dd152e6\" y=\"101.860798\"/>\r\n      </g>\r\n     </g>\r\n     <g id=\"text_13\">\r\n      <!-- −1 -->\r\n      <g transform=\"translate(7.2 105.660016)scale(0.1 -0.1)\">\r\n       <use xlink:href=\"#DejaVuSans-8722\"/>\r\n       <use x=\"83.789062\" xlink:href=\"#DejaVuSans-49\"/>\r\n      </g>\r\n     </g>\r\n    </g>\r\n    <g id=\"ytick_6\">\r\n     <g id=\"line2d_14\">\r\n      <g>\r\n       <use style=\"stroke:#000000;stroke-width:0.8;\" x=\"28.942188\" xlink:href=\"#m9a7dd152e6\" y=\"73.006554\"/>\r\n      </g>\r\n     </g>\r\n     <g id=\"text_14\">\r\n      <!-- 0 -->\r\n      <g transform=\"translate(15.579688 76.805772)scale(0.1 -0.1)\">\r\n       <use xlink:href=\"#DejaVuSans-48\"/>\r\n      </g>\r\n     </g>\r\n    </g>\r\n    <g id=\"ytick_7\">\r\n     <g id=\"line2d_15\">\r\n      <g>\r\n       <use style=\"stroke:#000000;stroke-width:0.8;\" x=\"28.942188\" xlink:href=\"#m9a7dd152e6\" y=\"44.152309\"/>\r\n      </g>\r\n     </g>\r\n     <g id=\"text_15\">\r\n      <!-- 1 -->\r\n      <g transform=\"translate(15.579688 47.951528)scale(0.1 -0.1)\">\r\n       <use xlink:href=\"#DejaVuSans-49\"/>\r\n      </g>\r\n     </g>\r\n    </g>\r\n   </g>\r\n   <g id=\"line2d_16\">\r\n    <path clip-path=\"url(#p77517e9a3f)\" d=\"M 44.160369 80.816548 \r\nL 57.983682 82.217607 \r\nL 70.55033 83.708271 \r\nL 81.860313 85.255063 \r\nL 93.170296 87.025423 \r\nL 103.223614 88.812785 \r\nL 113.276932 90.82803 \r\nL 122.073586 92.801057 \r\nL 130.870239 94.992518 \r\nL 139.666892 97.426598 \r\nL 147.206881 99.726338 \r\nL 154.74687 102.242654 \r\nL 162.286858 104.995943 \r\nL 169.826847 108.008521 \r\nL 176.110171 110.73462 \r\nL 182.393495 113.673038 \r\nL 188.676819 116.840313 \r\nL 194.960143 120.254268 \r\nL 201.243467 123.934116 \r\nL 207.52679 127.900566 \r\nL 213.810114 132.175939 \r\nL 218.836773 135.83477 \r\nL 223.863433 139.71985 \r\nL 228.890092 143.845169 \r\nL 233.916751 148.225585 \r\nL 238.94341 152.87687 \r\nL 243.970069 157.815774 \r\nL 248.996728 163.060084 \r\nL 254.023387 168.628683 \r\nL 259.050046 174.541625 \r\nL 264.076705 180.820204 \r\nL 269.103365 187.487027 \r\nL 274.130024 194.566104 \r\nL 279.156683 202.082927 \r\nL 284.183342 210.064564 \r\nL 289.210001 218.539759 \r\nL 294.23666 227.539029 \r\nL 295.493325 229.874489 \r\nL 295.493325 229.874489 \r\n\" style=\"fill:none;stroke:#1f77b4;stroke-linecap:square;stroke-width:1.5;\"/>\r\n   </g>\r\n   <g id=\"line2d_17\">\r\n    <path clip-path=\"url(#p77517e9a3f)\" d=\"M 348.524006 73.006554 \r\nL 348.455819 71.718365 \r\nL 348.251327 70.431461 \r\nL 347.910733 69.147124 \r\nL 347.434376 67.866634 \r\nL 346.822733 66.591267 \r\nL 346.076412 65.322296 \r\nL 345.196157 64.060984 \r\nL 343.037488 61.56636 \r\nL 340.355332 59.117341 \r\nL 337.160381 56.723687 \r\nL 333.46537 54.394942 \r\nL 329.28503 52.140389 \r\nL 324.636023 49.969014 \r\nL 319.536883 47.889473 \r\nL 314.007936 45.910057 \r\nL 308.071222 44.038655 \r\nL 301.750406 42.282727 \r\nL 295.070686 40.649274 \r\nL 288.058688 39.144806 \r\nL 280.742364 37.775322 \r\nL 273.15088 36.546279 \r\nL 265.314497 35.462578 \r\nL 257.264453 34.528537 \r\nL 249.032838 33.747882 \r\nL 240.652467 33.123723 \r\nL 232.156745 32.658549 \r\nL 223.579538 32.354214 \r\nL 214.955039 32.211931 \r\nL 206.317627 32.232267 \r\nL 197.701733 32.415142 \r\nL 189.141702 32.759825 \r\nL 180.671659 33.264945 \r\nL 172.325365 33.928485 \r\nL 164.136093 34.747803 \r\nL 156.136487 35.719631 \r\nL 148.358436 36.840095 \r\nL 140.832946 38.10473 \r\nL 133.590015 39.508494 \r\nL 126.658516 41.045791 \r\nL 120.066079 42.710492 \r\nL 113.838985 44.495963 \r\nL 108.002056 46.395085 \r\nL 102.57856 48.400289 \r\nL 97.590116 50.50358 \r\nL 93.05661 52.696575 \r\nL 88.996114 54.970531 \r\nL 85.424815 57.316384 \r\nL 82.356947 59.724783 \r\nL 79.804742 62.186126 \r\nL 77.778372 64.690604 \r\nL 76.964983 65.955903 \r\nL 76.285916 67.228231 \r\nL 75.741848 68.506318 \r\nL 75.333322 69.788892 \r\nL 75.060745 71.074672 \r\nL 74.924388 72.362379 \r\nL 74.924388 73.650728 \r\nL 75.060745 74.938435 \r\nL 75.333322 76.224216 \r\nL 75.741848 77.506789 \r\nL 76.285916 78.784877 \r\nL 76.964983 80.057204 \r\nL 77.778372 81.322503 \r\nL 78.725273 82.579513 \r\nL 81.015702 85.063662 \r\nL 83.82714 87.499747 \r\nL 87.148379 89.878059 \r\nL 90.966179 92.189115 \r\nL 95.265323 94.423704 \r\nL 100.028672 96.572918 \r\nL 105.237238 98.62819 \r\nL 110.870258 100.581326 \r\nL 116.905278 102.424542 \r\nL 123.318239 104.150488 \r\nL 130.083579 105.752286 \r\nL 137.174328 107.223549 \r\nL 144.562221 108.558414 \r\nL 152.217808 109.751558 \r\nL 160.11057 110.798226 \r\nL 168.209045 111.694245 \r\nL 176.480951 112.436044 \r\nL 184.893312 113.020666 \r\nL 193.412595 113.445779 \r\nL 202.00484 113.70969 \r\nL 210.635795 113.811346 \r\nL 219.271054 113.750342 \r\nL 227.876196 113.526921 \r\nL 236.416917 113.141975 \r\nL 244.859172 112.597037 \r\nL 253.169307 111.894279 \r\nL 261.314195 111.036504 \r\nL 269.261369 110.02713 \r\nL 276.97915 108.870182 \r\nL 284.436771 107.57027 \r\nL 291.604504 106.132577 \r\nL 298.453777 104.562834 \r\nL 304.957287 102.867299 \r\nL 311.089108 101.05273 \r\nL 316.824797 99.126361 \r\nL 322.141491 97.09587 \r\nL 327.017994 94.969352 \r\nL 331.43487 92.755285 \r\nL 335.374509 90.462492 \r\nL 338.821207 88.100116 \r\nL 341.761226 85.677572 \r\nL 344.182845 83.204518 \r\nL 346.076412 80.690811 \r\nL 346.822733 79.42184 \r\nL 347.434376 78.146473 \r\nL 347.910733 76.865983 \r\nL 348.251327 75.581646 \r\nL 348.455819 74.294742 \r\nL 348.524006 73.006554 \r\nL 348.524006 73.006554 \r\n\" style=\"fill:none;stroke:#ff7f0e;stroke-linecap:square;stroke-width:1.5;\"/>\r\n   </g>\r\n   <g id=\"patch_3\">\r\n    <path d=\"M 28.942188 239.758125 \r\nL 28.942188 22.318125 \r\n\" style=\"fill:none;stroke:#000000;stroke-linecap:square;stroke-linejoin:miter;stroke-width:0.8;\"/>\r\n   </g>\r\n   <g id=\"patch_4\">\r\n    <path d=\"M 363.742188 239.758125 \r\nL 363.742188 22.318125 \r\n\" style=\"fill:none;stroke:#000000;stroke-linecap:square;stroke-linejoin:miter;stroke-width:0.8;\"/>\r\n   </g>\r\n   <g id=\"patch_5\">\r\n    <path d=\"M 28.942188 239.758125 \r\nL 363.742188 239.758125 \r\n\" style=\"fill:none;stroke:#000000;stroke-linecap:square;stroke-linejoin:miter;stroke-width:0.8;\"/>\r\n   </g>\r\n   <g id=\"patch_6\">\r\n    <path d=\"M 28.942188 22.318125 \r\nL 363.742188 22.318125 \r\n\" style=\"fill:none;stroke:#000000;stroke-linecap:square;stroke-linejoin:miter;stroke-width:0.8;\"/>\r\n   </g>\r\n   <g id=\"text_16\">\r\n    <!-- Two roots are intersections on the figure -->\r\n    <defs>\r\n     <path d=\"M -0.296875 72.90625 \r\nL 61.375 72.90625 \r\nL 61.375 64.59375 \r\nL 35.5 64.59375 \r\nL 35.5 0 \r\nL 25.59375 0 \r\nL 25.59375 64.59375 \r\nL -0.296875 64.59375 \r\nz\r\n\" id=\"DejaVuSans-84\"/>\r\n     <path d=\"M 4.203125 54.6875 \r\nL 13.1875 54.6875 \r\nL 24.421875 12.015625 \r\nL 35.59375 54.6875 \r\nL 46.1875 54.6875 \r\nL 57.421875 12.015625 \r\nL 68.609375 54.6875 \r\nL 77.59375 54.6875 \r\nL 63.28125 0 \r\nL 52.6875 0 \r\nL 40.921875 44.828125 \r\nL 29.109375 0 \r\nL 18.5 0 \r\nz\r\n\" id=\"DejaVuSans-119\"/>\r\n     <path d=\"M 30.609375 48.390625 \r\nQ 23.390625 48.390625 19.1875 42.75 \r\nQ 14.984375 37.109375 14.984375 27.296875 \r\nQ 14.984375 17.484375 19.15625 11.84375 \r\nQ 23.34375 6.203125 30.609375 6.203125 \r\nQ 37.796875 6.203125 41.984375 11.859375 \r\nQ 46.1875 17.53125 46.1875 27.296875 \r\nQ 46.1875 37.015625 41.984375 42.703125 \r\nQ 37.796875 48.390625 30.609375 48.390625 \r\nz\r\nM 30.609375 56 \r\nQ 42.328125 56 49.015625 48.375 \r\nQ 55.71875 40.765625 55.71875 27.296875 \r\nQ 55.71875 13.875 49.015625 6.21875 \r\nQ 42.328125 -1.421875 30.609375 -1.421875 \r\nQ 18.84375 -1.421875 12.171875 6.21875 \r\nQ 5.515625 13.875 5.515625 27.296875 \r\nQ 5.515625 40.765625 12.171875 48.375 \r\nQ 18.84375 56 30.609375 56 \r\nz\r\n\" id=\"DejaVuSans-111\"/>\r\n     <path id=\"DejaVuSans-32\"/>\r\n     <path d=\"M 41.109375 46.296875 \r\nQ 39.59375 47.171875 37.8125 47.578125 \r\nQ 36.03125 48 33.890625 48 \r\nQ 26.265625 48 22.1875 43.046875 \r\nQ 18.109375 38.09375 18.109375 28.8125 \r\nL 18.109375 0 \r\nL 9.078125 0 \r\nL 9.078125 54.6875 \r\nL 18.109375 54.6875 \r\nL 18.109375 46.1875 \r\nQ 20.953125 51.171875 25.484375 53.578125 \r\nQ 30.03125 56 36.53125 56 \r\nQ 37.453125 56 38.578125 55.875 \r\nQ 39.703125 55.765625 41.0625 55.515625 \r\nz\r\n\" id=\"DejaVuSans-114\"/>\r\n     <path d=\"M 18.3125 70.21875 \r\nL 18.3125 54.6875 \r\nL 36.8125 54.6875 \r\nL 36.8125 47.703125 \r\nL 18.3125 47.703125 \r\nL 18.3125 18.015625 \r\nQ 18.3125 11.328125 20.140625 9.421875 \r\nQ 21.96875 7.515625 27.59375 7.515625 \r\nL 36.8125 7.515625 \r\nL 36.8125 0 \r\nL 27.59375 0 \r\nQ 17.1875 0 13.234375 3.875 \r\nQ 9.28125 7.765625 9.28125 18.015625 \r\nL 9.28125 47.703125 \r\nL 2.6875 47.703125 \r\nL 2.6875 54.6875 \r\nL 9.28125 54.6875 \r\nL 9.28125 70.21875 \r\nz\r\n\" id=\"DejaVuSans-116\"/>\r\n     <path d=\"M 44.28125 53.078125 \r\nL 44.28125 44.578125 \r\nQ 40.484375 46.53125 36.375 47.5 \r\nQ 32.28125 48.484375 27.875 48.484375 \r\nQ 21.1875 48.484375 17.84375 46.4375 \r\nQ 14.5 44.390625 14.5 40.28125 \r\nQ 14.5 37.15625 16.890625 35.375 \r\nQ 19.28125 33.59375 26.515625 31.984375 \r\nL 29.59375 31.296875 \r\nQ 39.15625 29.25 43.1875 25.515625 \r\nQ 47.21875 21.78125 47.21875 15.09375 \r\nQ 47.21875 7.46875 41.1875 3.015625 \r\nQ 35.15625 -1.421875 24.609375 -1.421875 \r\nQ 20.21875 -1.421875 15.453125 -0.5625 \r\nQ 10.6875 0.296875 5.421875 2 \r\nL 5.421875 11.28125 \r\nQ 10.40625 8.6875 15.234375 7.390625 \r\nQ 20.0625 6.109375 24.8125 6.109375 \r\nQ 31.15625 6.109375 34.5625 8.28125 \r\nQ 37.984375 10.453125 37.984375 14.40625 \r\nQ 37.984375 18.0625 35.515625 20.015625 \r\nQ 33.0625 21.96875 24.703125 23.78125 \r\nL 21.578125 24.515625 \r\nQ 13.234375 26.265625 9.515625 29.90625 \r\nQ 5.8125 33.546875 5.8125 39.890625 \r\nQ 5.8125 47.609375 11.28125 51.796875 \r\nQ 16.75 56 26.8125 56 \r\nQ 31.78125 56 36.171875 55.265625 \r\nQ 40.578125 54.546875 44.28125 53.078125 \r\nz\r\n\" id=\"DejaVuSans-115\"/>\r\n     <path d=\"M 34.28125 27.484375 \r\nQ 23.390625 27.484375 19.1875 25 \r\nQ 14.984375 22.515625 14.984375 16.5 \r\nQ 14.984375 11.71875 18.140625 8.90625 \r\nQ 21.296875 6.109375 26.703125 6.109375 \r\nQ 34.1875 6.109375 38.703125 11.40625 \r\nQ 43.21875 16.703125 43.21875 25.484375 \r\nL 43.21875 27.484375 \r\nz\r\nM 52.203125 31.203125 \r\nL 52.203125 0 \r\nL 43.21875 0 \r\nL 43.21875 8.296875 \r\nQ 40.140625 3.328125 35.546875 0.953125 \r\nQ 30.953125 -1.421875 24.3125 -1.421875 \r\nQ 15.921875 -1.421875 10.953125 3.296875 \r\nQ 6 8.015625 6 15.921875 \r\nQ 6 25.140625 12.171875 29.828125 \r\nQ 18.359375 34.515625 30.609375 34.515625 \r\nL 43.21875 34.515625 \r\nL 43.21875 35.40625 \r\nQ 43.21875 41.609375 39.140625 45 \r\nQ 35.0625 48.390625 27.6875 48.390625 \r\nQ 23 48.390625 18.546875 47.265625 \r\nQ 14.109375 46.140625 10.015625 43.890625 \r\nL 10.015625 52.203125 \r\nQ 14.9375 54.109375 19.578125 55.046875 \r\nQ 24.21875 56 28.609375 56 \r\nQ 40.484375 56 46.34375 49.84375 \r\nQ 52.203125 43.703125 52.203125 31.203125 \r\nz\r\n\" id=\"DejaVuSans-97\"/>\r\n     <path d=\"M 56.203125 29.59375 \r\nL 56.203125 25.203125 \r\nL 14.890625 25.203125 \r\nQ 15.484375 15.921875 20.484375 11.0625 \r\nQ 25.484375 6.203125 34.421875 6.203125 \r\nQ 39.59375 6.203125 44.453125 7.46875 \r\nQ 49.3125 8.734375 54.109375 11.28125 \r\nL 54.109375 2.78125 \r\nQ 49.265625 0.734375 44.1875 -0.34375 \r\nQ 39.109375 -1.421875 33.890625 -1.421875 \r\nQ 20.796875 -1.421875 13.15625 6.1875 \r\nQ 5.515625 13.8125 5.515625 26.8125 \r\nQ 5.515625 40.234375 12.765625 48.109375 \r\nQ 20.015625 56 32.328125 56 \r\nQ 43.359375 56 49.78125 48.890625 \r\nQ 56.203125 41.796875 56.203125 29.59375 \r\nz\r\nM 47.21875 32.234375 \r\nQ 47.125 39.59375 43.09375 43.984375 \r\nQ 39.0625 48.390625 32.421875 48.390625 \r\nQ 24.90625 48.390625 20.390625 44.140625 \r\nQ 15.875 39.890625 15.1875 32.171875 \r\nz\r\n\" id=\"DejaVuSans-101\"/>\r\n     <path d=\"M 9.421875 54.6875 \r\nL 18.40625 54.6875 \r\nL 18.40625 0 \r\nL 9.421875 0 \r\nz\r\nM 9.421875 75.984375 \r\nL 18.40625 75.984375 \r\nL 18.40625 64.59375 \r\nL 9.421875 64.59375 \r\nz\r\n\" id=\"DejaVuSans-105\"/>\r\n     <path d=\"M 54.890625 33.015625 \r\nL 54.890625 0 \r\nL 45.90625 0 \r\nL 45.90625 32.71875 \r\nQ 45.90625 40.484375 42.875 44.328125 \r\nQ 39.84375 48.1875 33.796875 48.1875 \r\nQ 26.515625 48.1875 22.3125 43.546875 \r\nQ 18.109375 38.921875 18.109375 30.90625 \r\nL 18.109375 0 \r\nL 9.078125 0 \r\nL 9.078125 54.6875 \r\nL 18.109375 54.6875 \r\nL 18.109375 46.1875 \r\nQ 21.34375 51.125 25.703125 53.5625 \r\nQ 30.078125 56 35.796875 56 \r\nQ 45.21875 56 50.046875 50.171875 \r\nQ 54.890625 44.34375 54.890625 33.015625 \r\nz\r\n\" id=\"DejaVuSans-110\"/>\r\n     <path d=\"M 48.78125 52.59375 \r\nL 48.78125 44.1875 \r\nQ 44.96875 46.296875 41.140625 47.34375 \r\nQ 37.3125 48.390625 33.40625 48.390625 \r\nQ 24.65625 48.390625 19.8125 42.84375 \r\nQ 14.984375 37.3125 14.984375 27.296875 \r\nQ 14.984375 17.28125 19.8125 11.734375 \r\nQ 24.65625 6.203125 33.40625 6.203125 \r\nQ 37.3125 6.203125 41.140625 7.25 \r\nQ 44.96875 8.296875 48.78125 10.40625 \r\nL 48.78125 2.09375 \r\nQ 45.015625 0.34375 40.984375 -0.53125 \r\nQ 36.96875 -1.421875 32.421875 -1.421875 \r\nQ 20.0625 -1.421875 12.78125 6.34375 \r\nQ 5.515625 14.109375 5.515625 27.296875 \r\nQ 5.515625 40.671875 12.859375 48.328125 \r\nQ 20.21875 56 33.015625 56 \r\nQ 37.15625 56 41.109375 55.140625 \r\nQ 45.0625 54.296875 48.78125 52.59375 \r\nz\r\n\" id=\"DejaVuSans-99\"/>\r\n     <path d=\"M 54.890625 33.015625 \r\nL 54.890625 0 \r\nL 45.90625 0 \r\nL 45.90625 32.71875 \r\nQ 45.90625 40.484375 42.875 44.328125 \r\nQ 39.84375 48.1875 33.796875 48.1875 \r\nQ 26.515625 48.1875 22.3125 43.546875 \r\nQ 18.109375 38.921875 18.109375 30.90625 \r\nL 18.109375 0 \r\nL 9.078125 0 \r\nL 9.078125 75.984375 \r\nL 18.109375 75.984375 \r\nL 18.109375 46.1875 \r\nQ 21.34375 51.125 25.703125 53.5625 \r\nQ 30.078125 56 35.796875 56 \r\nQ 45.21875 56 50.046875 50.171875 \r\nQ 54.890625 44.34375 54.890625 33.015625 \r\nz\r\n\" id=\"DejaVuSans-104\"/>\r\n     <path d=\"M 37.109375 75.984375 \r\nL 37.109375 68.5 \r\nL 28.515625 68.5 \r\nQ 23.6875 68.5 21.796875 66.546875 \r\nQ 19.921875 64.59375 19.921875 59.515625 \r\nL 19.921875 54.6875 \r\nL 34.71875 54.6875 \r\nL 34.71875 47.703125 \r\nL 19.921875 47.703125 \r\nL 19.921875 0 \r\nL 10.890625 0 \r\nL 10.890625 47.703125 \r\nL 2.296875 47.703125 \r\nL 2.296875 54.6875 \r\nL 10.890625 54.6875 \r\nL 10.890625 58.5 \r\nQ 10.890625 67.625 15.140625 71.796875 \r\nQ 19.390625 75.984375 28.609375 75.984375 \r\nz\r\n\" id=\"DejaVuSans-102\"/>\r\n     <path d=\"M 45.40625 27.984375 \r\nQ 45.40625 37.75 41.375 43.109375 \r\nQ 37.359375 48.484375 30.078125 48.484375 \r\nQ 22.859375 48.484375 18.828125 43.109375 \r\nQ 14.796875 37.75 14.796875 27.984375 \r\nQ 14.796875 18.265625 18.828125 12.890625 \r\nQ 22.859375 7.515625 30.078125 7.515625 \r\nQ 37.359375 7.515625 41.375 12.890625 \r\nQ 45.40625 18.265625 45.40625 27.984375 \r\nz\r\nM 54.390625 6.78125 \r\nQ 54.390625 -7.171875 48.1875 -13.984375 \r\nQ 42 -20.796875 29.203125 -20.796875 \r\nQ 24.46875 -20.796875 20.265625 -20.09375 \r\nQ 16.0625 -19.390625 12.109375 -17.921875 \r\nL 12.109375 -9.1875 \r\nQ 16.0625 -11.328125 19.921875 -12.34375 \r\nQ 23.78125 -13.375 27.78125 -13.375 \r\nQ 36.625 -13.375 41.015625 -8.765625 \r\nQ 45.40625 -4.15625 45.40625 5.171875 \r\nL 45.40625 9.625 \r\nQ 42.625 4.78125 38.28125 2.390625 \r\nQ 33.9375 0 27.875 0 \r\nQ 17.828125 0 11.671875 7.65625 \r\nQ 5.515625 15.328125 5.515625 27.984375 \r\nQ 5.515625 40.671875 11.671875 48.328125 \r\nQ 17.828125 56 27.875 56 \r\nQ 33.9375 56 38.28125 53.609375 \r\nQ 42.625 51.21875 45.40625 46.390625 \r\nL 45.40625 54.6875 \r\nL 54.390625 54.6875 \r\nz\r\n\" id=\"DejaVuSans-103\"/>\r\n     <path d=\"M 8.5 21.578125 \r\nL 8.5 54.6875 \r\nL 17.484375 54.6875 \r\nL 17.484375 21.921875 \r\nQ 17.484375 14.15625 20.5 10.265625 \r\nQ 23.53125 6.390625 29.59375 6.390625 \r\nQ 36.859375 6.390625 41.078125 11.03125 \r\nQ 45.3125 15.671875 45.3125 23.6875 \r\nL 45.3125 54.6875 \r\nL 54.296875 54.6875 \r\nL 54.296875 0 \r\nL 45.3125 0 \r\nL 45.3125 8.40625 \r\nQ 42.046875 3.421875 37.71875 1 \r\nQ 33.40625 -1.421875 27.6875 -1.421875 \r\nQ 18.265625 -1.421875 13.375 4.4375 \r\nQ 8.5 10.296875 8.5 21.578125 \r\nz\r\nM 31.109375 56 \r\nz\r\n\" id=\"DejaVuSans-117\"/>\r\n    </defs>\r\n    <g transform=\"translate(73.972188 16.318125)scale(0.12 -0.12)\">\r\n     <use xlink:href=\"#DejaVuSans-84\"/>\r\n     <use x=\"60.833984\" xlink:href=\"#DejaVuSans-119\"/>\r\n     <use x=\"142.621094\" xlink:href=\"#DejaVuSans-111\"/>\r\n     <use x=\"203.802734\" xlink:href=\"#DejaVuSans-32\"/>\r\n     <use x=\"235.589844\" xlink:href=\"#DejaVuSans-114\"/>\r\n     <use x=\"276.671875\" xlink:href=\"#DejaVuSans-111\"/>\r\n     <use x=\"337.853516\" xlink:href=\"#DejaVuSans-111\"/>\r\n     <use x=\"399.035156\" xlink:href=\"#DejaVuSans-116\"/>\r\n     <use x=\"438.244141\" xlink:href=\"#DejaVuSans-115\"/>\r\n     <use x=\"490.34375\" xlink:href=\"#DejaVuSans-32\"/>\r\n     <use x=\"522.130859\" xlink:href=\"#DejaVuSans-97\"/>\r\n     <use x=\"583.410156\" xlink:href=\"#DejaVuSans-114\"/>\r\n     <use x=\"624.492188\" xlink:href=\"#DejaVuSans-101\"/>\r\n     <use x=\"686.015625\" xlink:href=\"#DejaVuSans-32\"/>\r\n     <use x=\"717.802734\" xlink:href=\"#DejaVuSans-105\"/>\r\n     <use x=\"745.585938\" xlink:href=\"#DejaVuSans-110\"/>\r\n     <use x=\"808.964844\" xlink:href=\"#DejaVuSans-116\"/>\r\n     <use x=\"848.173828\" xlink:href=\"#DejaVuSans-101\"/>\r\n     <use x=\"909.697266\" xlink:href=\"#DejaVuSans-114\"/>\r\n     <use x=\"950.810547\" xlink:href=\"#DejaVuSans-115\"/>\r\n     <use x=\"1002.910156\" xlink:href=\"#DejaVuSans-101\"/>\r\n     <use x=\"1064.433594\" xlink:href=\"#DejaVuSans-99\"/>\r\n     <use x=\"1119.414062\" xlink:href=\"#DejaVuSans-116\"/>\r\n     <use x=\"1158.623047\" xlink:href=\"#DejaVuSans-105\"/>\r\n     <use x=\"1186.40625\" xlink:href=\"#DejaVuSans-111\"/>\r\n     <use x=\"1247.587891\" xlink:href=\"#DejaVuSans-110\"/>\r\n     <use x=\"1310.966797\" xlink:href=\"#DejaVuSans-115\"/>\r\n     <use x=\"1363.066406\" xlink:href=\"#DejaVuSans-32\"/>\r\n     <use x=\"1394.853516\" xlink:href=\"#DejaVuSans-111\"/>\r\n     <use x=\"1456.035156\" xlink:href=\"#DejaVuSans-110\"/>\r\n     <use x=\"1519.414062\" xlink:href=\"#DejaVuSans-32\"/>\r\n     <use x=\"1551.201172\" xlink:href=\"#DejaVuSans-116\"/>\r\n     <use x=\"1590.410156\" xlink:href=\"#DejaVuSans-104\"/>\r\n     <use x=\"1653.789062\" xlink:href=\"#DejaVuSans-101\"/>\r\n     <use x=\"1715.3125\" xlink:href=\"#DejaVuSans-32\"/>\r\n     <use x=\"1747.099609\" xlink:href=\"#DejaVuSans-102\"/>\r\n     <use x=\"1782.304688\" xlink:href=\"#DejaVuSans-105\"/>\r\n     <use x=\"1810.087891\" xlink:href=\"#DejaVuSans-103\"/>\r\n     <use x=\"1873.564453\" xlink:href=\"#DejaVuSans-117\"/>\r\n     <use x=\"1936.943359\" xlink:href=\"#DejaVuSans-114\"/>\r\n     <use x=\"1978.025391\" xlink:href=\"#DejaVuSans-101\"/>\r\n    </g>\r\n   </g>\r\n  </g>\r\n </g>\r\n <defs>\r\n  <clipPath id=\"p77517e9a3f\">\r\n   <rect height=\"217.44\" width=\"334.8\" x=\"28.942188\" y=\"22.318125\"/>\r\n  </clipPath>\r\n </defs>\r\n</svg>\r\n",
      "image/png": "[encoded data removed]"
     },
     "metadata": {
      "needs_background": "light"
     }
    }
   ],
   "source": [
    "import numpy as np \n",
    "import matplotlib.pyplot as plt\n",
    "from sympy import symbols, diff, exp\n",
    "from scipy.optimize import minimize\n",
    "# a) =======================================================\n",
    "x1 = np.linspace(-2, 1, 201)\n",
    "y1 = -2 * np.exp(x1)\n",
    "\n",
    "theta = np.linspace(0, 2*np.pi, 200)\n",
    "x2 = np.cos(theta) * np.sqrt(8/3)\n",
    "y2 = np.sin(theta) * np.sqrt(2)\n",
    "\n",
    "plt.figure()\n",
    "plt.plot(x1, y1, label='curve 1')\n",
    "plt.plot(x2, y2, label='curve 2')\n",
    "plt.title(\"Two roots are intersections on the figure\")\n",
    "plt.show()\n",
    "plt.close()"
   ]
  },
  {
   "cell_type": "code",
   "execution_count": 3,
   "metadata": {},
   "outputs": [
    {
     "output_type": "stream",
     "name": "stdout",
     "text": "2*exp(sym_x)\n1\n6*sym_x\n8*sym_y\n"
    }
   ],
   "source": [
    "# b) ===============================================\n",
    "def NewtonMethod(F, J, x, precision=1e-2, max_rd=100, learning_rate=0.001, show_fig=False):\n",
    "    F_value = F(x)\n",
    "    F_norm = np.linalg.norm(F_value, ord=2) \n",
    "    rd = 0\n",
    "\n",
    "    if show_fig:\n",
    "        plt.figure()\n",
    "        plt_x = []\n",
    "        plt_y = []\n",
    "\n",
    "    while abs(F_norm) > precision:\n",
    "        delta = np.linalg.solve(J(x), F_value) \n",
    "        x -= delta * learning_rate\n",
    "        F_value = F(x)\n",
    "        F_norm = np.linalg.norm(F_value, ord=2)\n",
    "        rd += 1\n",
    "        if show_fig:\n",
    "            plt_x.append(x[0])\n",
    "            plt_y.append(x[1])\n",
    "\n",
    "        if rd > max_rd:\n",
    "            print(f\"Method failed in {rd:d} steps.\")\n",
    "            if show_fig:\n",
    "                plt.scatter(plt_x, plt_y)\n",
    "                plt.show()\n",
    "                plt.close()\n",
    "            return [None, rd]\n",
    "    if show_fig:\n",
    "        plt.scatter(plt_x, plt_y)\n",
    "        plt.show()\n",
    "        plt.close()\n",
    "    return x, rd\n",
    "\n",
    "sym_x, sym_y = symbols(\"sym_x sym_y\")\n",
    "F0 = 2 * exp(sym_x) + sym_y\n",
    "F1 = 3 * sym_x**2 + 4 * sym_y**2 - 8\n",
    "\n",
    "print(diff(F0, sym_x))\n",
    "print(diff(F0, sym_y))\n",
    "print(diff(F1, sym_x))\n",
    "print(diff(F1, sym_y))"
   ]
  },
  {
   "cell_type": "code",
   "execution_count": 10,
   "metadata": {
    "tags": [
     "outputPrepend",
     "outputPrepend",
     "outputPrepend",
     "outputPrepend",
     "outputPrepend",
     "outputPrepend",
     "outputPrepend",
     "outputPrepend",
     "outputPrepend",
     "outputPrepend",
     "outputPrepend",
     "outputPrepend",
     "outputPrepend",
     "outputPrepend",
     "outputPrepend",
     "outputPrepend",
     "outputPrepend",
     "outputPrepend",
     "outputPrepend",
     "outputPrepend",
     "outputPrepend",
     "outputPrepend",
     "outputPrepend",
     "outputPrepend",
     "outputPrepend",
     "outputPrepend",
     "outputPrepend",
     "outputPrepend",
     "outputPrepend",
     "outputPrepend",
     "outputPrepend",
     "outputPrepend"
    ]
   },
   "outputs": [
    {
     "output_type": "stream",
     "name": "stdout",
     "text": "solve by Newton method: \n\troot1:  [-1.95990875 -0.28174255] \n\troot2:  [-0.3633555  -1.39067839]\nsolve by scipy.optimize: \n\troot1:  [-1.95990876 -0.28174252] \n\troot2:  [-0.3633555  -1.39067839]\n"
    }
   ],
   "source": [
    "def F(arr):\n",
    "    x, y = arr\n",
    "    return np.array([2 * np.exp(x) + y,\n",
    "        2 * x**2 + 4 * y**2 - 8])\n",
    "def J(arr):\n",
    "    x, y = arr\n",
    "    return np.array([[2 * np.exp(x), 1],\n",
    "        [6 * x, 8 * y]])\n",
    "def F_target(arr):\n",
    "    return np.linalg.norm(F(arr), ord=2)\n",
    "\n",
    "root1, _ = NewtonMethod(F, J, [-2, -2*np.exp(-2)], show_fig=False, max_rd=100, learning_rate=1, precision=1e-7)\n",
    "root2, _ = NewtonMethod(F, J, [0, -2], show_fig=False, max_rd=100, learning_rate=1, precision=1e-7)\n",
    "print(\"solve by Newton method: \")\n",
    "print(\"\\troot1: \", root1, \"\\n\\troot2: \",  root2)\n",
    "\n",
    "root1 = minimize(F_target, [-2, -2*np.exp(-2)])\n",
    "root2 = minimize(F_target, [0, -2])\n",
    "print(\"solve by scipy.optimize: \")\n",
    "print(\"\\troot1: \", root1['x'], \"\\n\\troot2: \",  root2['x'])"
   ]
  },
  {
   "cell_type": "markdown",
   "metadata": {},
   "source": [
    "5. Consider a linear $2\\times 2$ system (with unknowns $x_1$ and $x_2$) described by its augmented matrix \n",
    "    $$\n",
    "    \\begin{bmatrix}\n",
    "    \\left.\\begin{matrix}\\varepsilon & 1\\\\\n",
    "    1 & 1\n",
    "    \\end{matrix}\\right\\vert\n",
    "    \\begin{matrix}\n",
    "    2\\\\\n",
    "    1\n",
    "    \\end{matrix}\\end{bmatrix}\n",
    "    $$\n",
    "    where $\\epsilon > 0$ is a very small constant.\n",
    "\n",
    "    a) Solve by Gauss elimination without partial pivoting.\n",
    "\n",
    "    b) Solve by Gauss elimination with partial pivoting. Compare the results and discuss their validity.\n",
    "\n"
   ]
  },
  {
   "cell_type": "code",
   "execution_count": null,
   "metadata": {},
   "outputs": [],
   "source": []
  },
  {
   "cell_type": "markdown",
   "metadata": {},
   "source": [
    "6. Solve the system of equations $Ax=b$ with a well-behaved matrix\n",
    "    $$\n",
    "    A_{ii}=n,\\text{ }A_{i\\neq j}=1\n",
    "    $$\n",
    "    by applying \n",
    "\n",
    "    a) LU decomposition, (Hint: You can use Python module `scipy.linalg.lu_solve`)\n",
    "\n",
    "    b) Cholesky decomposition, (Hint: You can use Python module `numpy.linalg.cholesky`)\n",
    "\n",
    "    The right-hand side is $b=A\\begin{pmatrix}\n",
    "    1\\\\\n",
    "    2\\\\\n",
    "    \\vdots\\\\\n",
    "    n\n",
    "    \\end{pmatrix}$, hence the exact solution is $x=\\begin{pmatrix}\n",
    "    1\\\\\n",
    "    2\\\\\n",
    "    \\vdots\\\\\n",
    "    n\n",
    "    \\end{pmatrix}$.\n",
    "\n"
   ]
  },
  {
   "cell_type": "code",
   "execution_count": null,
   "metadata": {},
   "outputs": [],
   "source": []
  },
  {
   "cell_type": "markdown",
   "metadata": {},
   "source": [
    "7. **Multiple linear regression** generalizes simple linear regression by allowing several predictor variables instead of just one.    \n",
    "   We model the response $y=a_{0}+a_{1}x_{1}+\\cdots+a_{p}x_{p}$. Now, we have a sequence of $n$ response values $y_{i}$, and a sequence of $n$ predictor vectors $(x_{i1},x_{i2},\\cdots,x_{ip})$. The goal is to estimate the parameter vector $(a_{0},\\cdots,a_{p})$ so as to minimize the sum of the squared errors.   \n",
    "   In matrix notation, we have an overdetermined system of equations \n",
    "   $$\n",
    "   \\mathbf{y=X a}\n",
    "   $$\n",
    "   where\n",
    "   $$\n",
    "   \\begin{pmatrix}\n",
    "   y_{1}\\\\\n",
    "   y_{2}\\\\\n",
    "   \\vdots\\\\\n",
    "   \\\\\n",
    "   \\\\\n",
    "   y_{n}%\n",
    "   \\end{pmatrix}=\\begin{pmatrix}\n",
    "   1 & x_{11} & x_{12} & \\cdots & x_{1p}\\\\\n",
    "   1 & x_{21} & x_{22} & \\cdots & x_{2p}\\\\\n",
    "   \\vdots & \\vdots & \\ddots &  & \\vdots\\\\\n",
    "   &  &  &  & \\\\\n",
    "   1 &  &  &  & \\\\\n",
    "   1 & x_{n1} & x_{n2} & \\cdots & x_{np}%\n",
    "   \\end{pmatrix} \\begin{pmatrix}\n",
    "   a_{0}\\\\\n",
    "   a_{1}\\\\\n",
    "   \\vdots\\\\\n",
    "   \\\\\n",
    "   a_{p}%\n",
    "   \\end{pmatrix}\n",
    "   $$\n",
    "   Our goal is to find a vector $\\mathbf{a}$ that minimizes $\\mathbf{Xa-y}$ . A numerically stable algorithm for computing $\\mathbf{a}$ is to compute QR factorization $\\mathbf{X=QR}$, then solve the triangular system $\\mathbf{Ra=Q^{T}y}$ via back substitution.\n",
    "\n",
    "   The expression $z = ax^{2} +bxy +cy^{2} +dx +ey +f$ is known as a **quadratic form**. The set of points $(x, y)$, where $z = 0$, is a conic section. It can be an ellipse, a parabola, or a hyperbola, depending on the sign of the discriminant $b^{2}-4ac$. Circles and lines are special cases. The equation $z\n",
    "    = 0$ can be normalized by dividing the quadratic form by any nonzero coefficient. For example, if $f\\neq0$, we can divide all the other coefficients by $f$ and obtain a quadratic form with the constant term equal to one.\n",
    "\n",
    "    ​\tA planet follows an elliptical orbit. Here are ten observations of its position in the $(x, y)$ plane:\n",
    "\n",
    "    ```\n",
    "    x = [1.02 .95 .87 .77 .67 .56 .44 .30 .16 .01];\n",
    "    y = [0.39 .32 .27 .22 .18 .15 .13 .12 .13 .15];\n",
    "    ```\n",
    "\n",
    "    a) Determine the coefficients in the quadratic form that fits these data in the least squares sense by setting one of the coefficients equal to one and solving a 10-by-5 overdetermined system of linear equations for the other five coefficients. Plot the orbit with $x$ on the $x$-axis and $y$ on the $y$-axis. Superimpose the ten data points on the plot.\n",
    "\n",
    "    b) This least squares problem is nearly rank deficient. To see what effect this has on the solution, perturb the data slightly by adding to each coordinate of each data point a random number uniformly distributed in the interval $[-.0005, .0005]$. Compute the new coefficients resulting from the perturbed data. Plot the new orbit on the same plot with the old orbit. Comment on your comparison of the sets of coefficients and the orbits.    \n",
    "    (Hint:  You can use Python module `numpy.linalg.qr`)"
   ]
  }
 ],
 "metadata": {
  "file_extension": ".py",
  "kernelspec": {
   "display_name": "Python 3",
   "language": "python",
   "name": "python3"
  },
  "language_info": {
   "codemirror_mode": {
    "name": "ipython",
    "version": 3
   },
   "file_extension": ".py",
   "mimetype": "text/x-python",
   "name": "python",
   "nbconvert_exporter": "python",
   "pygments_lexer": "ipython3",
   "version": "3.8.1-final"
  },
  "mimetype": "text/x-python",
  "name": "python",
  "npconvert_exporter": "python",
  "pygments_lexer": "ipython3",
  "version": 3
 },
 "nbformat": 4,
 "nbformat_minor": 2
}