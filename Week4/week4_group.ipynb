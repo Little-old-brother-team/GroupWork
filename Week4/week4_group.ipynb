{
 "nbformat": 4,
 "nbformat_minor": 2,
 "metadata": {
  "language_info": {
   "name": "python",
   "codemirror_mode": {
    "name": "ipython",
    "version": 3
   },
   "version": "3.8.1-final"
  },
  "orig_nbformat": 2,
  "file_extension": ".py",
  "mimetype": "text/x-python",
  "name": "python",
  "npconvert_exporter": "python",
  "pygments_lexer": "ipython3",
  "version": 3,
  "kernelspec": {
   "name": "python3",
   "display_name": "Python 3"
  }
 },
 "cells": [
  {
   "cell_type": "markdown",
   "metadata": {},
   "source": [
    "1. Write a program that uses both upward and downward recursion to calculate the spherical Bessel function $j_{l}\\left(  x\\right)$ for the first 25 $l$ values for $x=0.1,1,10$. Tune your program so that at lease one method gives \"good\" values (meaning a relative error $\\simeq 10^{-10}$).  \n",
    "    a) Show the convergence and stability of your results.  \n",
    "    b) Compare the upward and downward recursion methods, printing out $l,$ $j_{l}^{\\left(  \\text{up}\\right)  },$ $j_{l}^{\\left(  \\text{down}\\right)  },$ and the relative difference $\\left\\vert j_{l}^{\\left(  \\text{up}\\right)\n",
    "    }-j_{l}^{\\left(  \\text{down}\\right)  }\\right\\vert \\left/  \\left(  \\left\\vert\n",
    "    j_{l}^{\\left(  \\text{up}\\right)  }\\right\\vert +\\left\\vert j_{l}^{\\left(\n",
    "    \\text{down}\\right)  }\\right\\vert \\right)  \\right.$."
   ]
  },
  {
   "cell_type": "code",
   "execution_count": null,
   "metadata": {},
   "outputs": [],
   "source": []
  },
  {
   "cell_type": "markdown",
   "metadata": {},
   "source": [
    "2.  Suppose that the equations of motion for a projectile are \n",
    "    $$\n",
    "    \\begin{aligned}\n",
    "    y&=f(t)=9600(1-e^{-t/15})-480t\\\\\n",
    "    x&=r(t)=2400(1-e^{-t/15})\n",
    "    \\end{aligned}\n",
    "    $$\n",
    "    a) Find the elapsed time until impact accurate to 10 decimal places.\n",
    "\n",
    "    b) Find the range accurate to 10 decimal places.\n",
    "\n",
    "    by applying\n",
    "\n",
    "    1) the bisection algorithm,\n",
    "\n",
    "    2) the inverse interpolation method, and\n",
    "\n",
    "    3) the secant method.\n",
    "\n",
    "    Please compare your results. \n",
    "    \n",
    "    **Hint**: Please read the sample scripts first."
   ]
  },
  {
   "cell_type": "code",
   "execution_count": 80,
   "metadata": {},
   "outputs": [
    {
     "output_type": "stream",
     "name": "stdout",
     "text": "Bisection method:\n\tThe inpact time: \t9.08789966878505595\n\tRange: \t\t\t1090.54796025420500882\n\tRunning time: \t\t9.904e-04s\n\titeration num: \t\t45\n"
    }
   ],
   "source": [
    "# bisection method ========================================================\n",
    "iter_num = 0\n",
    "import numpy as np \n",
    "import time\n",
    "def y(t):\n",
    "    return 9600 * (1 - np.exp(-t/15)) - 480 * t\n",
    "def x(t):\n",
    "    return 2400 * (1 - np.exp(-t/15))\n",
    "def BisectionMethod(beg, end, precision):\n",
    "    global iter_num\n",
    "    iter_num += 1\n",
    "    mid = (beg + end) / 2\n",
    "    if np.abs(y(mid)) < 0.5 * precision:\n",
    "        return mid\n",
    "    if y(mid) > 0:\n",
    "        return BisectionMethod(mid, end, precision)\n",
    "    else:\n",
    "        return BisectionMethod(beg, mid, precision)\n",
    "start_time = time.time()\n",
    "impact_time = BisectionMethod(0.5, 20, 1e-10)\n",
    "run_time = time.time() - start_time\n",
    "print(\"Bisection method:\")\n",
    "print(f\"\\tThe inpact time: \\t{impact_time:.17f}\")\n",
    "print(f\"\\tRange: \\t\\t\\t{x(impact_time):.17f}\")\n",
    "print(f\"\\tRunning time: \\t\\t{run_time:.3e}s\")\n",
    "print(f\"\\titeration num: \\t\\t{iter_num:d}\")"
   ]
  },
  {
   "cell_type": "code",
   "execution_count": 82,
   "metadata": {},
   "outputs": [
    {
     "output_type": "stream",
     "name": "stdout",
     "text": "Interpolation method:\n\tThe inpact time: \t9.08789966878473265\n\tRange: \t\t\t1090.54796025417681449\n\tRunning time: \t\t9.980e-04s\n\titeration num: \t\t41\n"
    }
   ],
   "source": [
    "# inverse interpolation method ==============================================\n",
    "iter_num = 0\n",
    "def InterpolationMethod(beg, end, precision):\n",
    "    global iter_num\n",
    "    iter_num += 1\n",
    "    denominator = (y(end) - y(beg)) / (end - beg)\n",
    "    mid = beg + (0 - y(beg)) / denominator\n",
    "    if np.abs(y(mid)) < 0.5 * precision:\n",
    "        return mid\n",
    "    if y(mid) > 0:\n",
    "        return InterpolationMethod(mid, end, precision)\n",
    "    else:\n",
    "        return InterpolationMethod(beg, mid, precision)\n",
    "start_time = time.time()\n",
    "impact_time = InterpolationMethod(0.5, 20.0, 1e-10)\n",
    "run_time = time.time() - start_time\n",
    "print(\"Interpolation method:\")\n",
    "print(f\"\\tThe inpact time: \\t{impact_time:.17f}\")\n",
    "print(f\"\\tRange: \\t\\t\\t{x(impact_time):.17f}\")\n",
    "print(f\"\\tRunning time: \\t\\t{run_time:.3e}s\")\n",
    "print(f\"\\titeration num: \\t\\t{iter_num:d}\")"
   ]
  },
  {
   "cell_type": "code",
   "execution_count": 87,
   "metadata": {},
   "outputs": [
    {
     "output_type": "stream",
     "name": "stdout",
     "text": "Secant method:\n\tThe inpact time: \t9.08789966878500266\n\tRange: \t\t\t1090.54796025420023398\n\tRunning time: \t\t9.947e-04s\n\titeration num: \t\t8\n"
    }
   ],
   "source": [
    "# secant method ===============================================================\n",
    "iter_num = 0\n",
    "def SecantMethod(beg, end, precision):\n",
    "    global iter_num\n",
    "    iter_num += 1\n",
    "    denominator = (y(end) - y(beg)) / (end - beg)\n",
    "    mid = beg + (0 - y(beg)) / denominator\n",
    "    if np.abs(y(mid)) < 0.5 * precision:\n",
    "        return mid\n",
    "    return SecantMethod(end, mid, precision)\n",
    "\n",
    "start_time = time.time()\n",
    "impact_time = SecantMethod(20.0, 21, 1e-10)\n",
    "run_time = time.time() - start_time\n",
    "print(\"Secant method:\")\n",
    "print(f\"\\tThe inpact time: \\t{impact_time:.17f}\")\n",
    "print(f\"\\tRange: \\t\\t\\t{x(impact_time):.17f}\")\n",
    "print(f\"\\tRunning time: \\t\\t{run_time:.3e}s\")\n",
    "print(f\"\\titeration num: \\t\\t{iter_num:d}\")"
   ]
  },
  {
   "cell_type": "markdown",
   "metadata": {},
   "source": [
    "## Conclusion of problem 2\n",
    "Secant method is the best in this situation, from an almost-same start point. And if we want to compare the efficiency of algorithm, compare iteration number is much better since their duration is so short that we can not mesure them precisely. "
   ]
  },
  {
   "cell_type": "markdown",
   "metadata": {},
   "source": [
    "3. Solve Nonlinear Equation for a Vibrating Beam  \n",
    "    An important engineering problem that arises in a lot of applications is the vibrations of a clamped beam where the other end is free. This problem can be analyzed analytically, but the calculations boil down to solving the following nonlinear algebraic equation:  \n",
    "    $$  \n",
    "    \\cosh \\beta \\cos \\beta = −1  \n",
    "    $$  \n",
    "where $\\beta$ is related to important beam parameters through  \n",
    "$$\n",
    "\\beta^4 = \\omega^2\\frac{\\rho A}{EI}\n",
    "$$\n",
    "where $\\rho$ is the density of the beam, $A$ is the area of the cross section, $E$ is Young’s modulus, and $I$ is the moment of the inertia of the cross section. The most important parameter of interest is $\\omega$, which is the frequency of the beam. We want to compute the frequencies of a vibrating steel beam with a rectangular cross section having width $b = 25$ mm and height $h = 8$ mm. The density of steel is 7850 kg/m$^3$, and $E = 2 × 10^{11}$ Pa. The moment of inertia of a rectangular cross section is $I =bh^3/12$.  \n",
    "\n",
    "a) Plot the equation to be solved so that one can inspect where the zero crossings occur.\n",
    "\n",
    "**Hint**:  When writing the equation as $f (\\beta) = 0$, the $f$ function increases its amplitude dramatically with $\\beta$. It is therefore wise to look at an equation with damped amplitude, $g(\\beta) = e^{−\\beta}f (\\beta) = 0$. Plot $g$ instead.  \n",
    "\n",
    "b) Compute the first three frequencies.\n",
    "\n"
   ]
  }
 ]
}