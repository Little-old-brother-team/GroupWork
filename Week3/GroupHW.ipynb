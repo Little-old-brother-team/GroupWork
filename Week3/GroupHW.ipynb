{
 "nbformat": 4,
 "nbformat_minor": 2,
 "metadata": {
  "language_info": {
   "name": "python",
   "codemirror_mode": {
    "name": "ipython",
    "version": 3
   },
   "version": "3.7.4-final"
  },
  "orig_nbformat": 2,
  "file_extension": ".py",
  "mimetype": "text/x-python",
  "name": "python",
  "npconvert_exporter": "python",
  "pygments_lexer": "ipython3",
  "version": 3,
  "kernelspec": {
   "name": "python3",
   "display_name": "Python 3"
  }
 },
 "cells": [
  {
   "cell_type": "markdown",
   "metadata": {},
   "source": [
    "### Group Assignment\n",
    "\n",
    "1. The quadratic equation $ax^{2}+bx+c=0$ has an analytic solution that can be written as either \n",
    "    $$\n",
    "    x_{1,2}=\\frac{-b\\pm\\sqrt{b^{2}-4ac}}{2a}\\text{ or }x_{1,2}=\\frac{-2c}{-b\\pm\\sqrt{b^{2}-4ac}}\n",
    "    $$\n",
    "    When $b^{2}\\gg4ac$, the square root and its preceding term nearly cancel for one of the roots. Consequently, subtractive cancellation (and consequently an increase in error) arises. Consider the following equations:  \n",
    "    (1) $x^2-1000.001x+1=0$;  \n",
    "    (2) $x^2-10000.0001x+1=0$;  \n",
    "    (3) $x^2-100000.00001x+1=0$;  \n",
    "    (4) $x^2-1000000.000001x+1=0$.  \n",
    "\n",
    "    (a) Using the appropriate method to find the roots of the equations.  \n"
   ]
  },
  {
   "cell_type": "code",
   "execution_count": 4,
   "metadata": {},
   "outputs": [
    {
     "output_type": "stream",
     "name": "stdout",
     "text": "Result by binary search:\nThe roots for formula [x^2 + 10000.0001x + 1 = 0] are: (0.0009999999999999957, 1000.0)\nThe roots for formula [x^2 + 10000.0001x + 1 = 0] are: (9.999999999999617e-05, 9999.999999999998)\nThe roots for formula [x^2 + 100000.00001x + 1 = 0] are: (9.999999999992254e-06, 100000.0)\n"
    }
   ],
   "source": [
    "# zx ===========================================\n",
    "# 可以随意修改分割线的名称\n",
    "\n",
    "# hjh ===========================================\n",
    "def dichotomy(a,b,c):\n",
    "    # Solve the formula by binary search\n",
    "    # In this task, a = c = 1, b>>1. Thus one root near 0 while the other near -b.\n",
    "    def find_sol(left,right):\n",
    "        # Find a solution between left and right.\n",
    "        while abs(right-left) >= 0.00000000000000001: \n",
    "            mid = (right+left)/2\n",
    "            l = binomial(left)\n",
    "            r = binomial(right)\n",
    "            if l == 0:\n",
    "                sol = left\n",
    "                break\n",
    "            elif r == 0:\n",
    "                sol = right\n",
    "                break\n",
    "            m = binomial(mid)\n",
    "        \n",
    "            if l*r > 0:\n",
    "                sol = 'No solution'\n",
    "                break\n",
    "            elif m == 0:\n",
    "                sol = mid\n",
    "                break\n",
    "            elif m*l < 0:\n",
    "                right = mid\n",
    "            elif m*r < 0:\n",
    "                left = mid\n",
    "                sol = mid\n",
    "        return sol\n",
    "\n",
    "    def binomial(x):\n",
    "        y = a*x**2 + b*x + c\n",
    "        return(y)\n",
    "    \n",
    "    sol_left = find_sol(left=-abs(b),right=abs(b/2))\n",
    "    sol_right = find_sol(right=abs(b),left=abs(b/2))\n",
    "    return sol_left,sol_right\n",
    "    \n",
    "print(\"Result by binary search:\")\n",
    "print(\"The roots for formula [x^2 + 10000.0001x + 1 = 0] are: {}\".format(dichotomy(1,-1000.001,1)))\n",
    "print(\"The roots for formula [x^2 + 10000.0001x + 1 = 0] are: {}\".format(dichotomy(1,-10000.0001,1)))\n",
    "print(\"The roots for formula [x^2 + 100000.00001x + 1 = 0] are: {}\".format(dichotomy(1,-100000.00001,1)))\n",
    "\n",
    "# cdy ===========================================\n",
    ""
   ]
  },
  {
   "cell_type": "markdown",
   "metadata": {},
   "source": [
    "   (b) Determine the absolute and relative errors for your results. "
   ]
  },
  {
   "cell_type": "code",
   "execution_count": 2,
   "metadata": {},
   "outputs": [],
   "source": [
    "# zx ===========================================\n",
    "# 可以随意修改分割线的名称\n",
    "\n",
    "# hjh ===========================================\n",
    "# \n",
    "\n",
    "# cdy ===========================================\n"
   ]
  },
  {
   "cell_type": "markdown",
   "metadata": {},
   "source": [
    "2. Several mathematical constants are used very frequently in science, such as $\\pi$,  $e$, and the Euler constant $\\gamma= \\displaystyle\\lim_{n\\rightarrow\\infty}\\left(\\displaystyle\\sum_{k=1}^n k^{-1}-\\ln n\\right)$.   \n",
    "  Find **three** ways of creating each of $\\pi$, $e$, and $\\gamma$ in a code. After considering language specifications, numerical accuracy, and efficiency, which way of creating each of them is most appropriate? If we need to use such a constant many times in a program, should the constant be created once and stored under a variable to be used over and over again, or should it be created/accessed every time it is needed?\n"
   ]
  },
  {
   "cell_type": "code",
   "execution_count": 3,
   "metadata": {},
   "outputs": [],
   "source": [
    "# pi ============================================\n",
    "\n",
    "# e ============================================\n",
    "\n",
    "# gamma ============================================\n",
    ""
   ]
  }
 ]
}