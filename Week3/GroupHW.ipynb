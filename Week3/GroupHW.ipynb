{
 "nbformat": 4,
 "nbformat_minor": 2,
 "metadata": {
  "language_info": {
   "name": "python",
   "codemirror_mode": {
    "name": "ipython",
    "version": 3
   }
  },
  "orig_nbformat": 2,
  "file_extension": ".py",
  "mimetype": "text/x-python",
  "name": "python",
  "npconvert_exporter": "python",
  "pygments_lexer": "ipython3",
  "version": 3
 },
 "cells": [
  {
   "cell_type": "markdown",
   "metadata": {},
   "source": [
    "### Group Assignment\n",
    "\n",
    "1. The quadratic equation $ax^{2}+bx+c=0$ has an analytic solution that can be written as either \n",
    "    $$\n",
    "    x_{1,2}=\\frac{-b\\pm\\sqrt{b^{2}-4ac}}{2a}\\text{ or }x_{1,2}=\\frac{-2c}{-b\\pm\\sqrt{b^{2}-4ac}}\n",
    "    $$\n",
    "    When $b^{2}\\gg4ac$, the square root and its preceding term nearly cancel for one of the roots. Consequently, subtractive cancellation (and consequently an increase in error) arises. Consider the following equations:  \n",
    "    (1) $x^2-1000.001x+1=0$;  \n",
    "    (2) $x^2-10000.0001x+1=0$;  \n",
    "    (3) $x^2-100000.00001x+1=0$;  \n",
    "    (4) $x^2-1000000.000001x+1=0$.  \n",
    "\n",
    "    (a) Using the appropriate method to find the roots of the equations.  \n"
   ]
  },
  {
   "cell_type": "code",
   "execution_count": null,
   "metadata": {},
   "outputs": [],
   "source": [
    "# zx ===========================================\n",
    "# 可以随意修改分割线的名称\n",
    "\n",
    "# hjh ===========================================\n",
    "# 可以随意修改分割线的名称\n",
    "\n",
    "# cdy ===========================================\n"
   ]
  },
  {
   "cell_type": "markdown",
   "metadata": {},
   "source": [
    "   (b) Determine the absolute and relative errors for your results. "
   ]
  },
  {
   "cell_type": "code",
   "execution_count": null,
   "metadata": {},
   "outputs": [],
   "source": []
  }
 ]
}