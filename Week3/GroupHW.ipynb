{
 "cells": [
  {
   "cell_type": "markdown",
   "metadata": {},
   "source": [
    "### Group Assignment\n",
    "\n",
    "1. The quadratic equation $ax^{2}+bx+c=0$ has an analytic solution that can be written as either \n",
    "    $$\n",
    "    x_{1,2}=\\frac{-b\\pm\\sqrt{b^{2}-4ac}}{2a}\\text{ or }x_{1,2}=\\frac{-2c}{-b\\pm\\sqrt{b^{2}-4ac}}\n",
    "    $$\n",
    "    When $b^{2}\\gg4ac$, the square root and its preceding term nearly cancel for one of the roots. Consequently, subtractive cancellation (and consequently an increase in error) arises. Consider the following equations:  \n",
    "    (1) $x^2-1000.001x+1=0$;  \n",
    "    (2) $x^2-10000.0001x+1=0$;  \n",
    "    (3) $x^2-100000.00001x+1=0$;  \n",
    "    (4) $x^2-1000000.000001x+1=0$.  \n",
    "\n",
    "    (a) Using the appropriate method to find the roots of the equations.  \n",
    "\n"
   ]
  },
  {
   "cell_type": "code",
   "execution_count": 9,
   "metadata": {},
   "outputs": [],
   "source": [
    "import numpy as np\n",
    "\n",
    "para1 = [1, -1000.001, 1]\n",
    "para2 = [1, -10000.0001, 1]\n",
    "para3 = [1, -100000.00001, 1]\n",
    "para4 = [1, -1000000.000001, 1]\n",
    "\n",
    "real_solution = np.array([[1000, 0.001], [10000, 0.0001], [100000, 0.00001], [1000000, 0.000001]])\n",
    "def error(result, real):\n",
    "    abs_err = 0\n",
    "    rela_err = 0\n",
    "    for i in len(result):\n",
    "        err = (result - real)**2\n",
    "        abs_err += err\n",
    "        rela_err += err / real**2\n",
    "\n",
    "    return np.sqrt(abs_err), np.sqrt(rela_err) \n"
   ]
  },
  {
   "cell_type": "code",
   "execution_count": 9,
   "metadata": {},
   "outputs": [
    {
     "name": "stdout",
     "output_type": "stream",
     "text": [
      "Solution for (1): 1000.0000000000000000000000000000000000000000,0.0010000000000000000208166817117216851329\n",
      "Solution for (2): 10000.0000000000000000000000000000000000000000,0.0001000000000000000047921736023859295983\n",
      "Solution for (3): 100000.0000000000000000000000000000000000000000,0.0000100000000000000008180305391403130955\n",
      "Solution for (4): 1000000.0000000000000000000000000000000000000000,0.0000009999999999999999547481118258862587\n"
     ]
    }
   ],
   "source": [
    "# 牛顿法 by 张晰 ===========================================\n",
    "def newton_method(quad , x_temp , x_last = float('inf')):\n",
    "    if quad[1]**2 - 4 * quad[0] * quad[2] < 0:         #判断是否有根\n",
    "        return False\n",
    "    \n",
    "    quad[1] = quad[1] / quad[0]\n",
    "    quad[2] = quad[2] / quad[0]     #标准化二次函数的系数\n",
    "    quad[0] = 1                     \n",
    "    \n",
    "    tolerance = 1e-19\n",
    "    \n",
    "    if abs (( x_temp - x_last ) / x_temp ) < tolerance:     #若满足精度，就返回x_temp\n",
    "        return x_temp\n",
    "    else:\n",
    "        x_last = x_temp\n",
    "        x_temp = ( x_temp ** 2 - quad[2] ) / ( 2 * x_temp + quad[1] )   #不满足误差要求则将x0处切线的零点带入\n",
    "        return newton_method(quad,x_temp,x_last)\n",
    "\n",
    "for i in range(4):\n",
    "    quad = eval('para'+ str( i + 1 ))\n",
    "    quad\n",
    "    print(f'Solution for ({i+1:d}): {newton_method(quad,10000000):.40f},{newton_method(quad,-10):.40f}')\n",
    "    print()\n"
   ]
  },
  {
   "cell_type": "code",
   "execution_count": 18,
   "metadata": {},
   "outputs": [
    {
     "output_type": "stream",
     "name": "stdout",
     "text": "The roots for formula [x^2-1000.001x+1 = 0] are: 0.0010000000000000000208166817117216851329, 1000.0000000000000000000000000000000000000000\nThe roots for formula [x^2-10000.0001x+1 = 0] are: 0.0000999999999999993407183429550144637687, 9999.9999999999981810105964541435241699218750\nThe roots for formula [x^2-100000.00001x+1 = 0] are: 0.0000099999999999992029129942255893936931, 100000.0000000000000000000000000000000000000000\nThe roots for formula [x^2-1000000.000001x+1 = 0] are: 0.0000009999999999998591355206307984548886, 1000000.0000000000000000000000000000000000000000\n"
    }
   ],
   "source": [
    "# 二分法 by 黄靖涵 ===========================================\n",
    "def dichotomy(a,b,c):\n",
    "    # In this task, a = c = 1, b>>1. Thus one root near 0 while the other near -b.\n",
    "    def find_sol(left,right):\n",
    "        tolerance = 1e-18\n",
    "        while abs(right-left) >= tolerance: \n",
    "            mid = (right+left)/2\n",
    "            l = binomial(left)\n",
    "            r = binomial(right)\n",
    "            if l == 0:\n",
    "                sol = left\n",
    "                break\n",
    "            elif r == 0:\n",
    "                sol = right\n",
    "                break\n",
    "            m = binomial(mid)\n",
    "        \n",
    "            if l*r > 0:\n",
    "                sol = 'No solution'\n",
    "                break\n",
    "            elif m == 0:\n",
    "                sol = mid\n",
    "                break\n",
    "            elif m*l < 0:\n",
    "                right = mid\n",
    "            elif m*r < 0:\n",
    "                left = mid\n",
    "                sol = mid\n",
    "        return sol\n",
    "\n",
    "    def binomial(x):\n",
    "        y = a*x**2 + b*x + c\n",
    "        return(y)\n",
    "    \n",
    "    sol_left = find_sol(left=-abs(b),right=abs(b/2))\n",
    "    sol_right = find_sol(right=abs(b),left=abs(b/2))\n",
    "    return sol_left,sol_right\n",
    "\n",
    "for idx in [para1,para2,para3,para4]:\n",
    "    solution = dichotomy(idx[0],idx[1],idx[2])\n",
    "    print(\"The roots for formula [x^2{}x+1 = 0] are: {:.40f}, {:.40f}\".format(idx[1],solution[0],solution[1]))    "
   ]
  },
  {
   "cell_type": "code",
   "execution_count": 7,
   "metadata": {},
   "outputs": [
    {
     "name": "stdout",
     "output_type": "stream",
     "text": [
      "Solution of (1): 1000.0000000000000000000000000000000000000000, 0.0010000000000000000208166817117216851329\n",
      "Solution of (2): 10000.0000000000000000000000000000000000000000, 0.0001000000000000000047921736023859295983\n",
      "Solution of (3): 100000.0000000000000000000000000000000000000000, 0.0000100000000000000008180305391403130955\n",
      "Solution of (4): 1000000.0000000000000000000000000000000000000000, 0.0000009999999999999999547481118258862587\n"
     ]
    }
   ],
   "source": [
    "# 求根公式法 by 陈丹扬 ==============================\n",
    "def PresiceSolutionByFormula(parameter):\n",
    "    a, b, c = parameter\n",
    "    delta = np.sqrt(b**2 - 4*a*c)\n",
    "    if b >= 0:\n",
    "        dom = -b - delta\n",
    "        return dom / 2 / a, 2 * c / dom\n",
    "    else:\n",
    "        dom = -b + delta\n",
    "        return dom / 2 / a, 2 * c / dom\n",
    "\n",
    "solution = PresiceSolutionByFormula(para1)\n",
    "print(\"Solution of (1): {:.40f}, {:.40f}\".format(solution[0], solution[1]))\n",
    "solution = PresiceSolutionByFormula(para2)\n",
    "print(\"Solution of (2): {:.40f}, {:.40f}\".format(solution[0], solution[1]))\n",
    "solution = PresiceSolutionByFormula(para3)\n",
    "print(\"Solution of (3): {:.40f}, {:.40f}\".format(solution[0], solution[1]))\n",
    "solution = PresiceSolutionByFormula(para4)\n",
    "print(\"Solution of (4): {:.40f}, {:.40f}\".format(solution[0], solution[1]))"
   ]
  },
  {
   "cell_type": "markdown",
   "metadata": {},
   "source": [
    "   (b) Determine the absolute and relative errors for your results. "
   ]
  },
  {
   "cell_type": "code",
   "execution_count": null,
   "metadata": {},
   "outputs": [],
   "source": [
    "\n",
    "\n",
    "\n",
    "# 牛顿法 ===========================================\n"
   ]
  },
  {
   "cell_type": "code",
   "execution_count": null,
   "metadata": {},
   "outputs": [],
   "source": [
    "# hjh ===========================================\n",
    "# 可以随意修改分割线的名称\n"
   ]
  },
  {
   "cell_type": "code",
   "execution_count": null,
   "metadata": {},
   "outputs": [],
   "source": [
    "# cdy ===========================================\n"
   ]
  },
  {
   "cell_type": "markdown",
   "metadata": {},
   "source": [
    "2. Several mathematical constants are used very frequently in science, such as $\\pi$,  $e$, and the Euler constant $\\gamma= \\displaystyle\\lim_{n\\rightarrow\\infty}\\left(\\displaystyle\\sum_{k=1}^n k^{-1}-\\ln n\\right)$.   \n",
    "  Find **three** ways of creating each of $\\pi$, $e$, and $\\gamma$ in a code. After considering language specifications, numerical accuracy, and efficiency, which way of creating each of them is most appropriate? If we need to use such a constant many times in a program, should the constant be created once and stored under a variable to be used over and over again, or should it be created/accessed every time it is needed?\n"
   ]
  },
  {
   "cell_type": "code",
   "execution_count": null,
   "metadata": {},
   "outputs": [],
   "source": [
    "# pi ============================================\n",
    "\n",
    "\n"
   ]
  },
  {
   "cell_type": "code",
   "execution_count": null,
   "metadata": {},
   "outputs": [],
   "source": [
    "# e ============================================\n"
   ]
  },
  {
   "cell_type": "code",
   "execution_count": null,
   "metadata": {},
   "outputs": [],
   "source": [
    "# gamma ============================================"
   ]
  }
 ],
 "metadata": {
  "file_extension": ".py",
  "kernelspec": {
   "display_name": "Python 3",
   "language": "python",
   "name": "python3"
  },
  "language_info": {
   "codemirror_mode": {
    "name": "ipython",
    "version": 3
   },
   "file_extension": ".py",
   "mimetype": "text/x-python",
   "name": "python",
   "nbconvert_exporter": "python",
   "pygments_lexer": "ipython3",
   "version": "3.7.4-final"
  },
  "mimetype": "text/x-python",
  "name": "python",
  "npconvert_exporter": "python",
  "pygments_lexer": "ipython3",
  "version": 3
 },
 "nbformat": 4,
 "nbformat_minor": 2
}