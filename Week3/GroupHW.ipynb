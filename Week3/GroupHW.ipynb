{
 "cells": [
  {
   "cell_type": "markdown",
   "metadata": {},
   "source": [
    "### Group Assignment\n",
    "\n",
    "1. The quadratic equation $ax^{2}+bx+c=0$ has an analytic solution that can be written as either \n",
    "    $$\n",
    "    x_{1,2}=\\frac{-b\\pm\\sqrt{b^{2}-4ac}}{2a}\\text{ or }x_{1,2}=\\frac{-2c}{-b\\pm\\sqrt{b^{2}-4ac}}\n",
    "    $$\n",
    "    When $b^{2}\\gg4ac$, the square root and its preceding term nearly cancel for one of the roots. Consequently, subtractive cancellation (and consequently an increase in error) arises. Consider the following equations:  \n",
    "    (1) $x^2-1000.001x+1=0$;  \n",
    "    (2) $x^2-10000.0001x+1=0$;  \n",
    "    (3) $x^2-100000.00001x+1=0$;  \n",
    "    (4) $x^2-1000000.000001x+1=0$.  \n",
    "\n",
    "####    (a) Using the appropriate method to find the roots of the equations.  \n",
    "\n"
   ]
  },
  {
   "cell_type": "code",
   "execution_count": 3,
   "metadata": {},
   "outputs": [],
   "source": [
    "import numpy as np\n",
    "\n",
    "para1 = [1, -1000.001, 1]\n",
    "para2 = [1, -10000.0001, 1]\n",
    "para3 = [1, -100000.00001, 1]\n",
    "para4 = [1, -1000000.000001, 1]\n"
   ]
  },
  {
   "cell_type": "code",
   "execution_count": 5,
   "metadata": {},
   "outputs": [
    {
     "name": "stdout",
     "output_type": "stream",
     "text": [
      "Solution for (1): 1000.0000000000000000000000000000000000000000,\t 0.0010000000000000000208166817117216851329\n",
      "Solution for (2): 10000.0000000000000000000000000000000000000000,\t 0.0001000000000000000047921736023859295983\n",
      "Solution for (3): 100000.0000000000000000000000000000000000000000,\t 0.0000100000000000000008180305391403130955\n",
      "Solution for (4): 1000000.0000000000000000000000000000000000000000,\t 0.0000009999999999999999547481118258862587\n"
     ]
    }
   ],
   "source": [
    "# zx ===========================================\n",
    "# 牛顿法\n",
    "def newton_method(quad , x_temp , x_last = float('inf')):\n",
    "    if quad[1]**2 - 4 * quad[0] * quad[2] < 0:         #判断是否有根\n",
    "        return False\n",
    "    \n",
    "    quad[1] = quad[1] / quad[0]\n",
    "    quad[2] = quad[2] / quad[0]     #标准化二次函数的系数\n",
    "    quad[0] = 1                     \n",
    "    \n",
    "    tolerance = 1e-19\n",
    "    \n",
    "    if abs (( x_temp - x_last ) / x_temp ) < tolerance:     #若满足精度，就返回x_temp\n",
    "        return x_temp\n",
    "    else:\n",
    "        x_last = x_temp\n",
    "        x_temp = ( x_temp ** 2 - quad[2] ) / ( 2 * x_temp + quad[1] )   #不满足误差要求则将x0处切线的零点带入\n",
    "        return newton_method(quad,x_temp,x_last)\n",
    "\n",
    "for i in range(4):\n",
    "    quad = eval('para'+ str( i + 1 ))\n",
    "    print(f'Solution for ({i+1:d}): {newton_method(quad,10000000):.40f},\\t {newton_method(quad,-16):.40f}')"
   ]
  },
  {
   "cell_type": "code",
   "execution_count": 19,
   "metadata": {},
   "outputs": [
    {
     "name": "stdout",
     "output_type": "stream",
     "text": [
      "For [x^2-1000.001x+1 = 0]: x1 = 0.0009999999999999956840079917697039491031, x2 = 1000.0000000000000000000000000000000000000000\n",
      "For [x^2-10000.0001x+1 = 0]: x1 = 0.0000999999999999961694269884349139942969, x2 = 9999.9999999999981810105964541435241699218750\n",
      "For [x^2-100000.00001x+1 = 0]: x1 = 0.0000099999999999922538546949513094119766, x2 = 100000.0000000000000000000000000000000000000000\n",
      "For [x^2-1000000.000001x+1 = 0]: x1 = 0.0000009999999999955163976000580006164853, x2 = 1000000.0000000000000000000000000000000000000000\n"
     ]
    }
   ],
   "source": [
    "# hjh ===========================================\n",
    "def dichotomy(a,b,c):\n",
    "    # In this task, a = c = 1, b>>1. Thus one root near 0 while the other near -b.\n",
    "    def find_sol(left,right):\n",
    "        last_mid = left\n",
    "        while abs(right-left) >= 0.00000000000000001: \n",
    "            mid = (right+left)/2\n",
    "\n",
    "            l = binomial(left)\n",
    "            r = binomial(right)\n",
    "            if l == 0:\n",
    "                sol = left\n",
    "                break\n",
    "            elif r == 0:\n",
    "                sol = right\n",
    "                break\n",
    "            m = binomial(mid)\n",
    "        \n",
    "            if l*r > 0:\n",
    "                sol = 'No solution'\n",
    "                break\n",
    "            elif m == 0:\n",
    "                sol = mid\n",
    "                break\n",
    "            elif m*l < 0:\n",
    "                right = mid\n",
    "            elif m*r < 0:\n",
    "                left = mid\n",
    "                sol = mid\n",
    "            approximate_error = (sol - last_mid) / sol\n",
    "            last_mid = sol\n",
    "        return sol,approximate_error\n",
    "\n",
    "    def binomial(x):\n",
    "        y = a*x**2 + b*x + c\n",
    "        return(y)\n",
    "    \n",
    "    sol_left = find_sol(left=-abs(b),right=abs(b/2)) # the first term is root, the other is a_error\n",
    "    sol_right = find_sol(right=abs(b),left=abs(b/2))\n",
    "    return sol_left[0],sol_right[0],sol_left[1],sol_right[1]\n",
    "    \n",
    "left_error,right_error,x1,x2 = [],[],[],[]\n",
    "for idx in [para1,para2,para3,para4]:\n",
    "    solution = dichotomy(idx[0],idx[1],idx[2])\n",
    "    x1.append(solution[0])\n",
    "    x2.append(solution[1])\n",
    "    left_error.append(solution[2])\n",
    "    right_error.append(solution[3])\n",
    "    print(\"For [x^2{}x+1 = 0]: x1 = {:.40f}, x2 = {:.40f}\".format(idx[1],solution[0],solution[1]))     "
   ]
  },
  {
   "cell_type": "code",
   "execution_count": 5,
   "metadata": {},
   "outputs": [
    {
     "name": "stdout",
     "output_type": "stream",
     "text": [
      "Solution of (1): 1000.0000000000000000000000000000000000000000, 0.0010000000000000000208166817117216851329\n",
      "Solution of (2): 10000.0000000000000000000000000000000000000000, 0.0001000000000000000047921736023859295983\n",
      "Solution of (3): 100000.0000000000000000000000000000000000000000, 0.0000100000000000000008180305391403130955\n",
      "Solution of (4): 1000000.0000000000000000000000000000000000000000, 0.0000009999999999999999547481118258862587\n"
     ]
    }
   ],
   "source": [
    "# Use formula directly ==============================\n",
    "def PresiceSolutionByFormula(parameter):\n",
    "    a, b, c = parameter\n",
    "    delta = np.sqrt(b**2 - 4*a*c)\n",
    "    if b >= 0:\n",
    "        dom = -b - delta\n",
    "        return dom / 2 / a, 2 * c / dom\n",
    "    else:\n",
    "        dom = -b + delta\n",
    "        return dom / 2 / a, 2 * c / dom\n",
    "\n",
    "solution = PresiceSolutionByFormula(para1)\n",
    "print(\"Solution of (1): {:.16f}, {:.16f}\".format(solution[0], solution[1]))\n",
    "solution = PresiceSolutionByFormula(para2)\n",
    "print(\"Solution of (2): {:.16f}, {:.16f}\".format(solution[0], solution[1]))\n",
    "solution = PresiceSolutionByFormula(para3)\n",
    "print(\"Solution of (3): {:.16f}, {:.16f}\".format(solution[0], solution[1]))\n",
    "solution = PresiceSolutionByFormula(para4)\n",
    "print(\"Solution of (4): {:.16f}, {:.16f}\".format(solution[0], solution[1]))"
   ]
  },
  {
   "cell_type": "markdown",
   "metadata": {},
   "source": [
    "  #### (b) Determine the absolute and relative errors for your results. "
   ]
  },
  {
   "cell_type": "markdown",
   "metadata": {},
   "source": [
    "**牛顿法**  \n",
    "\n",
    "|No.|True Value 1|Approximation 1|Absolute Error 1|Relative Error 1|\n",
    "|:--:|---------:|-------:|--------:|--------:| \n",
    "|1  |1000      |1000    |0        |0        |\n",
    "|2|10000|10000|0|0|\n",
    "|3|100000|100000|0|0|\n",
    "|4|1000000|1000000|0|0|\n",
    "\n",
    "|No.|True Value 2|Approximation 2|Absolute Error 2|Relative Error 2|\n",
    "|:--:|:---------:|:-------:|:--------:|:--------| \n",
    "|1| 0.001|0.0010000000000000000208166817117216851329|2.08166817117216851329e-20|2.0817e-17|\n",
    "|2|0.0001 |0.0001000000000000000047921736023859295983|4.7921736023859295983e-21|4.7922e-17|\n",
    "|3|0.00001 |0.0000100000000000000008180305391403130955|8.180305391403130955e-22 |8.1803e-17|\n",
    "|4|0.000001|0.0000009999999999999999547481118258862587|4.525188817411374e-23|4.5353e-17|\n",
    "\n",
    "看起来误差完全来源于机器对浮点数储存精度的限制"
   ]
  },
  {
   "cell_type": "code",
   "execution_count": 20,
   "metadata": {},
   "outputs": [
    {
     "name": "stdout",
     "output_type": "stream",
     "text": [
      "The relative error for binary search method is: \n",
      "\n",
      "[x^2-1000.001x+1 = 0]: x1: 0.0000000000000052041704279304433713411196, x2: 0.0000000000000018189894035458580914172120 \n",
      "\n",
      "[x^2-10000.0001x+1 = 0]: x1: 0.0000000000000000000000000000000000000000, x2: 0.0000000000000000000000000000000000000000 \n",
      "\n",
      "[x^2-100000.00001x+1 = 0]: x1: 0.0000000000007941780913462471327116887963, x2: 0.0000000000000000000000000000000000000000 \n",
      "\n",
      "[x^2-1000000.000001x+1 = 0]: x1: 0.0000000000000000000000000000000000000000, x2: 0.0000000000000000000000000000000000000000 \n",
      "\n",
      "The absolute error for binary search method is: \n",
      "\n",
      "[x^2-1000.001x+1 = 0]: x1: 0.0000000000000043368086899420177360298112, x2: 0.0000000000000000000000000000000000000000 \n",
      "\n",
      "[x^2-10000.0001x+1 = 0]: x1: 0.0000000000000383536518516747193530136428, x2: 0.0000000000000001818989403545856562999208 \n",
      "\n",
      "[x^2-100000.00001x+1 = 0]: x1: 0.0000000000007746963335587829891376918908, x2: 0.0000000000000000000000000000000000000000 \n",
      "\n",
      "[x^2-1000000.000001x+1 = 0]: x1: 0.0000000000044835571480538252697733980767, x2: 0.0000000000000000000000000000000000000000 \n",
      "\n"
     ]
    }
   ],
   "source": [
    "# hjh ===========================================\n",
    "print(\"The relative error for binary search method is: \\n\")\n",
    "for idx,para in enumerate([para1,para2,para3,para4]):\n",
    "    print(\"[x^2{}x+1 = 0]: x1: {}, x2: {} \\n\".format(para[1],left_error[idx],right_error[idx]))\n",
    "\n",
    "x1_true = [0.001,0.0001,0.00001,0.000001]\n",
    "x2_true = [1000,10000,100000,1000000]\n",
    "print(\"The absolute error for binary search method is: \\n\")\n",
    "for idx,para in enumerate([para1,para2,para3,para4]):\n",
    "    x1_e = abs(x1[idx]-x1_true[idx])/x1_true[idx]\n",
    "    x2_e = abs(x2[idx]-x2_true[idx])/x2_true[idx]\n",
    "    print(\"[x^2{}x+1 = 0]: x1: {}, x2: {} \\n\".format(para[1],x1_e,x2_e))\n"
   ]
  },
  {
   "cell_type": "code",
   "execution_count": 7,
   "metadata": {},
   "outputs": [
    {
     "output_type": "stream",
     "name": "stdout",
     "text": "Absolute error:\n(1): 0.00e+00, 0.00e+00\n(2): 0.00e+00, 0.00e+00\n(3): 0.00e+00, 0.00e+00\n(4): 0.00e+00, 0.00e+00\nRelative error:\n(1): 0.00e+00, 0.00e+00\n(2): 0.00e+00, 0.00e+00\n(3): 0.00e+00, 0.00e+00\n(4): 0.00e+00, 0.00e+00\n"
    }
   ],
   "source": [
    "# 直接公式法 ===========================================\n",
    "relative_err = []\n",
    "abs_err = []\n",
    "for i in range(4):\n",
    "    abs_err.append([abs(solution_formula[i][0] - x2_true[i]), abs(solution_formula[i][1] - x1_true[i])])\n",
    "    relative_err.append([abs_err[i][0] / x2_true[i], abs_err[i][1] / x1_true[i]])\n",
    "\n",
    "print(\"Absolute error:\")\n",
    "for i in range(4):\n",
    "    print(f\"({i+1:d}): {abs_err[i][0]:.2e}, {abs_err[i][1]:.2e}\")\n",
    "print(\"Relative error:\")\n",
    "for i in range(4):\n",
    "    print(f\"({i+1:d}): {relative_err[i][0]:.2e}, {relative_err[i][1]:.2e}\")"
   ]
  },
  {
   "cell_type": "markdown",
   "metadata": {},
   "source": [
    "2. Several mathematical constants are used very frequently in science, such as $\\pi$,  $e$, and the Euler constant $\\gamma= \\displaystyle\\lim_{n\\rightarrow\\infty}\\left(\\displaystyle\\sum_{k=1}^n k^{-1}-\\ln n\\right)$.   \n",
    "  Find **three** ways of creating each of $\\pi$, $e$, and $\\gamma$ in a code. After considering language specifications, numerical accuracy, and efficiency, which way of creating each of them is most appropriate? If we need to use such a constant many times in a program, should the constant be created once and stored under a variable to be used over and over again, or should it be created/accessed every time it is needed?\n"
   ]
  },
  {
   "cell_type": "code",
   "execution_count": 6,
   "metadata": {},
   "outputs": [],
   "source": [
    "# pi ============================================"
   ]
  },
  {
   "cell_type": "markdown",
   "metadata": {},
   "source": [
    "#### Method 1.Leibniz formula\n",
    "\n",
    "$$\n",
    "\\begin{aligned}\n",
    "\\frac{\\pi}{4} &= \\displaystyle \\sum^{\\infty}_{n = 1}(-1)^{n-1}{\\frac{1}{2n-1}} \\\\[6pt]\n",
    "&= \\displaystyle \\sum^{\\infty}_{n=1} \\frac{2}{(4n-3)(4n-1)} \\\\[6pt]\n",
    "\\end{aligned}\n",
    "$$\n",
    "\n",
    "#### Method 2.Normal polygon approximation\n",
    "#### Method 3.Monte Carlo method \n",
    "The area ratio of a square and its inscribed circle is $\\frac{4}{\\pi}$, so randomly select N points, the final number of points locate in the circle will be $\\frac{\\pi}{4}N$. "
   ]
  },
  {
   "cell_type": "code",
   "execution_count": 2,
   "metadata": {},
   "outputs": [
    {
     "output_type": "stream",
     "name": "stdout",
     "text": "Method 1: pi = 3.141592613941011, error = 1.262059929699138e-08\nMethod 2: pi = 3.141592653458526, error = 4.178358296132251e-11\nMethod 3: pi = 3.141926,error = 0.00010610745789279805\n"
    }
   ],
   "source": [
    "import numpy as np\n",
    "pi = np.pi\n",
    "# Method1\n",
    "pi1, n, a_error, tolerance = 0, 1, 100, 1e-15 # Initialize\n",
    "while a_error > tolerance:\n",
    "    pi1 = pi1 + 8/((4*n-3)*(4*n-1))\n",
    "    a_error =  8/((4*n-3)*(4*n-1))/pi1\n",
    "    n = n + 1\n",
    "error1 = abs(pi1-pi)/pi\n",
    "print(\"Method 1: pi = {}, error = {}\".format(pi1,error1))\n",
    "\n",
    "# Method 2\n",
    "pi2, N, a_error, tolerance = [0,0], 3, 100, 1e-25 # Initialize\n",
    "idx = 0\n",
    "while a_error > tolerance:\n",
    "    pi2[0] = pi2[1]\n",
    "    pi2[1] = N*2*0.5*np.sin(np.pi/N)\n",
    "    a_error = (pi2[1] - pi2[0]) / pi2[1]\n",
    "    N += 1\n",
    "error2 = abs(pi2[1]-pi)/pi\n",
    "print(\"Method 2: pi = {}, error = {}\".format(pi2[1],error2))\n",
    "\n",
    "# Method 3\n",
    "import random\n",
    "x, N, runs = [0,0], 0, int(1e7)\n",
    "# The side of the square is 1\n",
    "for n in range(1,runs):\n",
    "    x[0],x[1] = random.random(), random.random()\n",
    "    dis = (x[0]-0.5)**2 + (x[1]-0.5)**2\n",
    "    if dis < 0.25:\n",
    "        N += 1\n",
    "\n",
    "pi3 = 4 * N / runs\n",
    "error3 = abs(pi3-pi)/pi\n",
    "print(\"Method 3: pi = {},error = {}\".format(pi3,error3))\n",
    "print(\"Method 2 has the best accuracy and efficiency. Although method 3 is interestin, it requires more iteration to achieve best accuracy, which is not efficient. If i am using MATLAB, i can use parfor to improve the speed.\")"
   ]
  },
  {
   "cell_type": "code",
   "execution_count": 9,
   "metadata": {},
   "outputs": [
    {
     "name": "stdout",
     "output_type": "stream",
     "text": [
      "Taylor's Formula:        2.71828182828616871\n",
      "limit defination:        2.71828046909575338\n",
      "integral from 1 to e:    2.71828300001813350\n",
      "e in numpy:              2.71828182845904509\n"
     ]
    }
   ],
   "source": [
    "# e ============================================\n",
    "#method 1 Taylor's Formula\n",
    "# e^1 = 1 + 1 + 1/2 + 1/3! + ...\n",
    "def Taylor_e(precision):\n",
    "    e = 1\n",
    "    i = 0\n",
    "    factorial = 1\n",
    "    while 1/factorial > precision:\n",
    "        i += 1\n",
    "        factorial *= i\n",
    "        e += 1/factorial\n",
    "    return e\n",
    "\n",
    "#method 2 limit defination\n",
    "def limit_e(n):\n",
    "    return (1+1/n)**n\n",
    "\n",
    "#method 3 integral\n",
    "# \\int_1^e 1/x dx = 1, so ,we just need to find the up limit\n",
    "def integral_e(step=1e-6):\n",
    "    sum = 0\n",
    "    e = 1\n",
    "    while sum < 1.0:\n",
    "        e += step\n",
    "        sum += step * 1/e\n",
    "    return e\n",
    "\n",
    "print(f'Taylor\\'s Formula:        {Taylor_e(1e-8):.17f}')\n",
    "print(f'limit defination:        {limit_e(1000000):.17f}')   \n",
    "print(f'integral from 1 to e:    {integral_e():.17f}')\n",
    "print(f'e in numpy:              {np.e:.17f}')"
   ]
  },
  {
   "cell_type": "code",
   "execution_count": null,
   "metadata": {},
   "outputs": [
    {
     "output_type": "stream",
     "name": "stdout",
     "text": "Definition: 0.57737373434625994\n"
    }
   ],
   "source": [
    "# gamma ============================================\n",
    "# method by definition\n",
    "def EulerDef(precision):\n",
    "    last_value = -999\n",
    "    err = 999\n",
    "    n = 1\n",
    "    while err >= 0.5 * precision:\n",
    "        summation = 0\n",
    "        for k in range(n):\n",
    "            summation += 1/(k+1)\n",
    "        gamma = summation - np.log(n)\n",
    "        err = np.abs(gamma - last_value)\n",
    "        last_value = gamma\n",
    "        n += 1\n",
    "    return gamma\n",
    "print(f\"Definition: {EulerDef(1e-7):.17f}\")\n",
    "\n",
    "# Integration form\n",
    "def EulerInt()"
   ]
  },
  {
   "cell_type": "code",
   "execution_count": null,
   "metadata": {},
   "outputs": [],
   "source": []
  }
 ],
 "metadata": {
  "file_extension": ".py",
  "kernelspec": {
   "display_name": "Python 3",
   "language": "python",
   "name": "python3"
  },
  "language_info": {
   "codemirror_mode": {
    "name": "ipython",
    "version": 3
   },
   "file_extension": ".py",
   "mimetype": "text/x-python",
   "name": "python",
   "nbconvert_exporter": "python",
   "pygments_lexer": "ipython3",
   "version": "3.7.4-final"
  },
  "mimetype": "text/x-python",
  "name": "python",
  "npconvert_exporter": "python",
  "pygments_lexer": "ipython3",
  "version": 3
 },
 "nbformat": 4,
 "nbformat_minor": 2
}