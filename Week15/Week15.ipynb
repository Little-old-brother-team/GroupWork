{
 "cells": [
  {
   "cell_type": "markdown",
   "metadata": {},
   "source": [
    "# Assignment Week 15\n",
    "## Group 3"
   ]
  },
  {
   "cell_type": "markdown",
   "metadata": {},
   "source": [
    "1.  Use the finite difference method to solve the given boundary problem using step sizes $h=0.1$ and $h=0.01.$ Plot your two approximate solutions and the actual solutions on the same coordinate system.\n",
    "    (1) $x^{\\prime\\prime}=2x^{\\prime}-x+t^{2}-1$ over $\\left[  0,1\\right]$ with $x\\left(  0\\right)  =5$ and $x\\left(  1\\right)  =10,$ $x\\left(  t\\right) =t^{2}+4t+5$.\n",
    "\n",
    "    (2) $x^{\\prime\\prime}+\\left(  1/t\\right)  x^{\\prime}+(1-1/\\left(\n",
    "       4t^{2}\\right)  )x=0$ over $\\left[  1,6\\right]$ with $x\\left(  1\\right)  =1$ and $x\\left(  6\\right)  =0,$ $x\\left(  t\\right)  =\\dfrac{0.2913843206\\cos   \\left(  t\\right)  +1.01299385\\sin\\left(  t\\right)  }{\\sqrt{t}}$.\n"
   ]
  },
  {
   "cell_type": "code",
   "execution_count": null,
   "metadata": {},
   "outputs": [],
   "source": []
  },
  {
   "cell_type": "markdown",
   "metadata": {},
   "source": [
    "2. Solve the boundary value problem\n",
    "    $$\n",
    "    u_{xx} + 4u_x + e^xu = \\sin(8x)\n",
    "    $$\n",
    "   numerically on $[-1, 1]$ with boundary conditions $u(\\pm1) = 0$."
   ]
  },
  {
   "cell_type": "code",
   "execution_count": null,
   "metadata": {},
   "outputs": [],
   "source": []
  },
  {
   "cell_type": "markdown",
   "metadata": {},
   "source": [
    "3. Apply the matrix representation method to solve Morse oscillator. The one-dimensional time-independent Schrödinger equation is given as: \n",
    "   $$\n",
    "   -\\frac{\\hbar^2}{2m}\\frac{d^2\\psi(x)}{dx^2}+V(x)\\psi(x)=E\\psi(x)\n",
    "   $$\n",
    "   where Morse potential is defined as\n",
    "   $$\n",
    "   V(x)=D(1-e^{-\\beta x})\n",
    "   $$\n",
    "   The analytical solutions are  determined as\n",
    "   $$\\begin{aligned}\n",
    "   E_n & = \\hbar\\omega_0\\left(n+\\frac{1}{2}\\right)-\\frac{\\hbar^2\\omega_0^2}{4D}\\left(n+\\frac{1}{2}\\right)^2,\\quad n=0,1,\\cdots\\\\\n",
    "\\omega_0^2&=\\frac{2D\\beta^2}{m}\n",
    "   \\end{aligned}$$\n",
    "   (1) Set $m=1$, $D=1$, $\\beta=0.3$. Please write the script to calculate the five lowest energies numerically.  How do the results change with the increase of the size of the matrices? \n",
    "   (2) Please plot the corresponding wave functions of the five lowest-energy states.\n",
    "\n",
    "   Hint: For simplicity, $\\hbar=1$. \n"
   ]
  },
  {
   "cell_type": "code",
   "execution_count": null,
   "metadata": {},
   "outputs": [],
   "source": []
  },
  {
   "cell_type": "markdown",
   "metadata": {},
   "source": [
    "4.  Apply the shooting method or the matching method to calculate the first few energy levels and the associated wave functions for a potential of the form\n",
    "    $$\n",
    "    V = \\frac{1}{2}k_1x^2+\\frac{1}{2}k_2{x^4}\n",
    "    $$\n",
    "    For small $x$ the first $(k_1)$ term dominates, and the behavior is close to that found for the harmonic oscillator, while for large $x$ the second $(k_2)$ term dominates and the behavior is anharmonic. \n",
    "    You can set $k_1=1$, $k_2=0.1$. $\\hbar=m=1$."
   ]
  },
  {
   "cell_type": "code",
   "execution_count": null,
   "metadata": {},
   "outputs": [],
   "source": []
  },
  {
   "cell_type": "markdown",
   "metadata": {},
   "source": [
    "5.  (Optional) Apply the matching method to obtain the energy eigenvalues and wave functions for the ground state and the first few excited states for the one-dimensional Lennard-Jones potential, which is given as\n",
    "    $$\n",
    "    V(x)=4\\epsilon\\left[\\left(\\frac{\\sigma}{x}\\right)^{12}-\\left(\\frac{\\sigma}{x}\\right)^{6}\\right]\n",
    "    $$\n",
    "    with $\\epsilon=10$ and $\\sigma=1$. The integrations can be started at $x_L=0.5$ (on the left) and $x_R=5$ (on the right) with $\\Delta x=0.01$. The matching point shall be chosen near the minimum of the potential because the absolute value of wave function approaches its maximum there."
   ]
  },
  {
   "cell_type": "code",
   "execution_count": null,
   "metadata": {},
   "outputs": [],
   "source": []
  },
  {
   "cell_type": "markdown",
   "metadata": {},
   "source": [
    "6. (Optional) Many three-dimensional quantum mechanics problems can be reduced effectively to one- or two-dimensional problems. For example, the hydrogen atom is three dimensional, however, the spherical symmetry makes it possible to write the wave function in the form\n",
    "   $$\n",
    "   \\psi(r,\\theta,\\varphi)=R(r)Y(\\theta,\\varphi)\n",
    "   $$ \n",
    "   It is common practice to deal instead with the related function $U(r)$, \n",
    "   $$\n",
    "   U(r) = rR(r)\n",
    "   $$\n",
    "   which satisfies the equation\n",
    "   $$\n",
    "   \\frac{d^2 U(r)}{dr^2}=\\left(2[V(r)-E]+\\frac{l(l+1)}{r^2}\\right)\n",
    "   U(r) \\quad\\quad (1)\n",
    "   $$\n",
    "   where $V(r)=-1/r$ is the Coulomb potential and $l$ is an integer associated with the angular momentum of the electron, $l=0,1,\\cdots$. Employ the shooting method to solve Eq.(1) for $U(r)$ starting the integration at $r=0$ with the initial value $U(r)=0$. Consider the cases $l=0$ and $l=1$ and compare your results with the analytic solutions for the hydrogen atom. \n",
    "   Hint: The energies of the bound states are given by $-1/2n^2$, where $n=1,2,\\cdots$."
   ]
  },
  {
   "cell_type": "code",
   "execution_count": null,
   "metadata": {},
   "outputs": [],
   "source": []
  },
  {
   "cell_type": "markdown",
   "metadata": {},
   "source": [
    "7. (Optional) Employ the central finite difference method to solve the BVP defined by\n",
    "   $$\n",
    "   -\\nabla^2 u=20\\cos(3\\pi x)\\sin(2\\pi y)\n",
    "   $$\n",
    "   on a unit square with boundary conditions\n",
    "   $$\\begin{cases}\n",
    "   u(0,y)=y^2\\\\\n",
    "   u(1,y)=1\\\\\n",
    "   u(x,0)=x^3\\\\\n",
    "   u(x,1)=1\n",
    "   \\end{cases}\n",
    "   $$"
   ]
  },
  {
   "cell_type": "code",
   "execution_count": null,
   "metadata": {},
   "outputs": [],
   "source": []
  },
  {
   "cell_type": "markdown",
   "metadata": {},
   "source": [
    "8. One way to calculate $\\pi$ is by randomly throwing a dart into the unit square defined by $x \\in [0, 1]$ and $y\\in [0, 1]$ in the $xy$ plane. The chance of the dart landing inside the unit circle centered at the origin of the coordinates is $\\pi/4$, from the comparison of the areas of one quarter of the circle and the unit square. Write a program to calculate $\\pi$ in such a manner."
   ]
  },
  {
   "cell_type": "code",
   "execution_count": null,
   "metadata": {},
   "outputs": [],
   "source": []
  }
 ],
 "metadata": {
  "kernelspec": {
   "display_name": "Python 3",
   "language": "python",
   "name": "python3"
  },
  "language_info": {
   "codemirror_mode": {
    "name": "ipython",
    "version": 3
   },
   "file_extension": ".py",
   "mimetype": "text/x-python",
   "name": "python",
   "nbconvert_exporter": "python",
   "pygments_lexer": "ipython3",
   "version": "3.7.0"
  }
 },
 "nbformat": 4,
 "nbformat_minor": 2
}
